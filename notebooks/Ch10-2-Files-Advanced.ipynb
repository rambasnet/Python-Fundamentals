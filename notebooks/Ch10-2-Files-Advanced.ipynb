{
 "cells": [
  {
   "cell_type": "markdown",
   "metadata": {},
   "source": [
    "# Advanced Topics on Files\n",
    "\n",
    "<a href=\"https://colab.research.google.com/github/rambasnet/Python-Fundamentals/blob/master/notebooks/Ch10-2-Files-Advanced.ipynb\" target=\"_parent\"><img src=\"https://colab.research.google.com/assets/colab-badge.svg\" alt=\"Open In Colab\"/></a>\n",
    "\n",
    "This folder contains advanced topics on files including:\n",
    "- downloading files from web\n",
    "- parsing HTML files\n",
    "- working with binary files"
   ]
  },
  {
   "cell_type": "markdown",
   "metadata": {},
   "source": [
    "## Working with HTML files\n",
    "- fetch an HTML page from web\n",
    "- parse the HTML file with BeautifulSoup library"
   ]
  },
  {
   "cell_type": "code",
   "execution_count": 1,
   "metadata": {},
   "outputs": [
    {
     "data": {
      "text/plain": [
       "('teaching.html', <http.client.HTTPMessage at 0x7fb266020190>)"
      ]
     },
     "execution_count": 1,
     "metadata": {},
     "output_type": "execute_result"
    }
   ],
   "source": [
    "# fetch an html page\n",
    "import urllib.request\n",
    "url = 'https://rambasnet.github.io/teaching.html'\n",
    "localfile = 'teaching.html'\n",
    "urllib.request.urlretrieve(url, localfile)"
   ]
  },
  {
   "cell_type": "code",
   "execution_count": 2,
   "metadata": {},
   "outputs": [
    {
     "name": "stdout",
     "output_type": "stream",
     "text": [
      "There are 528 words in the file.\n"
     ]
    }
   ],
   "source": [
    "with open(localfile) as f:\n",
    "    data = f.read()\n",
    "words = data.split(' ')\n",
    "print('There are {0} words in the file.'.format(len(words)))"
   ]
  },
  {
   "cell_type": "markdown",
   "metadata": {},
   "source": [
    "## parsing HTML using BeautifulSoup library\n",
    "- install Beautifulsoup library\n",
    "```bash\n",
    "    $ pip install bs4\n",
    "```\n",
    "- https://www.crummy.com/software/BeautifulSoup/bs4/doc/#\n",
    "- Alternative is nltk (Natural Language Toolkit) library\n",
    "- http://www.nltk.org/\n",
    "\n",
    "## Installing Parsers\n",
    "- supports the HTML parser included in Python’s standard library\n",
    "- also supports a number of third-party Python parsers such as very fast `lxml` parser"
   ]
  },
  {
   "cell_type": "code",
   "execution_count": 3,
   "metadata": {},
   "outputs": [
    {
     "name": "stdout",
     "output_type": "stream",
     "text": [
      "Requirement already satisfied: bs4 in /Users/rbasnet/miniconda3/lib/python3.8/site-packages (0.0.1)\r\n",
      "Requirement already satisfied: beautifulsoup4 in /Users/rbasnet/miniconda3/lib/python3.8/site-packages (from bs4) (4.9.3)\r\n",
      "Requirement already satisfied: soupsieve>1.2 in /Users/rbasnet/miniconda3/lib/python3.8/site-packages (from beautifulsoup4->bs4) (2.0.1)\r\n"
     ]
    }
   ],
   "source": [
    "# can run terminal/bash commands from notebook using !\n",
    "! pip install bs4"
   ]
  },
  {
   "cell_type": "code",
   "execution_count": 4,
   "metadata": {},
   "outputs": [
    {
     "name": "stdout",
     "output_type": "stream",
     "text": [
      "Requirement already satisfied: lxml in /Users/rbasnet/miniconda3/lib/python3.8/site-packages (4.6.1)\r\n"
     ]
    }
   ],
   "source": [
    "# install lxml parser\n",
    "! pip install lxml"
   ]
  },
  {
   "cell_type": "code",
   "execution_count": 5,
   "metadata": {},
   "outputs": [
    {
     "name": "stdout",
     "output_type": "stream",
     "text": [
      "Dr. Ram BasnetAssociate Professor of Computer ScienceHomeTeachingResearchResourcesContactTeachingTeaching InterestsCybersecurityPython, C++, JavaScript, DatabasesData Science and ML ApplicationsWeb Design and Secure Web App DevelopmentCourses Taught at CMUCSCI 106- Web Design I  6CSCI 100- Beg. Python  8CSCI 111- CS1  10CSCI 112- CS2  7CSCI 206- Web2  2CSCI 250- CS3  3CSCI 310- Adv. Python  9CSCI 310- Adv. JavaScript  2CSCI 370- Computer Security  5CSCI 420- Cybersecurity  7CSCI 465- Net/App Security  7CSCI 396- Machine Learning  1FALL 2021 SCHEDULETimeMonTuesWedThrsFri9:00Off. Hr.CH 3299-9:50Off. Hr.CH 3299-9:50Off. Hr.CH 3299-9:50Off. Hr.CH 3299-9:50Off. Hr.CH 3299-9:509:3010:00     10:30     11:00Net/App SecCH 31511-11:50 Net/App SecCH 31511-11:50 Net/App SecCH 31511-11:5011:30  12:00     12:30     1:00CS1WS 1201-1:50CS1WS 1201-1:50CS1WS 1201-1:50CS1WS 1201-1:50CS1WS 1201-1:501:302:00     2:30     3:00 PythonCH 2763-3:50 PythonCH 2763-3:50 3:30   4:00     | Home | Teaching | Research | Resources | Contact |    © 2021\n"
     ]
    }
   ],
   "source": [
    "from bs4 import BeautifulSoup\n",
    "localfile = 'teaching.html'\n",
    "with open(localfile) as f:\n",
    "    #soup = BeautifulSoup(f, 'lxml') # used to but now not working!\n",
    "    soup = BeautifulSoup(f, 'html.parser')\n",
    "text = soup.get_text()\n",
    "print(text)"
   ]
  },
  {
   "cell_type": "code",
   "execution_count": 6,
   "metadata": {},
   "outputs": [],
   "source": [
    "# break into lines and remove leading and trailing space on each line\n",
    "lines = [line.strip() for line in text.splitlines()]"
   ]
  },
  {
   "cell_type": "code",
   "execution_count": 7,
   "metadata": {},
   "outputs": [
    {
     "name": "stdout",
     "output_type": "stream",
     "text": [
      "['Dr. Ram BasnetAssociate Professor of Computer ScienceHomeTeachingResearchResourcesContactTeachingTeaching InterestsCybersecurityPython, C++, JavaScript, DatabasesData Science and ML ApplicationsWeb Design and Secure Web App DevelopmentCourses Taught at CMUCSCI 106- Web Design I \\xa06CSCI 100- Beg. Python \\xa08CSCI 111- CS1 \\xa010CSCI 112- CS2 \\xa07CSCI 206- Web2 \\xa02CSCI 250- CS3 \\xa03CSCI 310- Adv. Python \\xa09CSCI 310- Adv. JavaScript \\xa02CSCI 370- Computer Security \\xa05CSCI 420- Cybersecurity \\xa07CSCI 465- Net/App Security \\xa07CSCI 396- Machine Learning \\xa01FALL 2021 SCHEDULETimeMonTuesWedThrsFri9:00Off. Hr.CH 3299-9:50Off. Hr.CH 3299-9:50Off. Hr.CH 3299-9:50Off. Hr.CH 3299-9:50Off. Hr.CH 3299-9:509:3010:00\\xa0\\xa0\\xa0\\xa0\\xa010:30\\xa0\\xa0\\xa0\\xa0\\xa011:00Net/App SecCH 31511-11:50\\xa0Net/App SecCH 31511-11:50\\xa0Net/App SecCH 31511-11:5011:30\\xa0\\xa012:00\\xa0\\xa0\\xa0\\xa0\\xa012:30\\xa0\\xa0\\xa0\\xa0\\xa01:00CS1WS 1201-1:50CS1WS 1201-1:50CS1WS 1201-1:50CS1WS 1201-1:50CS1WS 1201-1:501:302:00\\xa0\\xa0\\xa0\\xa0\\xa02:30\\xa0\\xa0\\xa0\\xa0\\xa03:00\\xa0PythonCH 2763-3:50\\xa0PythonCH 2763-3:50\\xa03:30\\xa0\\xa0\\xa04:00\\xa0\\xa0\\xa0\\xa0\\xa0|\\xa0Home\\xa0|\\xa0Teaching\\xa0|\\xa0Research\\xa0|\\xa0Resources\\xa0|\\xa0Contact\\xa0| \\xa0\\xa0 © 2021']\n"
     ]
    }
   ],
   "source": [
    "print(lines[:20])"
   ]
  },
  {
   "cell_type": "code",
   "execution_count": 8,
   "metadata": {},
   "outputs": [],
   "source": [
    "# create list of words by spliting multi-word elements\n",
    "words = [word.strip().lower() for line in lines for word in line.split()]"
   ]
  },
  {
   "cell_type": "code",
   "execution_count": 9,
   "metadata": {},
   "outputs": [
    {
     "name": "stdout",
     "output_type": "stream",
     "text": [
      "['dr.', 'ram', 'basnetassociate', 'professor', 'of', 'computer', 'sciencehometeachingresearchresourcescontactteachingteaching', 'interestscybersecuritypython,', 'c++,', 'javascript,', 'databasesdata', 'science', 'and', 'ml', 'applicationsweb', 'design', 'and', 'secure', 'web', 'app']\n"
     ]
    }
   ],
   "source": [
    "print(words[:20])"
   ]
  },
  {
   "cell_type": "code",
   "execution_count": 10,
   "metadata": {},
   "outputs": [
    {
     "name": "stdout",
     "output_type": "stream",
     "text": [
      "There are 119 words in the file.\n"
     ]
    }
   ],
   "source": [
    "print('There are {0} words in the file.'.format(len(words)))"
   ]
  },
  {
   "cell_type": "markdown",
   "metadata": {},
   "source": [
    "## Find histogram of words\n",
    "- use DefaultDict found in collections module\n",
    "- https://docs.python.org/3/library/collections.html"
   ]
  },
  {
   "cell_type": "code",
   "execution_count": 11,
   "metadata": {},
   "outputs": [],
   "source": [
    "from collections import defaultdict"
   ]
  },
  {
   "cell_type": "code",
   "execution_count": 12,
   "metadata": {},
   "outputs": [],
   "source": [
    "hist = defaultdict(int)\n",
    "for w in words:\n",
    "    hist[w] += 1"
   ]
  },
  {
   "cell_type": "code",
   "execution_count": 13,
   "metadata": {},
   "outputs": [],
   "source": [
    "# convert dict into a list of tuples\n",
    "listHist = [(k, v) for k, v in hist.items()]"
   ]
  },
  {
   "cell_type": "code",
   "execution_count": 14,
   "metadata": {},
   "outputs": [
    {
     "name": "stdout",
     "output_type": "stream",
     "text": [
      "[('dr.', 1), ('ram', 1), ('basnetassociate', 1), ('professor', 1), ('of', 1), ('computer', 2), ('sciencehometeachingresearchresourcescontactteachingteaching', 1), ('interestscybersecuritypython,', 1), ('c++,', 1), ('javascript,', 1)]\n"
     ]
    }
   ],
   "source": [
    "# print first 10 words and their frequency\n",
    "print(listHist[:10])"
   ]
  },
  {
   "cell_type": "code",
   "execution_count": 15,
   "metadata": {},
   "outputs": [],
   "source": [
    "# sort list based on frequency in reverse order\n",
    "listHist.sort(key = lambda x: x[1], reverse=True)"
   ]
  },
  {
   "cell_type": "code",
   "execution_count": 16,
   "metadata": {},
   "outputs": [
    {
     "name": "stdout",
     "output_type": "stream",
     "text": [
      "[('|', 6), ('hr.ch', 5), ('3299-9:50off.', 4), ('1201-1:50cs1ws', 4), ('7csci', 3), ('net/app', 3), ('secch', 3), ('computer', 2), ('and', 2), ('design', 2)]\n"
     ]
    }
   ],
   "source": [
    "# print the top 10 most frequent words\n",
    "print(listHist[:10])"
   ]
  },
  {
   "cell_type": "markdown",
   "metadata": {},
   "source": [
    "### Use Counter collection\n",
    "- easier way!"
   ]
  },
  {
   "cell_type": "code",
   "execution_count": 17,
   "metadata": {},
   "outputs": [],
   "source": [
    "from collections import Counter"
   ]
  },
  {
   "cell_type": "code",
   "execution_count": 18,
   "metadata": {},
   "outputs": [],
   "source": [
    "hist = Counter(words)"
   ]
  },
  {
   "cell_type": "code",
   "execution_count": 19,
   "metadata": {},
   "outputs": [
    {
     "data": {
      "text/plain": [
       "[('|', 6),\n",
       " ('hr.ch', 5),\n",
       " ('3299-9:50off.', 4),\n",
       " ('1201-1:50cs1ws', 4),\n",
       " ('7csci', 3),\n",
       " ('net/app', 3),\n",
       " ('secch', 3),\n",
       " ('computer', 2),\n",
       " ('and', 2),\n",
       " ('design', 2)]"
      ]
     },
     "execution_count": 19,
     "metadata": {},
     "output_type": "execute_result"
    }
   ],
   "source": [
    "hist.most_common(10)"
   ]
  },
  {
   "cell_type": "markdown",
   "metadata": {},
   "source": [
    "## working with binary files\n",
    "- the following example copies a binary file such as image"
   ]
  },
  {
   "cell_type": "code",
   "execution_count": 20,
   "metadata": {},
   "outputs": [],
   "source": [
    "fileSrc = './resources/brain.jpg'\n",
    "fileDst = 'brain-copy.jpg'\n",
    "with open(fileSrc, 'rb') as rbf: \n",
    "    #rb - read binary mode\n",
    "    data = rbf.read() # read the whole binary file\n",
    "    with open(fileDst, 'wb') as wbf:\n",
    "        wbf.write(data) # write the whole binary file"
   ]
  },
  {
   "cell_type": "markdown",
   "metadata": {},
   "source": [
    "## use checksum to compare if two files match exactly!\n",
    "- checksum makes sure that not a single bit is different between the two files\n",
    "- used in security\n",
    "- import and use hashlib - https://docs.python.org/3/library/hashlib.html"
   ]
  },
  {
   "cell_type": "code",
   "execution_count": 21,
   "metadata": {},
   "outputs": [
    {
     "name": "stdout",
     "output_type": "stream",
     "text": [
      "two files' checksums match!\n"
     ]
    }
   ],
   "source": [
    "import hashlib\n",
    "file1Contents = open(fileSrc, 'rb').read()\n",
    "file2Contents = open(fileDst, 'rb').read()\n",
    "\n",
    "file1ChkSum = hashlib.sha256(file1Contents).hexdigest()\n",
    "file2ChkSum = hashlib.sha256(file2Contents).hexdigest()\n",
    "if (file1ChkSum == file2ChkSum):\n",
    "    print('two files\\' checksums match!')\n",
    "else:\n",
    "    print('oops! two files\\' checksums do NOT match!')"
   ]
  },
  {
   "cell_type": "markdown",
   "metadata": {},
   "source": [
    "## Python object serialization with pickle library\n",
    "- https://docs.python.org/3/library/pickle.html\n",
    "- pickle module implements binary protocols for serializing and de-serializing a Python object\n",
    "- Pickling - serializing python object\n",
    "- Unpickling - deserializing python object (inverse operation)\n",
    "- Unpickling untrusted picked files could have security implications\n",
    "    - e.g., executing system commands; installing and executing third-party malicious packages and modules; etc.\n",
    "    - for more: https://owasp.org/www-project-top-ten/2017/A8_2017-Insecure_Deserialization\n",
    "   "
   ]
  },
  {
   "cell_type": "code",
   "execution_count": 22,
   "metadata": {},
   "outputs": [],
   "source": [
    "import pickle\n",
    "alist = list(range(2, 21, 2))"
   ]
  },
  {
   "cell_type": "code",
   "execution_count": 23,
   "metadata": {},
   "outputs": [
    {
     "name": "stdout",
     "output_type": "stream",
     "text": [
      "[2, 4, 6, 8, 10, 12, 14, 16, 18, 20]\n"
     ]
    }
   ],
   "source": [
    "print(alist)"
   ]
  },
  {
   "cell_type": "code",
   "execution_count": 24,
   "metadata": {},
   "outputs": [],
   "source": [
    "# let's pickle alist; serialize a list\n",
    "pickleFile = 'myPickle.pkl'\n",
    "with open(pickleFile, 'wb') as p:\n",
    "    pickle.dump(alist, p)"
   ]
  },
  {
   "cell_type": "code",
   "execution_count": 25,
   "metadata": {},
   "outputs": [],
   "source": [
    "# lets unpickle alist; deserialize a list\n",
    "with open(pickleFile, 'rb') as p:\n",
    "    blist = pickle.load(p)"
   ]
  },
  {
   "cell_type": "code",
   "execution_count": 26,
   "metadata": {},
   "outputs": [
    {
     "data": {
      "text/plain": [
       "True"
      ]
     },
     "execution_count": 26,
     "metadata": {},
     "output_type": "execute_result"
    }
   ],
   "source": [
    "alist == blist"
   ]
  },
  {
   "cell_type": "code",
   "execution_count": 27,
   "metadata": {},
   "outputs": [],
   "source": [
    "# dump Counter\n",
    "with open('wordCounter.pkl', 'wb') as p:\n",
    "    pickle.dump(hist, p)\n",
    "    "
   ]
  },
  {
   "cell_type": "code",
   "execution_count": 28,
   "metadata": {},
   "outputs": [],
   "source": [
    "# load pickle\n",
    "with open('wordCounter.pkl', 'rb') as p:\n",
    "    newHist = pickle.load(p)"
   ]
  },
  {
   "cell_type": "code",
   "execution_count": 29,
   "metadata": {},
   "outputs": [
    {
     "data": {
      "text/plain": [
       "True"
      ]
     },
     "execution_count": 29,
     "metadata": {},
     "output_type": "execute_result"
    }
   ],
   "source": [
    "hist == newHist"
   ]
  },
  {
   "cell_type": "code",
   "execution_count": 30,
   "metadata": {},
   "outputs": [
    {
     "data": {
      "text/plain": [
       "[('|', 6), ('hr.ch', 5), ('3299-9:50off.', 4)]"
      ]
     },
     "execution_count": 30,
     "metadata": {},
     "output_type": "execute_result"
    }
   ],
   "source": [
    "newHist.most_common(3)"
   ]
  },
  {
   "cell_type": "code",
   "execution_count": null,
   "metadata": {},
   "outputs": [],
   "source": []
  }
 ],
 "metadata": {
  "kernelspec": {
   "display_name": "Python 3",
   "language": "python",
   "name": "python3"
  },
  "language_info": {
   "codemirror_mode": {
    "name": "ipython",
    "version": 3
   },
   "file_extension": ".py",
   "mimetype": "text/x-python",
   "name": "python",
   "nbconvert_exporter": "python",
   "pygments_lexer": "ipython3",
   "version": "3.8.11"
  }
 },
 "nbformat": 4,
 "nbformat_minor": 2
}
