{
 "cells": [
  {
   "cell_type": "markdown",
   "metadata": {},
   "source": [
    "# Dynamic Programming (DP)\n",
    "<a href=\"https://colab.research.google.com/github/rambasnet/Python-Fundamentals/blob/master/notebooks/Ch25-DynamicProgramming.ipynb\" target=\"_parent\"><img src=\"https://colab.research.google.com/assets/colab-badge.svg\" alt=\"Open In Colab\"/></a>\n",
    "\n",
    "- https://www.cs.cmu.edu/~avrim/451f09/lectures/lect1001.pdf\n",
    "- https://www.geeksforgeeks.org/overlapping-subproblems-property-in-dynamic-programming-dp-1/\n",
    "- commonly used and powerful optimization technique that allows you to solve many different types of problemns in time $O(n^2)$ or $O(n^3)$ for which a naive approach would take exponential time\n",
    "- two main properties of a problem that warrents DP solution:\n",
    "    1. Overlapping Subproblems\n",
    "    2. Optimal Substructures"
   ]
  },
  {
   "cell_type": "markdown",
   "metadata": {},
   "source": [
    "## Overlapping Subproblems\n",
    "- problem combines solutions from many overlapping sub-problems\n",
    "- DP is not useful when there are no common (overlapping) subproblems\n",
    "- computed solutions to sub-problems are stored in a look-up table to avoid recomputation\n",
    "- slighlty different from **Divide and Conquer** technqiue\n",
    "    - divide the problems into smaller non-overlapping subproblems and solve them independently\n",
    "    - e.g.: merge sort and quick sort\n",
    "\n",
    "## Optimal Substructures\n",
    "- optimal solution of the given problem can be obtained by using optimal solutions of its subproblems"
   ]
  },
  {
   "cell_type": "markdown",
   "metadata": {},
   "source": [
    "## 2 Types of DP solutions\n",
    "\n",
    "## 1. Top-Down (Memoization)\n",
    "- based on the Latin word memorandum, meaning \"to be remembered\" <img src=\"./resources/brain.jpg\" width=\"25%\" style=\"float:right\">\n",
    "- similar to word memorization, its a technique used in coding to improve program runtime by memorizing intermediate solutions\n",
    "- using dict type lookup data structure, one can memorize intermediate results of subproblems\n",
    "- tpically recursion use top-down approach\n",
    "\n",
    "### Process\n",
    "- start solving the given problem by breaking it down\n",
    "- first check to see if the given problem has been solved already\n",
    "    - if so, return the saved answer\n",
    "    - if not, solve it and save the answer\n",
    "    \n",
    "## 2. Bottom-Up (Tabulation)\n",
    "- start solving from the trivial subproblem\n",
    "- store the results in a table/list/array\n",
    "- move up towards the given problem by using the results of subproblems\n",
    "- typically iterative solutions uses bottom-up approach"
   ]
  },
  {
   "cell_type": "markdown",
   "metadata": {},
   "source": [
    "### simple recursive fib function\n",
    "- recall, fibonacci definition is recursive and has many common/overlapping subproblems\n",
    "<img src=\"resources/recursion-fib.svg\">"
   ]
  },
  {
   "cell_type": "code",
   "execution_count": 1,
   "metadata": {},
   "outputs": [
    {
     "name": "stdout",
     "output_type": "stream",
     "text": [
      "fib at 30th position = 832040\n",
      "fib function count = 1664079\n"
     ]
    }
   ],
   "source": [
    "count = 0\n",
    "def fib(n):\n",
    "    global count\n",
    "    count += 1\n",
    "    if n <= 2:\n",
    "        return 1\n",
    "    f = fib(n-1) + fib(n-2)\n",
    "    return f\n",
    "\n",
    "n=30 #40, 50? takes a while\n",
    "print(\"fib at {}th position = {}\".format(n, fib(n)))\n",
    "print(\"fib function count = {}\".format(count))"
   ]
  },
  {
   "cell_type": "code",
   "execution_count": 2,
   "metadata": {},
   "outputs": [],
   "source": [
    "# let's add looging to the function to vidualize the function call on stack\n",
    "\n",
    "import inspect\n",
    "\n",
    "def stack_depth():\n",
    "    return len(inspect.getouterframes(inspect.currentframe())) - 1"
   ]
  },
  {
   "cell_type": "code",
   "execution_count": 4,
   "metadata": {},
   "outputs": [
    {
     "name": "stdout",
     "output_type": "stream",
     "text": [
      "                       fib_stack(10) called\n",
      "                        fib_stack(9) called\n",
      "                         fib_stack(8) called\n",
      "                          fib_stack(7) called\n",
      "                           fib_stack(6) called\n",
      "                            fib_stack(5) called\n",
      "                             fib_stack(4) called\n",
      "                              fib_stack(3) called\n",
      "                               fib_stack(2) called\n",
      "                               fib_stack(1) called\n",
      "                              fib_stack(2) called\n",
      "                             fib_stack(3) called\n",
      "                              fib_stack(2) called\n",
      "                              fib_stack(1) called\n",
      "                            fib_stack(4) called\n",
      "                             fib_stack(3) called\n",
      "                              fib_stack(2) called\n",
      "                              fib_stack(1) called\n",
      "                             fib_stack(2) called\n",
      "                           fib_stack(5) called\n",
      "                            fib_stack(4) called\n",
      "                             fib_stack(3) called\n",
      "                              fib_stack(2) called\n",
      "                              fib_stack(1) called\n",
      "                             fib_stack(2) called\n",
      "                            fib_stack(3) called\n",
      "                             fib_stack(2) called\n",
      "                             fib_stack(1) called\n",
      "                          fib_stack(6) called\n",
      "                           fib_stack(5) called\n",
      "                            fib_stack(4) called\n",
      "                             fib_stack(3) called\n",
      "                              fib_stack(2) called\n",
      "                              fib_stack(1) called\n",
      "                             fib_stack(2) called\n",
      "                            fib_stack(3) called\n",
      "                             fib_stack(2) called\n",
      "                             fib_stack(1) called\n",
      "                           fib_stack(4) called\n",
      "                            fib_stack(3) called\n",
      "                             fib_stack(2) called\n",
      "                             fib_stack(1) called\n",
      "                            fib_stack(2) called\n",
      "                         fib_stack(7) called\n",
      "                          fib_stack(6) called\n",
      "                           fib_stack(5) called\n",
      "                            fib_stack(4) called\n",
      "                             fib_stack(3) called\n",
      "                              fib_stack(2) called\n",
      "                              fib_stack(1) called\n",
      "                             fib_stack(2) called\n",
      "                            fib_stack(3) called\n",
      "                             fib_stack(2) called\n",
      "                             fib_stack(1) called\n",
      "                           fib_stack(4) called\n",
      "                            fib_stack(3) called\n",
      "                             fib_stack(2) called\n",
      "                             fib_stack(1) called\n",
      "                            fib_stack(2) called\n",
      "                          fib_stack(5) called\n",
      "                           fib_stack(4) called\n",
      "                            fib_stack(3) called\n",
      "                             fib_stack(2) called\n",
      "                             fib_stack(1) called\n",
      "                            fib_stack(2) called\n",
      "                           fib_stack(3) called\n",
      "                            fib_stack(2) called\n",
      "                            fib_stack(1) called\n",
      "                        fib_stack(8) called\n",
      "                         fib_stack(7) called\n",
      "                          fib_stack(6) called\n",
      "                           fib_stack(5) called\n",
      "                            fib_stack(4) called\n",
      "                             fib_stack(3) called\n",
      "                              fib_stack(2) called\n",
      "                              fib_stack(1) called\n",
      "                             fib_stack(2) called\n",
      "                            fib_stack(3) called\n",
      "                             fib_stack(2) called\n",
      "                             fib_stack(1) called\n",
      "                           fib_stack(4) called\n",
      "                            fib_stack(3) called\n",
      "                             fib_stack(2) called\n",
      "                             fib_stack(1) called\n",
      "                            fib_stack(2) called\n",
      "                          fib_stack(5) called\n",
      "                           fib_stack(4) called\n",
      "                            fib_stack(3) called\n",
      "                             fib_stack(2) called\n",
      "                             fib_stack(1) called\n",
      "                            fib_stack(2) called\n",
      "                           fib_stack(3) called\n",
      "                            fib_stack(2) called\n",
      "                            fib_stack(1) called\n",
      "                         fib_stack(6) called\n",
      "                          fib_stack(5) called\n",
      "                           fib_stack(4) called\n",
      "                            fib_stack(3) called\n",
      "                             fib_stack(2) called\n",
      "                             fib_stack(1) called\n",
      "                            fib_stack(2) called\n",
      "                           fib_stack(3) called\n",
      "                            fib_stack(2) called\n",
      "                            fib_stack(1) called\n",
      "                          fib_stack(4) called\n",
      "                           fib_stack(3) called\n",
      "                            fib_stack(2) called\n",
      "                            fib_stack(1) called\n",
      "                           fib_stack(2) called\n",
      "fib at 10th position = 55\n"
     ]
    }
   ],
   "source": [
    "def fib_stack(n):\n",
    "    print(f'{\" \"*stack_depth()}fib_stack({n}) called')\n",
    "    if n <= 2:\n",
    "        return 1\n",
    "    f = fib_stack(n-1) + fib_stack(n-2)\n",
    "    return f\n",
    "\n",
    "n=10 # big number takes longer and output will not look as great\n",
    "print(\"fib at {}th position = {}\".format(n, fib_stack(n)))"
   ]
  },
  {
   "cell_type": "markdown",
   "metadata": {},
   "source": [
    "### theoritical computational complexity\n",
    "- Time Complexity: $T(n)$ = time to calculate Fib(n-1) + Fib(n-2) + time to add them: O(1)\n",
    "- using Big-Oh (O) notation for upper-bound:\n",
    "    - $T(n) = T(n-1) + T(n-2) + O(1)$\n",
    "    - $T(n) = O(2^{n-1}) + O(2^{n-2}) + O(1)$\n",
    "    - $T(n) = O(2^n)$\n",
    "   \n",
    "    **precisely**\n",
    "    - $T(n) = O(1.6)^n$\n",
    "    \n",
    "        - 1.6... is called golden ratio - https://www.mathsisfun.com/numbers/golden-ratio.html\n",
    "- Space Complexity = $O(n)$ due to call stack"
   ]
  },
  {
   "cell_type": "code",
   "execution_count": 5,
   "metadata": {},
   "outputs": [
    {
     "name": "stdout",
     "output_type": "stream",
     "text": [
      "0.2583559870000016\n"
     ]
    }
   ],
   "source": [
    "#print(globals())\n",
    "import timeit\n",
    "print(timeit.timeit('fib(30)', number=1, globals=globals()))\n",
    "# big difference between 30 and 40"
   ]
  },
  {
   "cell_type": "markdown",
   "metadata": {},
   "source": [
    "### memoized recursive fib function"
   ]
  },
  {
   "cell_type": "code",
   "execution_count": 6,
   "metadata": {},
   "outputs": [],
   "source": [
    "count = 0\n",
    "def MemoizedFib(memo, n):\n",
    "    global count\n",
    "    count += 1\n",
    "    if n <= 1:\n",
    "        return 1\n",
    "    if n in memo:\n",
    "        return memo[n]\n",
    "    memo[n] = MemoizedFib(memo, n-1) + MemoizedFib(memo, n-2)\n",
    "    return memo[n]"
   ]
  },
  {
   "cell_type": "code",
   "execution_count": 7,
   "metadata": {},
   "outputs": [
    {
     "name": "stdout",
     "output_type": "stream",
     "text": [
      "fib at 1000th position = 70330367711422815821835254877183549770181269836358732742604905087154537118196933579742249494562611733487750449241765991088186363265450223647106012053374121273867339111198139373125598767690091902245245323403501\n",
      "fib function called 1999 times.\n"
     ]
    }
   ],
   "source": [
    "memo = {}\n",
    "n=1000 #try 40, 50, 60, 100, 500, 10000, ...\n",
    "print(\"fib at {}th position = {}\".format(n, MemoizedFib(memo, n)))\n",
    "print(\"fib function called {} times.\".format(count))   "
   ]
  },
  {
   "cell_type": "code",
   "execution_count": 8,
   "metadata": {},
   "outputs": [
    {
     "name": "stdout",
     "output_type": "stream",
     "text": [
      "0.0007638900000017657\n"
     ]
    }
   ],
   "source": [
    "# let's time the MemoizedFib(1000)\n",
    "import timeit\n",
    "memo = {}\n",
    "n=1000\n",
    "print(timeit.timeit('MemoizedFib(memo, n)', number=1, globals=globals()))"
   ]
  },
  {
   "cell_type": "markdown",
   "metadata": {},
   "source": [
    "## using function decorator @cache\n",
    "- no need to write our own caching mechanism\n",
    "- @cache is new in Python 3.9; so update python to 3.9 if necessary\n",
    "- NOTE - works only for subsequent calls not the first time recrusion is called!"
   ]
  },
  {
   "cell_type": "code",
   "execution_count": 9,
   "metadata": {},
   "outputs": [
    {
     "name": "stdout",
     "output_type": "stream",
     "text": [
      "/Users/rbasnet/miniconda3/envs/py/bin/python\n"
     ]
    }
   ],
   "source": [
    "! which python"
   ]
  },
  {
   "cell_type": "code",
   "execution_count": 10,
   "metadata": {},
   "outputs": [
    {
     "name": "stdout",
     "output_type": "stream",
     "text": [
      "Python 3.9.7\n"
     ]
    }
   ],
   "source": [
    "! python --version"
   ]
  },
  {
   "cell_type": "code",
   "execution_count": 11,
   "metadata": {},
   "outputs": [
    {
     "name": "stdout",
     "output_type": "stream",
     "text": [
      "Collecting package metadata (current_repodata.json): ...working... done\n",
      "Solving environment: ...working... done\n",
      "\n",
      "## Package Plan ##\n",
      "\n",
      "  environment location: /Users/rbasnet/miniconda3/envs/py\n",
      "\n",
      "  added / updated specs:\n",
      "    - python\n",
      "\n",
      "\n",
      "The following packages will be downloaded:\n",
      "\n",
      "    package                    |            build\n",
      "    ---------------------------|-----------------\n",
      "    anyio-2.2.0                |   py39hecd8cb5_1         125 KB\n",
      "    brotlipy-0.7.0             |py39h9ed2024_1003         333 KB\n",
      "    cryptography-35.0.0        |   py39h2fd3fbb_0         1.1 MB\n",
      "    jupyter_server-1.4.1       |   py39hecd8cb5_0         312 KB\n",
      "    notebook-6.4.5             |   py39hecd8cb5_0         4.2 MB\n",
      "    pysocks-1.7.1              |   py39hecd8cb5_0          31 KB\n",
      "    sniffio-1.2.0              |   py39hecd8cb5_1          15 KB\n",
      "    ------------------------------------------------------------\n",
      "                                           Total:         6.1 MB\n",
      "\n",
      "The following NEW packages will be INSTALLED:\n",
      "\n",
      "  importlib_metadata pkgs/main/noarch::importlib_metadata-4.8.1-hd3eb1b0_0\n",
      "\n",
      "The following packages will be REMOVED:\n",
      "\n",
      "  backports-1.0-py_2\n",
      "  backports.functools_lru_cache-1.6.4-pyhd8ed1ab_0\n",
      "  chardet-4.0.0-py39h6e9494a_1\n",
      "  pandoc-2.15-h0d85af4_0\n",
      "  python_abi-3.9-2_cp39\n",
      "  requests-unixsocket-0.2.0-py_0\n",
      "  websocket-client-0.57.0-py39h6e9494a_4\n",
      "\n",
      "The following packages will be UPDATED:\n",
      "\n",
      "  appnope            conda-forge::appnope-0.1.2-py39h6e949~ --> pkgs/main::appnope-0.1.2-py39hecd8cb5_1001\n",
      "  brotlipy           conda-forge::brotlipy-0.7.0-py39h89e8~ --> pkgs/main::brotlipy-0.7.0-py39h9ed2024_1003\n",
      "  ca-certificates    conda-forge::ca-certificates-2021.10.~ --> pkgs/main::ca-certificates-2021.10.26-hecd8cb5_2\n",
      "  charset-normalizer conda-forge::charset-normalizer-2.0.0~ --> pkgs/main::charset-normalizer-2.0.4-pyhd3eb1b0_0\n",
      "  idna                   conda-forge::idna-3.1-pyhd3deb0d_0 --> pkgs/main::idna-3.2-pyhd3eb1b0_0\n",
      "  json5               conda-forge::json5-0.9.5-pyh9f0ad1d_0 --> pkgs/main::json5-0.9.6-pyhd3eb1b0_0\n",
      "  pexpect            conda-forge::pexpect-4.8.0-pyh9f0ad1d~ --> pkgs/main::pexpect-4.8.0-pyhd3eb1b0_3\n",
      "  ptyprocess         conda-forge::ptyprocess-0.7.0-pyhd3de~ --> pkgs/main::ptyprocess-0.7.0-pyhd3eb1b0_2\n",
      "  pyopenssl          conda-forge::pyopenssl-21.0.0-pyhd8ed~ --> pkgs/main::pyopenssl-21.0.0-pyhd3eb1b0_1\n",
      "  pyrsistent         conda-forge::pyrsistent-0.17.3-py39h8~ --> pkgs/main::pyrsistent-0.18.0-py39h9ed2024_0\n",
      "  send2trash         conda-forge::send2trash-1.8.0-pyhd8ed~ --> pkgs/main::send2trash-1.8.0-pyhd3eb1b0_1\n",
      "\n",
      "The following packages will be SUPERSEDED by a higher-priority channel:\n",
      "\n",
      "  anyio              conda-forge::anyio-3.3.4-py39h6e9494a~ --> pkgs/main::anyio-2.2.0-py39hecd8cb5_1\n",
      "  argon2-cffi        conda-forge::argon2-cffi-21.1.0-py39h~ --> pkgs/main::argon2-cffi-20.1.0-py39h9ed2024_1\n",
      "  async_generator    conda-forge::async_generator-1.10-py_0 --> pkgs/main::async_generator-1.10-pyhd3eb1b0_0\n",
      "  attrs              conda-forge::attrs-21.2.0-pyhd8ed1ab_0 --> pkgs/main::attrs-21.2.0-pyhd3eb1b0_0\n",
      "  babel               conda-forge::babel-2.9.1-pyh44b312d_0 --> pkgs/main::babel-2.9.1-pyhd3eb1b0_0\n",
      "  backcall           conda-forge::backcall-0.2.0-pyh9f0ad1~ --> pkgs/main::backcall-0.2.0-pyhd3eb1b0_0\n",
      "  bleach             conda-forge::bleach-4.1.0-pyhd8ed1ab_0 --> pkgs/main::bleach-4.0.0-pyhd3eb1b0_0\n",
      "  certifi            conda-forge::certifi-2021.10.8-py39h6~ --> pkgs/main::certifi-2021.10.8-py39hecd8cb5_0\n",
      "  cffi               conda-forge::cffi-1.14.6-py39hb71fe58~ --> pkgs/main::cffi-1.14.6-py39h2125817_0\n",
      "  cryptography       conda-forge::cryptography-35.0.0-py39~ --> pkgs/main::cryptography-35.0.0-py39h2fd3fbb_0\n",
      "  debugpy            conda-forge::debugpy-1.4.1-py39h9fcab~ --> pkgs/main::debugpy-1.4.1-py39h23ab428_0\n",
      "  decorator          conda-forge::decorator-5.1.0-pyhd8ed1~ --> pkgs/main::decorator-5.1.0-pyhd3eb1b0_0\n",
      "  defusedxml         conda-forge::defusedxml-0.7.1-pyhd8ed~ --> pkgs/main::defusedxml-0.7.1-pyhd3eb1b0_0\n",
      "  entrypoints        conda-forge/noarch::entrypoints-0.3-p~ --> pkgs/main/osx-64::entrypoints-0.3-py39hecd8cb5_0\n",
      "  importlib-metadata conda-forge::importlib-metadata-4.8.1~ --> pkgs/main::importlib-metadata-4.8.1-py39hecd8cb5_0\n",
      "  ipykernel          conda-forge::ipykernel-6.4.2-py39h71a~ --> pkgs/main::ipykernel-6.4.1-py39hecd8cb5_1\n",
      "  ipython            conda-forge::ipython-7.28.0-py39h71a6~ --> pkgs/main::ipython-7.27.0-py39h01d92e1_0\n",
      "  ipython_genutils   conda-forge::ipython_genutils-0.2.0-p~ --> pkgs/main::ipython_genutils-0.2.0-pyhd3eb1b0_1\n",
      "  jedi               conda-forge::jedi-0.18.0-py39h6e9494a~ --> pkgs/main::jedi-0.18.0-py39hecd8cb5_1\n",
      "  jinja2             conda-forge::jinja2-3.0.2-pyhd8ed1ab_0 --> pkgs/main::jinja2-3.0.1-pyhd3eb1b0_0\n",
      "  jsonschema         conda-forge::jsonschema-4.1.2-pyhd8ed~ --> pkgs/main::jsonschema-3.2.0-pyhd3eb1b0_2\n",
      "  jupyter_client     conda-forge::jupyter_client-7.0.6-pyh~ --> pkgs/main::jupyter_client-7.0.1-pyhd3eb1b0_0\n",
      "  jupyter_core       conda-forge::jupyter_core-4.9.1-py39h~ --> pkgs/main::jupyter_core-4.8.1-py39hecd8cb5_0\n",
      "  jupyter_server     conda-forge/noarch::jupyter_server-1.~ --> pkgs/main/osx-64::jupyter_server-1.4.1-py39hecd8cb5_0\n",
      "  jupyterlab         conda-forge::jupyterlab-3.2.1-pyhd8ed~ --> pkgs/main::jupyterlab-3.1.7-pyhd3eb1b0_0\n",
      "  jupyterlab_pygmen~ conda-forge::jupyterlab_pygments-0.1.~ --> pkgs/main::jupyterlab_pygments-0.1.2-py_0\n",
      "  jupyterlab_server  conda-forge::jupyterlab_server-2.8.2-~ --> pkgs/main::jupyterlab_server-2.8.2-pyhd3eb1b0_0\n",
      "  libsodium          conda-forge::libsodium-1.0.18-hbcb390~ --> pkgs/main::libsodium-1.0.18-h1de35cc_0\n",
      "  markupsafe         conda-forge::markupsafe-2.0.1-py39h89~ --> pkgs/main::markupsafe-2.0.1-py39h9ed2024_0\n",
      "  matplotlib-inline  conda-forge::matplotlib-inline-0.1.3-~ --> pkgs/main::matplotlib-inline-0.1.2-pyhd3eb1b0_2\n",
      "  mistune            conda-forge::mistune-0.8.4-py39h89e85~ --> pkgs/main::mistune-0.8.4-py39h9ed2024_1000\n",
      "  nbclassic          conda-forge::nbclassic-0.3.4-pyhd8ed1~ --> pkgs/main::nbclassic-0.2.6-pyhd3eb1b0_0\n",
      "  nbclient           conda-forge::nbclient-0.5.4-pyhd8ed1a~ --> pkgs/main::nbclient-0.5.3-pyhd3eb1b0_0\n",
      "  nbconvert          conda-forge::nbconvert-6.2.0-py39h6e9~ --> pkgs/main::nbconvert-6.1.0-py39hecd8cb5_0\n",
      "  nbformat           conda-forge::nbformat-5.1.3-pyhd8ed1a~ --> pkgs/main::nbformat-5.1.3-pyhd3eb1b0_0\n",
      "  nest-asyncio       conda-forge::nest-asyncio-1.5.1-pyhd8~ --> pkgs/main::nest-asyncio-1.5.1-pyhd3eb1b0_0\n",
      "  notebook           conda-forge/noarch::notebook-6.4.5-py~ --> pkgs/main/osx-64::notebook-6.4.5-py39hecd8cb5_0\n",
      "  openssl            conda-forge::openssl-1.1.1l-h0d85af4_0 --> pkgs/main::openssl-1.1.1l-h9ed2024_0\n",
      "  packaging          conda-forge::packaging-21.0-pyhd8ed1a~ --> pkgs/main::packaging-21.0-pyhd3eb1b0_0\n",
      "  pandocfilters      conda-forge/noarch::pandocfilters-1.5~ --> pkgs/main/osx-64::pandocfilters-1.4.3-py39hecd8cb5_1\n",
      "  parso               conda-forge::parso-0.8.2-pyhd8ed1ab_0 --> pkgs/main::parso-0.8.2-pyhd3eb1b0_0\n",
      "  pickleshare        conda-forge::pickleshare-0.7.5-py_1003 --> pkgs/main::pickleshare-0.7.5-pyhd3eb1b0_1003\n",
      "  prometheus_client  conda-forge::prometheus_client-0.11.0~ --> pkgs/main::prometheus_client-0.11.0-pyhd3eb1b0_0\n",
      "  prompt-toolkit     conda-forge::prompt-toolkit-3.0.21-py~ --> pkgs/main::prompt-toolkit-3.0.20-pyhd3eb1b0_0\n",
      "  pycparser          conda-forge::pycparser-2.20-pyh9f0ad1~ --> pkgs/main::pycparser-2.20-py_2\n",
      "  pygments           conda-forge::pygments-2.10.0-pyhd8ed1~ --> pkgs/main::pygments-2.10.0-pyhd3eb1b0_0\n",
      "  pyparsing          conda-forge::pyparsing-3.0.3-pyhd8ed1~ --> pkgs/main::pyparsing-2.4.7-pyhd3eb1b0_0\n",
      "  pysocks            conda-forge::pysocks-1.7.1-py39h6e949~ --> pkgs/main::pysocks-1.7.1-py39hecd8cb5_0\n",
      "  python-dateutil    conda-forge::python-dateutil-2.8.2-py~ --> pkgs/main::python-dateutil-2.8.2-pyhd3eb1b0_0\n",
      "  pytz                conda-forge::pytz-2021.3-pyhd8ed1ab_0 --> pkgs/main::pytz-2021.3-pyhd3eb1b0_0\n",
      "  pyzmq              conda-forge::pyzmq-22.3.0-py39h7fec2f~ --> pkgs/main::pyzmq-22.2.1-py39h23ab428_1\n",
      "  requests           conda-forge::requests-2.26.0-pyhd8ed1~ --> pkgs/main::requests-2.26.0-pyhd3eb1b0_0\n",
      "  six                  conda-forge::six-1.16.0-pyh6c4a22f_0 --> pkgs/main::six-1.16.0-pyhd3eb1b0_0\n",
      "  sniffio            conda-forge::sniffio-1.2.0-py39h6e949~ --> pkgs/main::sniffio-1.2.0-py39hecd8cb5_1\n",
      "  terminado          conda-forge::terminado-0.12.1-py39h6e~ --> pkgs/main::terminado-0.9.4-py39hecd8cb5_0\n",
      "  testpath           conda-forge::testpath-0.5.0-pyhd8ed1a~ --> pkgs/main::testpath-0.5.0-pyhd3eb1b0_0\n",
      "  tornado            conda-forge::tornado-6.1-py39h89e85a6~ --> pkgs/main::tornado-6.1-py39h9ed2024_0\n",
      "  traitlets          conda-forge::traitlets-5.1.1-pyhd8ed1~ --> pkgs/main::traitlets-5.1.0-pyhd3eb1b0_0\n",
      "  urllib3            conda-forge::urllib3-1.26.7-pyhd8ed1a~ --> pkgs/main::urllib3-1.26.7-pyhd3eb1b0_0\n",
      "  wcwidth            conda-forge::wcwidth-0.2.5-pyh9f0ad1d~ --> pkgs/main::wcwidth-0.2.5-pyhd3eb1b0_0\n",
      "  webencodings       conda-forge/noarch::webencodings-0.5.~ --> pkgs/main/osx-64::webencodings-0.5.1-py39hecd8cb5_1\n",
      "  zeromq               conda-forge::zeromq-4.3.4-he49afe7_1 --> pkgs/main::zeromq-4.3.4-h23ab428_0\n",
      "  zipp                 conda-forge::zipp-3.6.0-pyhd8ed1ab_0 --> pkgs/main::zipp-3.6.0-pyhd3eb1b0_0\n",
      "\n",
      "\n",
      "\n",
      "Downloading and Extracting Packages\n",
      "brotlipy-0.7.0       | 333 KB    | ########## | 100% \n",
      "anyio-2.2.0          | 125 KB    | ########## | 100% \n",
      "notebook-6.4.5       | 4.2 MB    | ########## | 100% \n",
      "cryptography-35.0.0  | 1.1 MB    | ########## | 100% \n",
      "pysocks-1.7.1        | 31 KB     | ########## | 100% \n",
      "jupyter_server-1.4.1 | 312 KB    | ########## | 100% \n",
      "sniffio-1.2.0        | 15 KB     | ########## | 100% \n",
      "Preparing transaction: ...working... done\n",
      "Verifying transaction: ...working... done\n",
      "Executing transaction: ...working... done\n"
     ]
    }
   ],
   "source": [
    "%%bash\n",
    "# update silently without prompting\n",
    "conda update python -y"
   ]
  },
  {
   "cell_type": "code",
   "execution_count": 12,
   "metadata": {},
   "outputs": [
    {
     "name": "stdout",
     "output_type": "stream",
     "text": [
      "Python 3.9.7\n"
     ]
    }
   ],
   "source": [
    "! python --version"
   ]
  },
  {
   "cell_type": "code",
   "execution_count": 18,
   "metadata": {},
   "outputs": [],
   "source": [
    "# caching decorators are added in Python 3.9\n",
    "from functools import cache\n",
    "\n",
    "count = 0\n",
    "@cache # same as @lru_cache(maxsize=None) # by default lru_cache store 128 entries\n",
    "def cachedFib(n):\n",
    "    global count\n",
    "    count += 1\n",
    "    if n <= 1:\n",
    "        return 1\n",
    "    f = fib(n-1) + fib(n-2)\n",
    "    return f"
   ]
  },
  {
   "cell_type": "code",
   "execution_count": 22,
   "metadata": {},
   "outputs": [
    {
     "name": "stdout",
     "output_type": "stream",
     "text": [
      "1.6439998944406398e-06\n",
      "total call =  753945029\n"
     ]
    }
   ],
   "source": [
    "import timeit\n",
    "n=20\n",
    "print(timeit.timeit('cachedFib(n)', number=1, globals=globals()))\n",
    "print('total call = ', count)"
   ]
  },
  {
   "cell_type": "code",
   "execution_count": 24,
   "metadata": {},
   "outputs": [
    {
     "name": "stdout",
     "output_type": "stream",
     "text": [
      "1.1580000318645034e-06\n",
      "total call =  0\n"
     ]
    }
   ],
   "source": [
    "# second time just looks up the cache as n = 20\n",
    "count = 0\n",
    "print(timeit.timeit('cachedFib(n)', number=1, globals=globals()))\n",
    "print('total call = ', count)"
   ]
  },
  {
   "cell_type": "code",
   "execution_count": 25,
   "metadata": {},
   "outputs": [
    {
     "name": "stdout",
     "output_type": "stream",
     "text": [
      "0.25880884699995477\n",
      "total call =  1664079\n"
     ]
    }
   ],
   "source": [
    "n = 30\n",
    "count = 0\n",
    "print(timeit.timeit('cachedFib(n)', number=1, globals=globals()))\n",
    "print('total call = ', count)"
   ]
  },
  {
   "cell_type": "markdown",
   "metadata": {},
   "source": [
    "### computational complexity of memoized fib\n",
    "- Time Complexity - $O(n)$\n",
    "- Space Complexity - $O(n)$"
   ]
  },
  {
   "cell_type": "markdown",
   "metadata": {},
   "source": [
    "### normally large integer answers are reported in mod\n",
    "- mod of a farily large prime number e.g. $(10^9+7)$\n",
    "- need to know some modular arithmetic: https://www.khanacademy.org/computing/computer-science/cryptography/modarithmetic/a/modular-addition-and-subtraction\n",
    "- $(A+B) \\% C = (A \\% C + B \\% C) \\% C$\n",
    "- $(A-B) \\% C = (A \\% C - B \\% C) \\% C$\n"
   ]
  },
  {
   "cell_type": "code",
   "execution_count": 26,
   "metadata": {},
   "outputs": [],
   "source": [
    "mod = 1000000007\n",
    "def MemoizedModFib(memo, n):\n",
    "    if n <= 2:\n",
    "        return 1\n",
    "    if n in memo:\n",
    "        return memo[n]\n",
    "    memo[n] = (MemoizedFib(memo, n-1)%mod + MemoizedFib(memo, n-2)%mod)%mod\n",
    "    return memo[n]"
   ]
  },
  {
   "cell_type": "code",
   "execution_count": 27,
   "metadata": {},
   "outputs": [
    {
     "name": "stdout",
     "output_type": "stream",
     "text": [
      "fib at 1000th position = 107579939\n"
     ]
    }
   ],
   "source": [
    "memo = {}\n",
    "n=1000 #try 40, 50, 60, 100, 500, 10000, ...\n",
    "print(\"fib at {}th position = {}\".format(n, MemoizedModFib(memo, n))) "
   ]
  },
  {
   "cell_type": "markdown",
   "metadata": {},
   "source": [
    "### bottom-up (iterative) fibonacci solution\n",
    "- first calculate fib(0) then fib(1), then fib(2), fib(3), and so on"
   ]
  },
  {
   "cell_type": "code",
   "execution_count": 28,
   "metadata": {},
   "outputs": [],
   "source": [
    "def iterativeFib(n):\n",
    "    # fib array/list\n",
    "    fib = [1]*(n+1) # initialize 0..n list with 1\n",
    "    for i in range(2, n+1):\n",
    "        fib[i] = fib[i-1] + fib[i-2]\n",
    "    return fib[i]"
   ]
  },
  {
   "cell_type": "code",
   "execution_count": 29,
   "metadata": {},
   "outputs": [
    {
     "name": "stdout",
     "output_type": "stream",
     "text": [
      "0.00025684899992484134\n"
     ]
    }
   ],
   "source": [
    "n=1000\n",
    "print(timeit.timeit('iterativeFib(n)', number=1, globals=globals()))\n",
    "# is faster than recursive counterpart"
   ]
  },
  {
   "cell_type": "markdown",
   "metadata": {},
   "source": [
    "## Coin Change Problem\n",
    "- https://www.geeksforgeeks.org/understanding-the-coin-change-problem-with-dynamic-programming/\n",
    "- essential to understanding the paradigm of DP\n",
    "- a variation of problem definition:\n",
    "    - Given an infinite number of coins of various denominations such as $1$ cent (penny), $5$ cents (nickel), and $10$ cents (dime), can you determine the total number of combinations (order doesn't matter) of the coins in the given list to make up some amount $N$?\n",
    "- Example 1: \n",
    "    - Input: coins = $[1, 5, 10]$, $N = 8$\n",
    "    - Output: 2\n",
    "    - Combinations: \n",
    "        - $1 + 1 + 1 + 1+1+1+1+1 = 8$\n",
    "        - $1 + 1 + 1 + 5 = 8 $  \n",
    "- Example 2:\n",
    "    - Input: coins = $[1, 5, 10], N = 10$\n",
    "    - Output: 4\n",
    "    - Combinations:\n",
    "        - $1+1+1+1+1+1+1+1+1+1=10$\n",
    "        - $ 1+1+1+1+1+5 = 10$\n",
    "        - $ 5+5 = 10$\n",
    "        - $10 = 10$\n",
    "\n",
    "### Algorithm\n",
    "- we use tabulation/list/array to store the number of ways for outcome $N = 0$ to $12$\n",
    "    - bottom-up approach\n",
    "- values of list represent the number of ways; indices represent the outcome/sum $N$\n",
    "- so ways = $[0, 0, 0, 0, 0, 0, ...$] initialized with $N$ $0s$\n",
    "- base case:\n",
    "    - ways[0] = 1; there's 1 way to make sum $N=0$ using $0$ coin\n",
    "- for each coin:\n",
    "    - if the value of coin is less than the outcome/index $n$,\n",
    "        - update the ways[n] = ways[n-coin] + ways[n]"
   ]
  },
  {
   "cell_type": "code",
   "execution_count": 18,
   "metadata": {},
   "outputs": [],
   "source": [
    "def countWays(coins, N):\n",
    "    # use ways table to store the results\n",
    "    # ways[i] will store the number of solutions for value i\n",
    "    ways = [0]*(N+1) # initialize all values 0-12 as 0\n",
    "    # base case \n",
    "    ways[0] = 1\n",
    "    # pick all coins one by one\n",
    "    # update the ways starting from the value of the picked coin\n",
    "    print('indices/sum:', list(range(N+1)))\n",
    "    for coin in coins:\n",
    "        for n in range(N+1): # len(ways)\n",
    "            if coin <= n:\n",
    "                ways[n] += ways[n-coin]\n",
    "        \"\"\"better\n",
    "        for n in range(coin, N+1):\n",
    "            ways[n] += ways[n-coin]\n",
    "        \"\"\"\n",
    "        print('ways:       ', ways, coin)\n",
    "    return ways[N]\n",
    "        "
   ]
  },
  {
   "cell_type": "code",
   "execution_count": 15,
   "metadata": {},
   "outputs": [
    {
     "name": "stdout",
     "output_type": "stream",
     "text": [
      "indices/sum: [0, 1, 2, 3, 4, 5, 6, 7, 8]\n",
      "ways:        [1, 1, 1, 1, 1, 1, 1, 1, 1] 1\n",
      "ways:        [1, 1, 1, 1, 1, 2, 2, 2, 2] 5\n",
      "ways:        [1, 1, 1, 1, 1, 2, 2, 2, 2] 10\n",
      "Number of Ways to get 8 = 2\n"
     ]
    }
   ],
   "source": [
    "coins = [1, 5, 10]\n",
    "N = 8\n",
    "print('Number of Ways to get {} = {}'.format(N, countWays(coins, N)))"
   ]
  },
  {
   "cell_type": "code",
   "execution_count": 16,
   "metadata": {},
   "outputs": [
    {
     "name": "stdout",
     "output_type": "stream",
     "text": [
      "indices/sum: [0, 1, 2, 3, 4, 5, 6, 7, 8, 9, 10]\n",
      "ways:        [1, 1, 1, 1, 1, 1, 1, 1, 1, 1, 1] 1\n",
      "ways:        [1, 1, 1, 1, 1, 2, 2, 2, 2, 2, 3] 5\n",
      "ways:        [1, 1, 1, 1, 1, 2, 2, 2, 2, 2, 4] 10\n",
      "Number of Ways to get 10 = 4\n"
     ]
    }
   ],
   "source": [
    "N = 10\n",
    "print('Number of Ways to get {} = {}'.format(N, countWays(coins, N)))"
   ]
  },
  {
   "cell_type": "code",
   "execution_count": 17,
   "metadata": {},
   "outputs": [
    {
     "name": "stdout",
     "output_type": "stream",
     "text": [
      "indices/sum: [0, 1, 2, 3, 4, 5, 6, 7, 8, 9, 10, 11, 12]\n",
      "ways:        [1, 1, 1, 1, 1, 1, 1, 1, 1, 1, 1, 1, 1] 1\n",
      "ways:        [1, 1, 1, 1, 1, 2, 2, 2, 2, 2, 3, 3, 3] 5\n",
      "ways:        [1, 1, 1, 1, 1, 2, 2, 2, 2, 2, 4, 4, 4] 10\n",
      "Number of Ways to get 12 = 4\n"
     ]
    }
   ],
   "source": [
    "N = 12\n",
    "print('Number of Ways to get {} = {}'.format(N, countWays(coins, N)))"
   ]
  },
  {
   "cell_type": "markdown",
   "metadata": {},
   "source": [
    "## find minimum number of unique coins that make a given value/change\n",
    "- Problem: \n",
    "    - Input: $coins = [5, 10, 25], N = 30$\n",
    "    - Output: $2$\n",
    "    - Combinations: $25 + 5 = 30$"
   ]
  },
  {
   "cell_type": "code",
   "execution_count": 19,
   "metadata": {},
   "outputs": [],
   "source": [
    "import math\n",
    "\n",
    "# DP solution for min coin count to make the change N\n",
    "def minCoins(coins, N):\n",
    "    # count list stores the minimum number of coins required for i value\n",
    "    # all values 0-N are initialized to infinity\n",
    "    count = [math.inf]*(N+1)\n",
    "    # base case\n",
    "    # no. of coin required to make 0 value is 0\n",
    "    count[0] = 0\n",
    "    # computer min coins for all values from 1 to N\n",
    "    for i in range(1, N+1):\n",
    "        for coin in coins:\n",
    "            # for every coin smaller than value i\n",
    "            if coin <= i:\n",
    "                if count[i-coin]+1 < count[i]:\n",
    "                    count[i] = count[i-coin]+1\n",
    "            else:\n",
    "                break\n",
    "    return count[N]\n",
    "    "
   ]
  },
  {
   "cell_type": "code",
   "execution_count": 20,
   "metadata": {},
   "outputs": [
    {
     "name": "stdout",
     "output_type": "stream",
     "text": [
      "min unique coins required to give total of 6 change = 2\n"
     ]
    }
   ],
   "source": [
    "coins = [1, 3, 4]\n",
    "N = 6\n",
    "print('min unique coins required to give total of {} change = {}'.format(N, minCoins(coins, N)))"
   ]
  },
  {
   "cell_type": "markdown",
   "metadata": {},
   "source": [
    "## Exercises\n",
    "1. Ocean's Anti-11 - https://open.kattis.com/problems/anti11\n",
    "    - Hint: count all possible n length binary integers (without 11) for the first few (2,3,4) positive integers and you'll see a Fibonaccii like pattern that gives the total number of possible binaries without 11 in them\n",
    "- Write a program that finds factorials of a bunch of positive integers. Would memoization improve time complexity of the program? "
   ]
  },
  {
   "cell_type": "code",
   "execution_count": null,
   "metadata": {},
   "outputs": [],
   "source": []
  }
 ],
 "metadata": {
  "kernelspec": {
   "display_name": "Python 3 (ipykernel)",
   "language": "python",
   "name": "python3"
  },
  "language_info": {
   "codemirror_mode": {
    "name": "ipython",
    "version": 3
   },
   "file_extension": ".py",
   "mimetype": "text/x-python",
   "name": "python",
   "nbconvert_exporter": "python",
   "pygments_lexer": "ipython3",
   "version": "3.10.8"
  }
 },
 "nbformat": 4,
 "nbformat_minor": 4
}
