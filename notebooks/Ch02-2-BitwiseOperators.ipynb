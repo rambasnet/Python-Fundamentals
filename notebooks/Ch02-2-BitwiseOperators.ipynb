{
 "cells": [
  {
   "cell_type": "markdown",
   "metadata": {},
   "source": [
    "# 2. Bitwise Operators\n",
    "\n",
    "<a href=\"https://colab.research.google.com/github/rambasnet/FDSPython-Notebooks/blob/master/notebooks/Ch02-1-BitwiseOperators.ipynb\" target=\"_parent\"><img src=\"https://colab.research.google.com/assets/colab-badge.svg\" alt=\"Open In Colab\"/></a>\n",
    "\n",
    "- https://wiki.python.org/moin/BitwiseOperators\n",
    "\n",
    "## Topics\n",
    "\n",
    "- Number systems\n",
    "- Binary representation of positive integers\n",
    "- Twos Complement for Negative Integers\n",
    "- Bitwise operators\n",
    "- Examples\n",
    "\n",
    "## Number systems\n",
    "\n",
    "- there are several number systems based on the base\n",
    "    - base is number of unique digits number system uses to represent numbers\n",
    "- binary (base 2), octal (base 8), decimal (base 10), hexadecimal (base 16), etc.\n",
    "\n",
    "### Decimal number system\n",
    "- also called Hindu-Arabic number system\n",
    "- most commonly used number system that uses base 10\n",
    "    - has 10 digits or numerals to represent numbers: 0..9\n",
    "    - e.g. 1, 79, 1024, 12345, etc.\n",
    "- numerals representing numbers have different place values depending on position:\n",
    "    - ones ($10^0$), tens($10^1$), hundreds($10^2$), thousands($10^3$), ten thousands($10^4$), etc.\n",
    "    - e.g. 543.21 = $(5\\times10^2)+(4\\times10^1)+(3\\times10^0)+(2\\times10^{-1})+(1\\times10^{-2})$\n",
    "    \n",
    "### Binary number system\n",
    "\n",
    "- digital computers work with binary number system\n",
    "- decimal number system and any text and symbols must be converted into binary for the computer systems to process, store and transmit\n",
    "- typically, programming language like C/C++ uses 32-bit or 64-bit depending on the architecture of the system to represent binary numbers\n",
    "- Python however uses \"INFINITE\" number of bits to represent Integers in binary\n",
    "\n",
    "    \n",
    "## Number system conversion\n",
    "\n",
    "- since computers understand only binary, everything (data, code) must be converted into binary\n",
    "- all characaters (alphabets and symbols) are given decimal codes for electronic communication\n",
    "    - these codes are called ASCII (American Standard Code for Information Interchange)\n",
    "    - A -> 65; Z -> 90; a -> 97; z -> 122, * -> 42, etc.\n",
    "    - see ASCII chart: https://en.cppreference.com/w/c/language/ascii\n",
    "\n",
    "### Converting decmial to binary number\n",
    "\n",
    "- Twos-complement for positive integers\n",
    "\n",
    "- algorithm steps:\n",
    "    1. repeteadly divide the decimal number by base 2 until the quotient becomes 0\n",
    "        - note remainder for each division\n",
    "    2. collect all the remainders in reverse order\n",
    "        - the first remainder is the last (least significant) digit in binary\n",
    "    \n",
    "- example 1: what is decimal $(10)_{10}$ in binary $(?)_2$ ?\n",
    "    - step 1:\n",
    "    \n",
    "        ```bash\n",
    "        10 / 2 : quotient: 5, remainder: 0\n",
    "        5 / 2  : quotient 2, remainder: 1\n",
    "        2 / 2  : quotient: 1, remainder: 0\n",
    "        1 / 2  : quotient: 0, remainder: 1 \n",
    "        ```\n",
    "        \n",
    "    - step 2: \n",
    "         - collect remainders from bottom up: 1010\n",
    "    - so, $(10)_{10}$ = $(1010)_2$\n",
    "     \n",
    "- example 2: what is decimal $(13)_{10}$ in $(?)_2$ ?\n",
    "    - step 1:\n",
    "    \n",
    "        ```bash\n",
    "        13 / 2 : quotient: 6, remainder: 1\n",
    "        6 / 2  : quotient 3, remainder: 0\n",
    "        3 / 2  : quotient: 1, remainder: 1\n",
    "        1 / 2  : quotient: 0, remainder: 1 \n",
    "        ```\n",
    "    - step 2:\n",
    "         - collect remainders from bottom up: 1101\n",
    "    - so, $(13)_{10}$ = $(1101)_2$\n",
    "     \n",
    "### Converting binary to decimal number\n",
    "- once the computer does the computation in binary, it needs to convert the results back to decimal number system for humans to understand\n",
    "- algorithm steps:\n",
    "    1. multiply each binary digit by its place value in binary\n",
    "    2. sum all the products\n",
    "\n",
    "- example 1: what is binary $(1010)_2$ in decimal $(?)_{10}?$\n",
    "    - step 1:\n",
    "    \n",
    "        - $0\\times2^0 = 0$\n",
    "        - $1\\times2^1 = 2$\n",
    "        - $0\\times2^2 = 0$\n",
    "        - $1\\times2^3 = 8$\n",
    "    - step 2:\n",
    "        - $0 + 2 + 0 + 8 = 10$\n",
    "    - so, $(1010)_2$ = $(10)_{10}$\n",
    "    \n",
    "    \n",
    "- example 2: what is binary $(1101)_2$ in decimal $(?)_{10}?$\n",
    "    - step 1:\n",
    "    \n",
    "        - $1\\times2^0 = 1$\n",
    "        - $0\\times2^1 = 0$\n",
    "        - $1\\times2^2 = 4$\n",
    "        - $1\\times2^3 = 8$\n",
    "\n",
    "    - step 2:\n",
    "        - $1+0+4+8 = 13$\n",
    "    - so, $(1101)_2$ = $(13)_{10}$\n",
    "- we got the same decimal vales we started from in previous examples\n",
    "\n"
   ]
  },
  {
   "cell_type": "markdown",
   "metadata": {},
   "source": [
    "## Twos Complement for Negative (signed) integers\n",
    "- most common method of storing negative numbers on computers is a mathematical operation called Two's complement\n",
    "- Two's complement of an N-bit number is defined as its complement with respect to $2^N$\n",
    "    - the sum of a number and its two's complement is $2^N$\n",
    "- e.g.: for the 3-bit binary number $010_2$, the two's complement is $110_2$, because $010_2 + 110_2 = 1000_2 = 2^3_{10}$\n",
    "- Two's complement of N-bit number can be found by flipping each bit and adding one to it\n",
    "- e.g. Find two's complement of 010 (3-bit integer)\n",
    "- Algorithm steps:\n",
    "    1. flipped each bit; 0 is flipped to 1 and 1 flipped to 0\n",
    "    \n",
    "    ```bash\n",
    "        010 -> 101\n",
    "    ```\n",
    "    \n",
    "    2. add 1 to the flipped binary \n",
    "    \n",
    "    ```bash\n",
    "        \n",
    "        101\n",
    "         +1\n",
    "       -----\n",
    "        110\n",
    "    ```\n",
    "    \n",
    " \n",
    " ### Example 2\n",
    " - Represent decimal -13 using 32-bit binary\n",
    " - first find the binary of 13 and use Twos complement for negative integers\n",
    " "
   ]
  },
  {
   "cell_type": "code",
   "execution_count": 3,
   "metadata": {},
   "outputs": [
    {
     "data": {
      "text/plain": [
       "'0b1101'"
      ]
     },
     "execution_count": 3,
     "metadata": {},
     "output_type": "execute_result"
    }
   ],
   "source": [
    "# built-in bin function converts integers into binary\n",
    "bin(13)\n",
    "# 00000000000000000000000000001101 - 32-bit"
   ]
  },
  {
   "cell_type": "code",
   "execution_count": 4,
   "metadata": {},
   "outputs": [
    {
     "data": {
      "text/plain": [
       "'-0b1101'"
      ]
     },
     "execution_count": 4,
     "metadata": {},
     "output_type": "execute_result"
    }
   ],
   "source": [
    "# Python uses -ve sign to represent -ve binary also\n",
    "bin(-13)"
   ]
  },
  {
   "cell_type": "markdown",
   "metadata": {},
   "source": [
    "### Two's complement of -13 with 32-bit is\n",
    "\n",
    "```python\n",
    "- 13 ->           00000000000000000000000000001101\n",
    "- flip every bit: 11111111111111111111111111110010\n",
    "                                                +1\n",
    "        -------------------------------------------\n",
    "                  11111111111111111111111111110011 \n",
    "```\n",
    "\n",
    "### bitwise operators\n",
    "- https://wiki.python.org/moin/BitwiseOperators\n",
    "- bitwise operators work on binary numbers (bits)\n",
    "    - integers are implicitly converted into binary and then bitwise operations are applied\n",
    "- bitwise operations are used in lower-level programming such as device drivers, low-level graphics, communications protocol packet assembly, encoding and decoding data, encryption technologies, etc.\n",
    "- a lot of integer arithmetic computations can be carried our much more efficiently using bitwise operations\n",
    "\n",
    "| Operator | Symbol | Symbol Name | Syntax |\tOperation |\n",
    "|------| ------ | ---- | ---- | --- |\n",
    "|bitwise left shift\t| << |\tleft angular bracket | x << y\t| all bits in x shifted left y bits; multiplication by $2^y$\n",
    "|bitwise right shift |\t>> | right angular bracket |x >> y\t| all bits in x shifted right y bits; division by $2^y$\n",
    "bitwise NOT\t| ~\t| tilde | ~x\t| all bits in x flipped\n",
    "|bitwise AND |\t& |\tampersand | x & y |\teach bit in x AND each bit in y\n",
    "|bitwise OR\t| \\| |\tpipe | x \\| y\t| each bit in x OR each bit in y\n",
    "bitwise XOR | ^ |\tcaret | x ^ y |\teach bit in x XOR each bit in y\n",
    "\n",
    "### table for bitwise operations\n",
    "\n",
    "#### & - bitwise AND\n",
    "| x | y | x & y |\n",
    "|:---:|:---:|:---:|\n",
    "| 1 | 1 | 1 | 1 |\n",
    "| 1 | 0 | 0 | 0 |\n",
    "| 0 | 1 | 0 | 0 |\n",
    "| 0 | 0 | 0 | 0 |\n",
    "\n",
    "#### | - bitwise OR\n",
    "| x | y | x \\| y |\n",
    "|:---:|:---:|:---:|\n",
    "| 1 | 1 | 1 |\n",
    "| 1 | 0 | 1 |\n",
    "| 0 | 1 | 1 |\n",
    "| 0 | 0 | 0 |\n",
    "\n",
    "#### ~ - bitwise NOT\n",
    "| x | ~x |\n",
    "|:---:|:---:|\n",
    "| 1 | 0 |\n",
    "| 0 | 1 |\n",
    "\n",
    "#### ^ - bitwise XOR\n",
    "| x | y | x ^ y |\n",
    "|:---:|:---:|:---:|\n",
    "| 1 | 1 | 0 |\n",
    "| 1 | 0 | 1 |\n",
    "| 0 | 1 | 1 |\n",
    "| 0 | 0 | 0 |\n",
    "\n",
    "#### bitwise left shift examples"
   ]
  },
  {
   "cell_type": "code",
   "execution_count": 5,
   "metadata": {},
   "outputs": [
    {
     "data": {
      "text/plain": [
       "16"
      ]
     },
     "execution_count": 5,
     "metadata": {},
     "output_type": "execute_result"
    }
   ],
   "source": [
    "# convert 1 decimal to binary and shift left by 4 bits\n",
    "1 << 4 # same as 1*2*2*2*2; result is in decimal"
   ]
  },
  {
   "cell_type": "markdown",
   "metadata": {},
   "source": [
    "#### Explanation\n",
    "- Note: in the following examples, binary uses 32-bit to represent decmial\n",
    "\n",
    "- $1_{10} = 00000000000000000000000000000001_2$\n",
    "- $1 << 4$ = $000000000000000000000000000010000 = 2^4 = 16_{10}$"
   ]
  },
  {
   "cell_type": "code",
   "execution_count": 6,
   "metadata": {},
   "outputs": [
    {
     "data": {
      "text/plain": [
       "48"
      ]
     },
     "execution_count": 6,
     "metadata": {},
     "output_type": "execute_result"
    }
   ],
   "source": [
    "3 << 4 # same as 3*2*2*2*2 or 3*2^4"
   ]
  },
  {
   "cell_type": "markdown",
   "metadata": {},
   "source": [
    "#### Explanation\n",
    "\n",
    "- $3_{10} = 00000000000000000000000000000011_2$\n",
    "- $3 << 4 = 00000000000000000000000000110000_2 = 2^5+2^4 = 32+16 = 48_{10}$\n",
    "\n",
    "#### Bitwise right shit examples"
   ]
  },
  {
   "cell_type": "code",
   "execution_count": 7,
   "metadata": {},
   "outputs": [
    {
     "data": {
      "text/plain": [
       "1"
      ]
     },
     "execution_count": 7,
     "metadata": {},
     "output_type": "execute_result"
    }
   ],
   "source": [
    "1024 >> 10 # same as 1024/2/2/2/2/2/2/2/2/2/2"
   ]
  },
  {
   "cell_type": "markdown",
   "metadata": {},
   "source": [
    "#### Explanation\n",
    "\n",
    "- $1024_{10} = 00000000000000000000010000000000_2$\n",
    "- $1024 >> 10 = 00000000000000000000000000000001_2 = 2^0 = 1_{10}$\n",
    "\n",
    "#### Bitwise NOT examples"
   ]
  },
  {
   "cell_type": "code",
   "execution_count": 8,
   "metadata": {},
   "outputs": [
    {
     "data": {
      "text/plain": [
       "-1"
      ]
     },
     "execution_count": 8,
     "metadata": {},
     "output_type": "execute_result"
    }
   ],
   "source": [
    "~0 # result shown is in decimal!"
   ]
  },
  {
   "cell_type": "code",
   "execution_count": 9,
   "metadata": {},
   "outputs": [
    {
     "data": {
      "text/plain": [
       "-2"
      ]
     },
     "execution_count": 9,
     "metadata": {},
     "output_type": "execute_result"
    }
   ],
   "source": [
    "~1 # Note: 1 in binary using 32-bit width (31 0s and 1) 00000....1\n",
    "\n",
    "#result shown is in decimal"
   ]
  },
  {
   "cell_type": "markdown",
   "metadata": {},
   "source": [
    "#### Explanation\n",
    "\n",
    "- $0_{10} = 00000000000000000000000000000000_2$\n",
    "- $1_{10} = 00000000000000000000000000000001_2$\n",
    "- $-1_{10} = 11111111111111111111111111111111_2$\n",
    "- $2_{10} = 00000000000000000000000000000010_2$\n",
    "- $-2_{10} = 11111111111111111111111111111110_2$\n",
    "- Note: -ve numbers are stored in Two's complement\n",
    "    - 2's complement is calculated by flipping each bit and adding 1 to the binary of positive integer\n",
    "    \n",
    "#### Bitwise AND examples"
   ]
  },
  {
   "cell_type": "code",
   "execution_count": 10,
   "metadata": {},
   "outputs": [
    {
     "data": {
      "text/plain": [
       "1"
      ]
     },
     "execution_count": 10,
     "metadata": {},
     "output_type": "execute_result"
    }
   ],
   "source": [
    "1 & 1"
   ]
  },
  {
   "cell_type": "code",
   "execution_count": 11,
   "metadata": {},
   "outputs": [
    {
     "data": {
      "text/plain": [
       "0"
      ]
     },
     "execution_count": 11,
     "metadata": {},
     "output_type": "execute_result"
    }
   ],
   "source": [
    "1 & 0"
   ]
  },
  {
   "cell_type": "code",
   "execution_count": 12,
   "metadata": {},
   "outputs": [
    {
     "data": {
      "text/plain": [
       "0"
      ]
     },
     "execution_count": 12,
     "metadata": {},
     "output_type": "execute_result"
    }
   ],
   "source": [
    "0 & 1"
   ]
  },
  {
   "cell_type": "code",
   "execution_count": 13,
   "metadata": {},
   "outputs": [
    {
     "data": {
      "text/plain": [
       "0"
      ]
     },
     "execution_count": 13,
     "metadata": {},
     "output_type": "execute_result"
    }
   ],
   "source": [
    "0 & 0"
   ]
  },
  {
   "cell_type": "markdown",
   "metadata": {},
   "source": [
    "### Bitwise OR examples"
   ]
  },
  {
   "cell_type": "code",
   "execution_count": 14,
   "metadata": {},
   "outputs": [
    {
     "data": {
      "text/plain": [
       "1"
      ]
     },
     "execution_count": 14,
     "metadata": {},
     "output_type": "execute_result"
    }
   ],
   "source": [
    "1 | 1"
   ]
  },
  {
   "cell_type": "code",
   "execution_count": 15,
   "metadata": {},
   "outputs": [
    {
     "data": {
      "text/plain": [
       "1"
      ]
     },
     "execution_count": 15,
     "metadata": {},
     "output_type": "execute_result"
    }
   ],
   "source": [
    "1 | 0"
   ]
  },
  {
   "cell_type": "code",
   "execution_count": 16,
   "metadata": {},
   "outputs": [
    {
     "data": {
      "text/plain": [
       "1"
      ]
     },
     "execution_count": 16,
     "metadata": {},
     "output_type": "execute_result"
    }
   ],
   "source": [
    "0 | 1"
   ]
  },
  {
   "cell_type": "code",
   "execution_count": 19,
   "metadata": {},
   "outputs": [
    {
     "data": {
      "text/plain": [
       "0"
      ]
     },
     "execution_count": 19,
     "metadata": {},
     "output_type": "execute_result"
    }
   ],
   "source": [
    "0 | 0"
   ]
  },
  {
   "cell_type": "markdown",
   "metadata": {},
   "source": [
    "### Bitwise XOR examples"
   ]
  },
  {
   "cell_type": "code",
   "execution_count": 20,
   "metadata": {},
   "outputs": [
    {
     "data": {
      "text/plain": [
       "0"
      ]
     },
     "execution_count": 20,
     "metadata": {},
     "output_type": "execute_result"
    }
   ],
   "source": [
    "1 ^ 1"
   ]
  },
  {
   "cell_type": "code",
   "execution_count": 21,
   "metadata": {},
   "outputs": [
    {
     "data": {
      "text/plain": [
       "1"
      ]
     },
     "execution_count": 21,
     "metadata": {},
     "output_type": "execute_result"
    }
   ],
   "source": [
    "1 ^ 0"
   ]
  },
  {
   "cell_type": "code",
   "execution_count": 22,
   "metadata": {},
   "outputs": [
    {
     "data": {
      "text/plain": [
       "1"
      ]
     },
     "execution_count": 22,
     "metadata": {},
     "output_type": "execute_result"
    }
   ],
   "source": [
    "0 ^ 1"
   ]
  },
  {
   "cell_type": "code",
   "execution_count": 24,
   "metadata": {},
   "outputs": [
    {
     "data": {
      "text/plain": [
       "0"
      ]
     },
     "execution_count": 24,
     "metadata": {},
     "output_type": "execute_result"
    }
   ],
   "source": [
    "0 ^ 0"
   ]
  },
  {
   "cell_type": "code",
   "execution_count": null,
   "metadata": {},
   "outputs": [],
   "source": []
  }
 ],
 "metadata": {
  "kernelspec": {
   "display_name": "Python 3 (ipykernel)",
   "language": "python",
   "name": "python3"
  },
  "language_info": {
   "codemirror_mode": {
    "name": "ipython",
    "version": 3
   },
   "file_extension": ".py",
   "mimetype": "text/x-python",
   "name": "python",
   "nbconvert_exporter": "python",
   "pygments_lexer": "ipython3",
   "version": "3.8.11"
  }
 },
 "nbformat": 4,
 "nbformat_minor": 2
}
