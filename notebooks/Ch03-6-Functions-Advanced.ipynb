{
 "cells": [
  {
   "cell_type": "markdown",
   "metadata": {},
   "source": [
    "# Advanced Topics on Functions\n",
    "\n",
    "<a href=\"https://colab.research.google.com/github/rambasnet/Python-Fundamentals/blob/master/notebooks/Ch03-6-Functions-Advanced.ipynb\" target=\"_parent\"><img src=\"https://colab.research.google.com/assets/colab-badge.svg\" alt=\"Open In Colab\"/></a>\n",
    "\n",
    "## Topics\n",
    "- handle variable length arguments\n",
    "- lambda expressions\n",
    "- higher-order functions\n",
    "- nested functions\n",
    "- functions as returned values\n",
    "- currying\n",
    "- function decorators"
   ]
  },
  {
   "cell_type": "markdown",
   "metadata": {},
   "source": [
    "## Variable length arguments\n",
    "- when not sure how many arguments will be passed to a function (e.g., print())\n",
    "- `*args` (non-keyworded variable length arguments)\n",
    "- `*kwargs` (keyworded variable length arguments)\n",
    "- e.g., built-in `print` function uses variable length arguments and keyworded arguments\n",
    "\n",
    "### print(*object, sep=' ', end='\\n', file=sys.stdout, flush=False)"
   ]
  },
  {
   "cell_type": "code",
   "execution_count": 2,
   "metadata": {},
   "outputs": [],
   "source": [
    "# variable length arguments demo\n",
    "def someFunction(a, b, c, *varargs, **kwargs):\n",
    "    print('a = ', a)\n",
    "    print('b = ', b)\n",
    "    print('c = ', c)\n",
    "    print('*args = ', varargs)\n",
    "    print('type of args = ', type(varargs))\n",
    "    print('**kwargs = ', kwargs)\n",
    "    print('type of kwargs = ', type(kwargs))"
   ]
  },
  {
   "cell_type": "code",
   "execution_count": 3,
   "metadata": {},
   "outputs": [
    {
     "name": "stdout",
     "output_type": "stream",
     "text": [
      "a =  1\n",
      "b =  Apple\n",
      "c =  4.5\n",
      "*args =  (5, [2.5, 'b'])\n",
      "type of args =  <class 'tuple'>\n",
      "**kwargs =  {'fname': 'Jake', 'num': 1}\n",
      "type of kwargs =  <class 'dict'>\n"
     ]
    }
   ],
   "source": [
    "# call someFunction with some arguments\n",
    "someFunction(1, 'Apple', 4.5, 5, [2.5, 'b'], fname='Jake', num=1)"
   ]
  },
  {
   "cell_type": "markdown",
   "metadata": {},
   "source": [
    "## Lambda Functions/Expressions\n",
    "- anonymous functions (no name)\n",
    "- typically used in conjunction with higher order functions such as: map(), reduce(), filter()\n",
    "- Reference: http://www.secnetix.de/olli/Python/lambda_functions.hawk"
   ]
  },
  {
   "cell_type": "markdown",
   "metadata": {},
   "source": [
    "### lambda function properties and usage\n",
    "- single line simple functions\n",
    "- no explicit return keyword is used\n",
    "- always contains an expression that is implictly returned\n",
    "- can use a lambda definition anywere a function is expected without assigning to a variable\n",
    "- syntax: \n",
    "```python\n",
    "    lambda argument(s): expression\n",
    "```\n",
    "- see Ch08-2 Lists Advanced chapter for lambda applications on some higher order built-in functions"
   ]
  },
  {
   "cell_type": "markdown",
   "metadata": {},
   "source": [
    "### difference between lambda and regular function"
   ]
  },
  {
   "cell_type": "code",
   "execution_count": 4,
   "metadata": {},
   "outputs": [],
   "source": [
    "# regular function\n",
    "def func(x): return x**2"
   ]
  },
  {
   "cell_type": "code",
   "execution_count": 5,
   "metadata": {},
   "outputs": [
    {
     "name": "stdout",
     "output_type": "stream",
     "text": [
      "16\n"
     ]
    }
   ],
   "source": [
    "print(func(4))"
   ]
  },
  {
   "cell_type": "code",
   "execution_count": 6,
   "metadata": {},
   "outputs": [
    {
     "data": {
      "text/plain": [
       "function"
      ]
     },
     "execution_count": 6,
     "metadata": {},
     "output_type": "execute_result"
    }
   ],
   "source": [
    "type(func)"
   ]
  },
  {
   "cell_type": "code",
   "execution_count": 10,
   "metadata": {},
   "outputs": [
    {
     "name": "stdout",
     "output_type": "stream",
     "text": [
      "<function func at 0x7fe02aec0c10>\n"
     ]
    }
   ],
   "source": [
    "print(func)"
   ]
  },
  {
   "cell_type": "code",
   "execution_count": 7,
   "metadata": {},
   "outputs": [],
   "source": [
    "g = lambda x: x**2 # no name, no parenthesis, and no return keyword\n",
    "# a function that takes x and returns x**2"
   ]
  },
  {
   "cell_type": "code",
   "execution_count": 8,
   "metadata": {},
   "outputs": [
    {
     "data": {
      "text/plain": [
       "function"
      ]
     },
     "execution_count": 8,
     "metadata": {},
     "output_type": "execute_result"
    }
   ],
   "source": [
    "type(g)"
   ]
  },
  {
   "cell_type": "code",
   "execution_count": 9,
   "metadata": {},
   "outputs": [
    {
     "name": "stdout",
     "output_type": "stream",
     "text": [
      "<function <lambda> at 0x7fe02aec0d30>\n"
     ]
    }
   ],
   "source": [
    "print(g)"
   ]
  },
  {
   "cell_type": "code",
   "execution_count": 10,
   "metadata": {},
   "outputs": [
    {
     "data": {
      "text/plain": [
       "16"
      ]
     },
     "execution_count": 10,
     "metadata": {},
     "output_type": "execute_result"
    }
   ],
   "source": [
    "g(4)"
   ]
  },
  {
   "cell_type": "markdown",
   "metadata": {},
   "source": [
    "## Higher-order functions\n",
    "https://composingprograms.com/pages/16-higher-order-functions.html\n",
    "- functions that manipulate other functions are called higher order functions\n",
    "- functions take function(s) as argument(s)\n",
    "    - typically, lambda expressions are passed as arguments\n",
    "- functions can define and return a local function"
   ]
  },
  {
   "cell_type": "code",
   "execution_count": 11,
   "metadata": {},
   "outputs": [],
   "source": [
    "# computer summations of n natural numbers\n",
    "# func is a function applied to all the natural numbers between 1 and n inclusive\n",
    "def sum_naturals(func, n):\n",
    "    total, k = 0, 1\n",
    "    while k <= n:\n",
    "        total += func(k)\n",
    "        k += 1\n",
    "    return total\n",
    "    "
   ]
  },
  {
   "cell_type": "code",
   "execution_count": 5,
   "metadata": {},
   "outputs": [],
   "source": [
    "n = 100"
   ]
  },
  {
   "cell_type": "code",
   "execution_count": null,
   "metadata": {},
   "outputs": [],
   "source": [
    "# pass lambda function\n",
    "print(f'sum of first {n} natural numbers = {sum_naturals(lambda x: x, n)}')"
   ]
  },
  {
   "cell_type": "code",
   "execution_count": 13,
   "metadata": {},
   "outputs": [],
   "source": [
    "# of course you can pass regular function\n",
    "def even(n):\n",
    "    return n if n%2 == 0 else 0"
   ]
  },
  {
   "cell_type": "code",
   "execution_count": 14,
   "metadata": {},
   "outputs": [
    {
     "name": "stdout",
     "output_type": "stream",
     "text": [
      "sum of even numbers from 1 to 100 = 2550\n"
     ]
    }
   ],
   "source": [
    "print(f'sum of even numbers from 1 to {n} = {sum_naturals(even, n)}')"
   ]
  },
  {
   "cell_type": "code",
   "execution_count": 15,
   "metadata": {},
   "outputs": [
    {
     "name": "stdout",
     "output_type": "stream",
     "text": [
      "sum of odd numbers from 1 to 100 = 2500\n"
     ]
    }
   ],
   "source": [
    "# sum of odd numbers from 1 to 100\n",
    "print(f'sum of odd numbers from 1 to {n} = {sum_naturals(lambda x: x if x%2==1 else 0, n)}')"
   ]
  },
  {
   "cell_type": "markdown",
   "metadata": {},
   "source": [
    "## Nested functions\n",
    "- functions can be defined inside a function with local scope\n",
    "- locally defined functions also have access to the names defined in their parent function\n",
    "    - this technique is called lexical scoping\n",
    "- helps keep the global frame clean and less cluter with functions that are only used inside some functions\n",
    "- let's redefine sum_natural function again with local functions\n",
    "\n",
    "### Visualize using [PythonTutor.com](http://pythontutor.com/visualize.html#code=def%20sum_naturals1%28n,%20number_type%3D%22all%22%29%3A%0A%20%20%20%20def%20even%28x%29%3A%0A%20%20%20%20%20%20%20%20return%20x%20if%20x%252%20%3D%3D%200%20else%200%0A%20%20%20%20%0A%20%20%20%20def%20odd%28x%29%3A%0A%20%20%20%20%20%20%20%20return%20x%20if%20x%252%20%3D%3D%201%20else%200%0A%20%20%20%20%0A%20%20%20%20def%20func%28x%29%3A%0A%20%20%20%20%20%20%20%20%23%20local%20function%20has%20access%20to%20global%20variables%20as%20well%20as%20parent%20frames%0A%20%20%20%20%20%20%20%20if%20number_type%20%3D%3D%20'even'%3A%0A%20%20%20%20%20%20%20%20%20%20%20%20return%20x%20if%20x%252%20%3D%3D%200%20else%200%0A%20%20%20%20%20%20%20%20else%3A%0A%20%20%20%20%20%20%20%20%20%20%20%20return%20x%20if%20x%252%20%3D%3D%201%20else%200%0A%20%20%20%20%20%20%20%20%20%20%20%20%0A%20%20%20%20total,%20k%20%3D%200,%201%0A%20%20%20%20while%20k%20%3C%3D%20n%3A%0A%20%20%20%20%20%20%20%20if%20number_type%20!%3D%20'all'%3A%0A%20%20%20%20%20%20%20%20%20%20%20%20total%20%2B%3D%20func%28k%29%0A%20%20%20%20%20%20%20%20%23elif%20number_type%20%3D%3D%20'odd'%3A%0A%20%20%20%20%20%20%20%20%23%20%20%20%20total%20%2B%3D%20odd%28k%29%0A%20%20%20%20%20%20%20%20else%3A%0A%20%20%20%20%20%20%20%20%20%20%20%20total%20%2B%3D%20k%0A%20%20%20%20%20%20%20%20k%20%2B%3D%201%0A%20%20%20%20return%20total%0A%20%20%20%20%0An%20%3D%2010%20%20%0Aprint%28f'sum%20of%20even%20numbers%20from%201%20to%20%7Bn%7D%20%3D%20%7Bsum_naturals1%28n,%20%22even%22%29%7D'%29&cumulative=false&curInstr=0&heapPrimitives=nevernest&mode=display&origin=opt-frontend.js&py=3&rawInputLstJSON=%5B%5D&textReferences=false)"
   ]
  },
  {
   "cell_type": "code",
   "execution_count": 16,
   "metadata": {},
   "outputs": [],
   "source": [
    "# compute summations of n natural numbers\n",
    "# by default find sum of all the natural numbers between 1 and n inclusive\n",
    "def sum_naturals1(n, number_type=\"all\"):\n",
    "    def even(x):\n",
    "        return x if x%2 == 0 else 0\n",
    "    \n",
    "    def odd(x):\n",
    "        return x if x%2 == 1 else 0\n",
    "    \n",
    "    def func(x):\n",
    "        # local function has access to global variables as well as parent frames\n",
    "        if number_type == 'even':\n",
    "            return x if x%2 == 0 else 0\n",
    "        else:\n",
    "            return x if x%2 == 1 else 0\n",
    "            \n",
    "    total, k = 0, 1\n",
    "    while k <= n:\n",
    "        if number_type != 'all':\n",
    "            total += func(k)\n",
    "        #elif number_type == 'odd':\n",
    "        #    total += odd(k)\n",
    "        else:\n",
    "            total += k\n",
    "        k += 1\n",
    "    return total"
   ]
  },
  {
   "cell_type": "code",
   "execution_count": 17,
   "metadata": {},
   "outputs": [
    {
     "name": "stdout",
     "output_type": "stream",
     "text": [
      "sum of first 100 natural numbers = 5050\n"
     ]
    }
   ],
   "source": [
    "n = 100\n",
    "print(f'sum of first {n} natural numbers = {sum_naturals1(n)}')"
   ]
  },
  {
   "cell_type": "code",
   "execution_count": 18,
   "metadata": {},
   "outputs": [
    {
     "name": "stdout",
     "output_type": "stream",
     "text": [
      "sum of even numbers from 1 to 100 = 2550\n"
     ]
    }
   ],
   "source": [
    "print(f'sum of even numbers from 1 to {n} = {sum_naturals1(n, \"even\")}')"
   ]
  },
  {
   "cell_type": "code",
   "execution_count": 19,
   "metadata": {},
   "outputs": [
    {
     "name": "stdout",
     "output_type": "stream",
     "text": [
      "sum of odd numbers from 1 to 100 = 2500\n"
     ]
    }
   ],
   "source": [
    "# sum of odd numbers from 1 to 100\n",
    "print(f'sum of odd numbers from 1 to {n} = {sum_naturals1(n, \"odd\")}')"
   ]
  },
  {
   "cell_type": "markdown",
   "metadata": {},
   "source": [
    "## Functions as returned values\n",
    "- functions can return a function\n",
    "- locally defined functions maintain their parent environment when they are returned"
   ]
  },
  {
   "cell_type": "code",
   "execution_count": 52,
   "metadata": {},
   "outputs": [],
   "source": [
    "def number_type(ntype='all'):\n",
    "    def even(x):\n",
    "        return x if x%2 == 0 else 0\n",
    "    \n",
    "    def odd(x):\n",
    "        return x if x%2 == 1 else 0\n",
    "    \n",
    "    def _(x): # function to return x as it is; any()\n",
    "        return x\n",
    "    \n",
    "    if ntype == 'all':\n",
    "        return _\n",
    "    elif ntype == 'even':\n",
    "        return even\n",
    "    else:\n",
    "        return odd"
   ]
  },
  {
   "cell_type": "code",
   "execution_count": 55,
   "metadata": {},
   "outputs": [
    {
     "name": "stdout",
     "output_type": "stream",
     "text": [
      "sum of first 100 natural numbers = 5050\n"
     ]
    }
   ],
   "source": [
    "n = 100\n",
    "print(f'sum of first {n} natural numbers = {sum_naturals(number_type(\"all\"), n)}')"
   ]
  },
  {
   "cell_type": "code",
   "execution_count": 58,
   "metadata": {},
   "outputs": [
    {
     "name": "stdout",
     "output_type": "stream",
     "text": [
      "sum of even numbers from 1 to 100 = 2550\n"
     ]
    }
   ],
   "source": [
    "print(f'sum of even numbers from 1 to {n} = {sum_naturals(number_type(\"even\"), n)}')"
   ]
  },
  {
   "cell_type": "code",
   "execution_count": 59,
   "metadata": {},
   "outputs": [
    {
     "name": "stdout",
     "output_type": "stream",
     "text": [
      "sum of odd numbers from 1 to 100 = 2500\n"
     ]
    }
   ],
   "source": [
    "# sum of odd numbers from 1 to 100\n",
    "print(f'sum of odd numbers from 1 to {n} = {sum_naturals(number_type(\"odd\"), n)}')"
   ]
  },
  {
   "cell_type": "markdown",
   "metadata": {},
   "source": [
    "## Currying\n",
    "\n",
    "- breaking down the evaluation of a function that takes multiple arguments into evaluating a sequence of single-argument functions\n",
    "- also used in chaining multiple functions into one\n",
    "\n",
    "- e.g., given a function `f(x, y)`, we can define a function `g(x)(y)` equivalent to `f(x, y)`\n",
    "    - `g` is a higher-order function that takes in a single argument `x` and returns another function that takes in a single argument `y`\n",
    "- a single function can be broken into multiple functions by chaining the smaller functions\n",
    "    - `f(x) = h(g(x))`\n",
    "    - the output of inner function `g(x)` is an input for outer function `h()`\n",
    "    - this transformation is called **currying**"
   ]
  },
  {
   "cell_type": "code",
   "execution_count": 1,
   "metadata": {},
   "outputs": [],
   "source": [
    "# single function that converts days to seconds\n",
    "def daysToSeconds(days):\n",
    "    return days * 24 * 60 * 60;"
   ]
  },
  {
   "cell_type": "code",
   "execution_count": 2,
   "metadata": {},
   "outputs": [
    {
     "data": {
      "text/plain": [
       "86400"
      ]
     },
     "execution_count": 2,
     "metadata": {},
     "output_type": "execute_result"
    }
   ],
   "source": [
    "# use the function\n",
    "daysToSeconds(1)"
   ]
  },
  {
   "cell_type": "code",
   "execution_count": 7,
   "metadata": {},
   "outputs": [],
   "source": [
    "# currying application\n",
    "# convert no. of days into seconds\n",
    "def convertDaysToSeconds(f1, f2, f3):\n",
    "    \"\"\"Higer order function that takes 3 functions.\"\"\"\n",
    "    def f(x): \n",
    "        return f1(f2(f3(x)))\n",
    "    return f \n",
    "\n",
    "def daysToHours(days): \n",
    "    \"\"\" Function converts days to hours.\"\"\"\n",
    "    return days * 24\n",
    "\n",
    "def hoursToMinutes(hours): \n",
    "    \"\"\" Function converts hours to minutes.\"\"\"\n",
    "    return hours * 60\n",
    "\n",
    "def minutesToSeconds(minutes): \n",
    "    \"\"\" Function converts minutes to seconds.\"\"\"\n",
    "    return  minutes * 60"
   ]
  },
  {
   "cell_type": "code",
   "execution_count": 8,
   "metadata": {},
   "outputs": [],
   "source": [
    "# create a single function curry\n",
    "curry = convertDaysToSeconds(minutesToSeconds, hoursToMinutes, daysToHours)"
   ]
  },
  {
   "cell_type": "code",
   "execution_count": 9,
   "metadata": {},
   "outputs": [
    {
     "data": {
      "text/plain": [
       "86400"
      ]
     },
     "execution_count": 9,
     "metadata": {},
     "output_type": "execute_result"
    }
   ],
   "source": [
    "# how many seconds in 1 day?\n",
    "curry(1)"
   ]
  },
  {
   "cell_type": "code",
   "execution_count": 20,
   "metadata": {},
   "outputs": [],
   "source": [
    "# currying application; function with two arguments\n",
    "# built-in pow function takes two arguments; \n",
    "# let's convert it into a function that takes a single argument\n",
    "def curried_pow(x):\n",
    "    def g(y):\n",
    "        return pow(x, y)\n",
    "    return g # function preserves the local variables, x and y"
   ]
  },
  {
   "cell_type": "code",
   "execution_count": 21,
   "metadata": {},
   "outputs": [
    {
     "data": {
      "text/plain": [
       "8"
      ]
     },
     "execution_count": 21,
     "metadata": {},
     "output_type": "execute_result"
    }
   ],
   "source": [
    "curried_pow(2)(3) # x=2, y=3; -> pow(2, 3)\n",
    "# same as 2**3"
   ]
  },
  {
   "cell_type": "code",
   "execution_count": 22,
   "metadata": {},
   "outputs": [],
   "source": [
    "# currying application 2\n",
    "# let's create a list of integers and map each to a different value\n",
    "nums = list(range(1, 11))"
   ]
  },
  {
   "cell_type": "code",
   "execution_count": 23,
   "metadata": {},
   "outputs": [
    {
     "data": {
      "text/plain": [
       "[1, 2, 3, 4, 5, 6, 7, 8, 9, 10]"
      ]
     },
     "execution_count": 23,
     "metadata": {},
     "output_type": "execute_result"
    }
   ],
   "source": [
    "nums"
   ]
  },
  {
   "cell_type": "code",
   "execution_count": 24,
   "metadata": {},
   "outputs": [],
   "source": [
    "# function maps each element in alist with func() transformation\n",
    "def my_map(alist, func):\n",
    "    for i in range(len(alist)):\n",
    "        alist[i] = func(alist[i])"
   ]
  },
  {
   "cell_type": "code",
   "execution_count": 25,
   "metadata": {},
   "outputs": [],
   "source": [
    "my_map(nums, curried_pow(2))"
   ]
  },
  {
   "cell_type": "code",
   "execution_count": 26,
   "metadata": {},
   "outputs": [
    {
     "data": {
      "text/plain": [
       "[2, 4, 8, 16, 32, 64, 128, 256, 512, 1024]"
      ]
     },
     "execution_count": 26,
     "metadata": {},
     "output_type": "execute_result"
    }
   ],
   "source": [
    "nums"
   ]
  },
  {
   "cell_type": "markdown",
   "metadata": {},
   "source": [
    "## Function Decorators\n",
    "- https://realpython.com/primer-on-python-decorators/\n",
    "- decorators are higher order functions\n",
    "- decorators take another function as an argument and decorate it\n",
    "    - argument function is decorated by extending its behavior without explictly modifying the function itself\n",
    "    \n",
    "    \n",
    "**How about passing arguments to decorated function and its return values?**\n",
    "1. if the function being decorated takes arguments, provide arguments to the wrapper function\n",
    "    - wrapper function wraps the argument function\n",
    "2. if the function being decorated returns a value, call it with `return` statement\n",
    "\n",
    "**Real-world Applications**\n",
    "- many frameworks such as Flask, Django provide lots of decorators\n",
    "    - e.g. @login_required; @app.route(\"/route_name\"), etc.\n",
    "    - simply define the functions using the library provided decorators!\n",
    "- Python `functools` library provides many higher order decorators:\n",
    "https://docs.python.org/3/library/functools.html"
   ]
  },
  {
   "cell_type": "code",
   "execution_count": 1,
   "metadata": {},
   "outputs": [],
   "source": [
    "# a simple fruitless function without parameter\n",
    "def hello():\n",
    "    \"\"\"Print Hello there!\"\"\"\n",
    "    \n",
    "    print(\"Hello there!\")"
   ]
  },
  {
   "cell_type": "code",
   "execution_count": 2,
   "metadata": {},
   "outputs": [
    {
     "name": "stdout",
     "output_type": "stream",
     "text": [
      "Hello there!\n"
     ]
    }
   ],
   "source": [
    "hello()\n",
    "# too simple... let's decorate hello"
   ]
  },
  {
   "cell_type": "code",
   "execution_count": 6,
   "metadata": {},
   "outputs": [],
   "source": [
    "# a simple decorator function to decorate hello\n",
    "def hello_decorator(func):\n",
    "    \"\"\"Decorate func.\"\"\"\n",
    "    \n",
    "    def wrapper_hello_decorator(*args, **kwargs):\n",
    "        \"\"\"Wrapper for hello function.\"\"\"\n",
    "        \n",
    "        print(\"There's a stranger...\")\n",
    "        # code ...\n",
    "        # call the actual function\n",
    "        #func()\n",
    "        func(*args, **kwargs)\n",
    "        print(\"Have a great time!\")\n",
    "        # code ...\n",
    "    return wrapper_hello_decorator"
   ]
  },
  {
   "cell_type": "code",
   "execution_count": 7,
   "metadata": {},
   "outputs": [],
   "source": [
    "# hello is decorated now, without modifying the original function\n",
    "# just the behavior is modified by added extra print() before and after hello\n",
    "hello_deco = hello_decorator(hello)"
   ]
  },
  {
   "cell_type": "code",
   "execution_count": 8,
   "metadata": {},
   "outputs": [
    {
     "name": "stdout",
     "output_type": "stream",
     "text": [
      "There's a stranger...\n",
      "Hello there!\n",
      "Have a great time!\n"
     ]
    }
   ],
   "source": [
    "hello_deco()"
   ]
  },
  {
   "cell_type": "code",
   "execution_count": 3,
   "metadata": {},
   "outputs": [
    {
     "name": "stdout",
     "output_type": "stream",
     "text": [
      "Hello there!\n"
     ]
    }
   ],
   "source": [
    "hello()"
   ]
  },
  {
   "cell_type": "code",
   "execution_count": 6,
   "metadata": {},
   "outputs": [],
   "source": [
    "# Python provides a better syntax, shortcut!\n",
    "# use @decorter_function name and define the function that needs to be decorated\n",
    "@hello_decorator\n",
    "def say_hi():\n",
    "    \"\"\"print Hi there! with some decorations.\"\"\"\n",
    "    \n",
    "    print(\"Hi there!\")"
   ]
  },
  {
   "cell_type": "code",
   "execution_count": 7,
   "metadata": {},
   "outputs": [
    {
     "name": "stdout",
     "output_type": "stream",
     "text": [
      "There's a stranger...\n",
      "Hi there!\n",
      "Have a great time!\n"
     ]
    }
   ],
   "source": [
    "say_hi()"
   ]
  },
  {
   "cell_type": "code",
   "execution_count": 8,
   "metadata": {},
   "outputs": [
    {
     "data": {
      "text/plain": [
       "'wrapper_hello_decorator'"
      ]
     },
     "execution_count": 8,
     "metadata": {},
     "output_type": "execute_result"
    }
   ],
   "source": [
    "# let's check the name name and docstring for say_hi\n",
    "say_hi.__name__"
   ]
  },
  {
   "cell_type": "code",
   "execution_count": 9,
   "metadata": {},
   "outputs": [
    {
     "data": {
      "text/plain": [
       "'Wrapper for hello function.'"
      ]
     },
     "execution_count": 9,
     "metadata": {},
     "output_type": "execute_result"
    }
   ],
   "source": [
    "say_hi.__doc__"
   ]
  },
  {
   "cell_type": "code",
   "execution_count": 12,
   "metadata": {},
   "outputs": [],
   "source": [
    "# decorated function lost its identify! \n",
    "# Let's preserve the identify of functions being decorated...\n",
    "from functools import wraps\n",
    "\n",
    "# a simple decorator function to decorate hello\n",
    "def hello_better(func):\n",
    "    \"\"\"Decorate func.\"\"\"\n",
    "    \n",
    "    @wraps(func)\n",
    "    def wrapper_hello_better(*args, **kwargs):\n",
    "        \"\"\"Wrapper for hello_better function.\"\"\"\n",
    "        \n",
    "        print(\"There's a stranger...\")\n",
    "        # code ...\n",
    "        # call the actual function\n",
    "        #func()\n",
    "        func(*args, **kwargs)\n",
    "        print(\"Have a great time!\")\n",
    "        # code ...\n",
    "    return wrapper_hello_better\n"
   ]
  },
  {
   "cell_type": "code",
   "execution_count": 13,
   "metadata": {},
   "outputs": [],
   "source": [
    "# let's define a new function with hello_better decorator\n",
    "@hello_better\n",
    "def greet():\n",
    "    \"\"\"Print Good morning!\"\"\"\n",
    "    \n",
    "    print('Good morning!')\n"
   ]
  },
  {
   "cell_type": "code",
   "execution_count": 14,
   "metadata": {},
   "outputs": [
    {
     "name": "stdout",
     "output_type": "stream",
     "text": [
      "There's a stranger...\n",
      "Good morning!\n",
      "Have a great time!\n"
     ]
    }
   ],
   "source": [
    "greet()"
   ]
  },
  {
   "cell_type": "code",
   "execution_count": 15,
   "metadata": {},
   "outputs": [
    {
     "data": {
      "text/plain": [
       "'greet'"
      ]
     },
     "execution_count": 15,
     "metadata": {},
     "output_type": "execute_result"
    }
   ],
   "source": [
    "# let's check the identity of greet\n",
    "greet.__name__"
   ]
  },
  {
   "cell_type": "code",
   "execution_count": 16,
   "metadata": {},
   "outputs": [
    {
     "data": {
      "text/plain": [
       "'Print Good morning!'"
      ]
     },
     "execution_count": 16,
     "metadata": {},
     "output_type": "execute_result"
    }
   ],
   "source": [
    "greet.__doc__"
   ]
  },
  {
   "cell_type": "code",
   "execution_count": 18,
   "metadata": {},
   "outputs": [],
   "source": [
    "# another function decorator example...\n",
    "# a simple count down function\n",
    "def countDown(from_number):\n",
    "    \"\"\"A simple recurisve countdown function.\"\"\"\n",
    "    \n",
    "    if from_number <= 0:\n",
    "        print('Blast off!')\n",
    "    else:\n",
    "        print(from_number)\n",
    "        countDown(from_number-1)"
   ]
  },
  {
   "cell_type": "code",
   "execution_count": 19,
   "metadata": {},
   "outputs": [
    {
     "name": "stdout",
     "output_type": "stream",
     "text": [
      "10\n",
      "9\n",
      "8\n",
      "7\n",
      "6\n",
      "5\n",
      "4\n",
      "3\n",
      "2\n",
      "1\n",
      "Blast off!\n"
     ]
    }
   ],
   "source": [
    "# Doesn't slow down the countdown!\n",
    "countDown(10)"
   ]
  },
  {
   "cell_type": "code",
   "execution_count": 17,
   "metadata": {},
   "outputs": [],
   "source": [
    "# let's slow the countDown by a second by wrapping it up with function decorator!\n",
    "import time\n",
    "\n",
    "# let's write a slow_down wrapper\n",
    "def slow_down(func):\n",
    "    \"\"\"Sleep 1 second before calling the func.\"\"\"\n",
    "    \n",
    "    @wraps(func)\n",
    "    def wrapper_slow_down(*args, **kwargs):\n",
    "        \"\"\"Wrapper function for func.\"\"\"\n",
    "        \n",
    "        time.sleep(1) # sleep for a second\n",
    "        return func(*args, **kwargs) # call and return the result from the func\n",
    "    \n",
    "    return wrapper_slow_down"
   ]
  },
  {
   "cell_type": "code",
   "execution_count": 20,
   "metadata": {},
   "outputs": [],
   "source": [
    "countDownSlow = slow_down(countDown)"
   ]
  },
  {
   "cell_type": "code",
   "execution_count": 21,
   "metadata": {},
   "outputs": [
    {
     "name": "stdout",
     "output_type": "stream",
     "text": [
      "10\n",
      "9\n",
      "8\n",
      "7\n",
      "6\n",
      "5\n",
      "4\n",
      "3\n",
      "2\n",
      "1\n",
      "Blast off!\n"
     ]
    }
   ],
   "source": [
    "countDownSlow(10)"
   ]
  },
  {
   "cell_type": "markdown",
   "metadata": {},
   "source": [
    "- if it doesn't work in Jupyter Notebook, use the provided demo in [demos/count_down_wrapper.py](demos/count_down_wrapper.py)\n",
    "\n",
    "## Python typing\n",
    "\n",
    "https://docs.python.org/3/library/typing.html\n",
    "\n",
    "- Since version 3.5, Python started supporting data type as *hints*\n",
    "- Runtime doesn't enforce function and variable type annotations\n",
    "- used by third party tools such as type checkers, IDEs, linters, etc.\n",
    "- `typing` library has all the supported types\n",
    "- Note: VS Code (v 1.49) type linting on Mac doesn't seem to be working \n",
    "- syntax:\n",
    "```pthon\n",
    " var: type = value\n",
    "```"
   ]
  },
  {
   "cell_type": "code",
   "execution_count": 1,
   "metadata": {},
   "outputs": [],
   "source": [
    "num: int = 10"
   ]
  },
  {
   "cell_type": "code",
   "execution_count": 3,
   "metadata": {},
   "outputs": [
    {
     "data": {
      "text/plain": [
       "10"
      ]
     },
     "execution_count": 3,
     "metadata": {},
     "output_type": "execute_result"
    }
   ],
   "source": [
    "num"
   ]
  },
  {
   "cell_type": "code",
   "execution_count": 4,
   "metadata": {},
   "outputs": [],
   "source": [
    "name: str = \"James Bond\""
   ]
  },
  {
   "cell_type": "code",
   "execution_count": 7,
   "metadata": {},
   "outputs": [],
   "source": [
    "def greeting(name: str) -> str:\n",
    "    return f'Hello, {name}!'"
   ]
  },
  {
   "cell_type": "code",
   "execution_count": 8,
   "metadata": {},
   "outputs": [
    {
     "data": {
      "text/plain": [
       "'Hello, James Bond!'"
      ]
     },
     "execution_count": 8,
     "metadata": {},
     "output_type": "execute_result"
    }
   ],
   "source": [
    "greeting(name)"
   ]
  },
  {
   "cell_type": "code",
   "execution_count": 30,
   "metadata": {},
   "outputs": [],
   "source": [
    "# typing module provides list of supported types\n",
    "import typing"
   ]
  },
  {
   "cell_type": "code",
   "execution_count": 31,
   "metadata": {},
   "outputs": [
    {
     "name": "stdout",
     "output_type": "stream",
     "text": [
      "Help on module typing:\n",
      "\n",
      "NAME\n",
      "    typing - The typing module: Support for gradual typing as defined by PEP 484.\n",
      "\n",
      "MODULE REFERENCE\n",
      "    https://docs.python.org/3.8/library/typing\n",
      "    \n",
      "    The following documentation is automatically generated from the Python\n",
      "    source files.  It may be incomplete, incorrect or include features that\n",
      "    are considered implementation detail and may vary between Python\n",
      "    implementations.  When in doubt, consult the module reference at the\n",
      "    location listed above.\n",
      "\n",
      "DESCRIPTION\n",
      "    At large scale, the structure of the module is following:\n",
      "    * Imports and exports, all public names should be explicitly added to __all__.\n",
      "    * Internal helper functions: these should never be used in code outside this module.\n",
      "    * _SpecialForm and its instances (special forms): Any, NoReturn, ClassVar, Union, Optional\n",
      "    * Two classes whose instances can be type arguments in addition to types: ForwardRef and TypeVar\n",
      "    * The core of internal generics API: _GenericAlias and _VariadicGenericAlias, the latter is\n",
      "      currently only used by Tuple and Callable. All subscripted types like X[int], Union[int, str],\n",
      "      etc., are instances of either of these classes.\n",
      "    * The public counterpart of the generics API consists of two classes: Generic and Protocol.\n",
      "    * Public helper functions: get_type_hints, overload, cast, no_type_check,\n",
      "      no_type_check_decorator.\n",
      "    * Generic aliases for collections.abc ABCs and few additional protocols.\n",
      "    * Special types: NewType, NamedTuple, TypedDict.\n",
      "    * Wrapper submodules for re and io related types.\n",
      "\n",
      "CLASSES\n",
      "    builtins.dict(builtins.object)\n",
      "        TypedDict\n",
      "    builtins.object\n",
      "        builtins.str\n",
      "        Generic\n",
      "            Protocol\n",
      "                SupportsAbs\n",
      "                SupportsBytes\n",
      "                SupportsComplex\n",
      "                SupportsFloat\n",
      "                SupportsIndex\n",
      "                SupportsInt\n",
      "                SupportsRound\n",
      "        NamedTuple\n",
      "    _Final(builtins.object)\n",
      "        ForwardRef\n",
      "        TypeVar(_Final, _Immutable)\n",
      "    _Immutable(builtins.object)\n",
      "        TypeVar(_Final, _Immutable)\n",
      "    \n",
      "    class ForwardRef(_Final)\n",
      "     |  ForwardRef(arg, is_argument=True)\n",
      "     |  \n",
      "     |  Internal wrapper to hold a forward reference.\n",
      "     |  \n",
      "     |  Method resolution order:\n",
      "     |      ForwardRef\n",
      "     |      _Final\n",
      "     |      builtins.object\n",
      "     |  \n",
      "     |  Methods defined here:\n",
      "     |  \n",
      "     |  __eq__(self, other)\n",
      "     |      Return self==value.\n",
      "     |  \n",
      "     |  __hash__(self)\n",
      "     |      Return hash(self).\n",
      "     |  \n",
      "     |  __init__(self, arg, is_argument=True)\n",
      "     |      Initialize self.  See help(type(self)) for accurate signature.\n",
      "     |  \n",
      "     |  __repr__(self)\n",
      "     |      Return repr(self).\n",
      "     |  \n",
      "     |  ----------------------------------------------------------------------\n",
      "     |  Data descriptors defined here:\n",
      "     |  \n",
      "     |  __forward_arg__\n",
      "     |  \n",
      "     |  __forward_code__\n",
      "     |  \n",
      "     |  __forward_evaluated__\n",
      "     |  \n",
      "     |  __forward_is_argument__\n",
      "     |  \n",
      "     |  __forward_value__\n",
      "     |  \n",
      "     |  ----------------------------------------------------------------------\n",
      "     |  Class methods inherited from _Final:\n",
      "     |  \n",
      "     |  __init_subclass__(*args, **kwds) from builtins.type\n",
      "     |      This method is called when a class is subclassed.\n",
      "     |      \n",
      "     |      The default implementation does nothing. It may be\n",
      "     |      overridden to extend subclasses.\n",
      "     |  \n",
      "     |  ----------------------------------------------------------------------\n",
      "     |  Data descriptors inherited from _Final:\n",
      "     |  \n",
      "     |  __weakref__\n",
      "     |      list of weak references to the object (if defined)\n",
      "    \n",
      "    class Generic(builtins.object)\n",
      "     |  Generic(*args, **kwds)\n",
      "     |  \n",
      "     |  Abstract base class for generic types.\n",
      "     |  \n",
      "     |  A generic type is typically declared by inheriting from\n",
      "     |  this class parameterized with one or more type variables.\n",
      "     |  For example, a generic mapping type might be defined as::\n",
      "     |  \n",
      "     |    class Mapping(Generic[KT, VT]):\n",
      "     |        def __getitem__(self, key: KT) -> VT:\n",
      "     |            ...\n",
      "     |        # Etc.\n",
      "     |  \n",
      "     |  This class can then be used as follows::\n",
      "     |  \n",
      "     |    def lookup_name(mapping: Mapping[KT, VT], key: KT, default: VT) -> VT:\n",
      "     |        try:\n",
      "     |            return mapping[key]\n",
      "     |        except KeyError:\n",
      "     |            return default\n",
      "     |  \n",
      "     |  Class methods defined here:\n",
      "     |  \n",
      "     |  __class_getitem__(params) from builtins.type\n",
      "     |  \n",
      "     |  __init_subclass__(*args, **kwargs) from builtins.type\n",
      "     |      This method is called when a class is subclassed.\n",
      "     |      \n",
      "     |      The default implementation does nothing. It may be\n",
      "     |      overridden to extend subclasses.\n",
      "     |  \n",
      "     |  ----------------------------------------------------------------------\n",
      "     |  Static methods defined here:\n",
      "     |  \n",
      "     |  __new__(cls, *args, **kwds)\n",
      "     |      Create and return a new object.  See help(type) for accurate signature.\n",
      "    \n",
      "    class NamedTuple(builtins.object)\n",
      "     |  NamedTuple(typename, fields=None, /, **kwargs)\n",
      "     |  \n",
      "     |  Typed version of namedtuple.\n",
      "     |  \n",
      "     |  Usage in Python versions >= 3.6::\n",
      "     |  \n",
      "     |      class Employee(NamedTuple):\n",
      "     |          name: str\n",
      "     |          id: int\n",
      "     |  \n",
      "     |  This is equivalent to::\n",
      "     |  \n",
      "     |      Employee = collections.namedtuple('Employee', ['name', 'id'])\n",
      "     |  \n",
      "     |  The resulting class has an extra __annotations__ attribute, giving a\n",
      "     |  dict that maps field names to types.  (The field names are also in\n",
      "     |  the _fields attribute, which is part of the namedtuple API.)\n",
      "     |  Alternative equivalent keyword syntax is also accepted::\n",
      "     |  \n",
      "     |      Employee = NamedTuple('Employee', name=str, id=int)\n",
      "     |  \n",
      "     |  In Python versions <= 3.5 use::\n",
      "     |  \n",
      "     |      Employee = NamedTuple('Employee', [('name', str), ('id', int)])\n",
      "     |  \n",
      "     |  Static methods defined here:\n",
      "     |  \n",
      "     |  __new__(cls, typename, fields=None, /, **kwargs)\n",
      "     |      Create and return a new object.  See help(type) for accurate signature.\n",
      "     |  \n",
      "     |  ----------------------------------------------------------------------\n",
      "     |  Data descriptors defined here:\n",
      "     |  \n",
      "     |  __dict__\n",
      "     |      dictionary for instance variables (if defined)\n",
      "     |  \n",
      "     |  __weakref__\n",
      "     |      list of weak references to the object (if defined)\n",
      "    \n",
      "    class Protocol(Generic)\n",
      "     |  Protocol(*args, **kwds)\n",
      "     |  \n",
      "     |  Base class for protocol classes.\n",
      "     |  \n",
      "     |  Protocol classes are defined as::\n",
      "     |  \n",
      "     |      class Proto(Protocol):\n",
      "     |          def meth(self) -> int:\n",
      "     |              ...\n",
      "     |  \n",
      "     |  Such classes are primarily used with static type checkers that recognize\n",
      "     |  structural subtyping (static duck-typing), for example::\n",
      "     |  \n",
      "     |      class C:\n",
      "     |          def meth(self) -> int:\n",
      "     |              return 0\n",
      "     |  \n",
      "     |      def func(x: Proto) -> int:\n",
      "     |          return x.meth()\n",
      "     |  \n",
      "     |      func(C())  # Passes static type check\n",
      "     |  \n",
      "     |  See PEP 544 for details. Protocol classes decorated with\n",
      "     |  @typing.runtime_checkable act as simple-minded runtime protocols that check\n",
      "     |  only the presence of given attributes, ignoring their type signatures.\n",
      "     |  Protocol classes can be generic, they are defined as::\n",
      "     |  \n",
      "     |      class GenProto(Protocol[T]):\n",
      "     |          def meth(self) -> T:\n",
      "     |              ...\n",
      "     |  \n",
      "     |  Method resolution order:\n",
      "     |      Protocol\n",
      "     |      Generic\n",
      "     |      builtins.object\n",
      "     |  \n",
      "     |  Class methods defined here:\n",
      "     |  \n",
      "     |  __init_subclass__(*args, **kwargs) from _ProtocolMeta\n",
      "     |      This method is called when a class is subclassed.\n",
      "     |      \n",
      "     |      The default implementation does nothing. It may be\n",
      "     |      overridden to extend subclasses.\n",
      "     |  \n",
      "     |  ----------------------------------------------------------------------\n",
      "     |  Data and other attributes defined here:\n",
      "     |  \n",
      "     |  __abstractmethods__ = frozenset()\n",
      "     |  \n",
      "     |  __parameters__ = ()\n",
      "     |  \n",
      "     |  ----------------------------------------------------------------------\n",
      "     |  Class methods inherited from Generic:\n",
      "     |  \n",
      "     |  __class_getitem__(params) from _ProtocolMeta\n",
      "     |  \n",
      "     |  ----------------------------------------------------------------------\n",
      "     |  Static methods inherited from Generic:\n",
      "     |  \n",
      "     |  __new__(cls, *args, **kwds)\n",
      "     |      Create and return a new object.  See help(type) for accurate signature.\n",
      "    \n",
      "    class SupportsAbs(Protocol)\n",
      "     |  SupportsAbs(*args, **kwds)\n",
      "     |  \n",
      "     |  An ABC with one abstract method __abs__ that is covariant in its return type.\n",
      "     |  \n",
      "     |  Method resolution order:\n",
      "     |      SupportsAbs\n",
      "     |      Protocol\n",
      "     |      Generic\n",
      "     |      builtins.object\n",
      "     |  \n",
      "     |  Methods defined here:\n",
      "     |  \n",
      "     |  __abs__(self) -> +T_co\n",
      "     |  \n",
      "     |  __init__ = _no_init(self, *args, **kwargs)\n",
      "     |  \n",
      "     |  __subclasshook__ = _proto_hook(other)\n",
      "     |      # Set (or override) the protocol subclass hook.\n",
      "     |  \n",
      "     |  ----------------------------------------------------------------------\n",
      "     |  Data and other attributes defined here:\n",
      "     |  \n",
      "     |  __abstractmethods__ = frozenset({'__abs__'})\n",
      "     |  \n",
      "     |  __orig_bases__ = (typing.Protocol[+T_co],)\n",
      "     |  \n",
      "     |  __parameters__ = (+T_co,)\n",
      "     |  \n",
      "     |  ----------------------------------------------------------------------\n",
      "     |  Class methods inherited from Protocol:\n",
      "     |  \n",
      "     |  __init_subclass__(*args, **kwargs) from _ProtocolMeta\n",
      "     |      This method is called when a class is subclassed.\n",
      "     |      \n",
      "     |      The default implementation does nothing. It may be\n",
      "     |      overridden to extend subclasses.\n",
      "     |  \n",
      "     |  ----------------------------------------------------------------------\n",
      "     |  Class methods inherited from Generic:\n",
      "     |  \n",
      "     |  __class_getitem__(params) from _ProtocolMeta\n",
      "     |  \n",
      "     |  ----------------------------------------------------------------------\n",
      "     |  Static methods inherited from Generic:\n",
      "     |  \n",
      "     |  __new__(cls, *args, **kwds)\n",
      "     |      Create and return a new object.  See help(type) for accurate signature.\n",
      "    \n",
      "    class SupportsBytes(Protocol)\n",
      "     |  SupportsBytes(*args, **kwds)\n",
      "     |  \n",
      "     |  An ABC with one abstract method __bytes__.\n",
      "     |  \n",
      "     |  Method resolution order:\n",
      "     |      SupportsBytes\n",
      "     |      Protocol\n",
      "     |      Generic\n",
      "     |      builtins.object\n",
      "     |  \n",
      "     |  Methods defined here:\n",
      "     |  \n",
      "     |  __bytes__(self) -> bytes\n",
      "     |  \n",
      "     |  __init__ = _no_init(self, *args, **kwargs)\n",
      "     |  \n",
      "     |  __subclasshook__ = _proto_hook(other)\n",
      "     |      # Set (or override) the protocol subclass hook.\n",
      "     |  \n",
      "     |  ----------------------------------------------------------------------\n",
      "     |  Data and other attributes defined here:\n",
      "     |  \n",
      "     |  __abstractmethods__ = frozenset({'__bytes__'})\n",
      "     |  \n",
      "     |  __parameters__ = ()\n",
      "     |  \n",
      "     |  ----------------------------------------------------------------------\n",
      "     |  Class methods inherited from Protocol:\n",
      "     |  \n",
      "     |  __init_subclass__(*args, **kwargs) from _ProtocolMeta\n",
      "     |      This method is called when a class is subclassed.\n",
      "     |      \n",
      "     |      The default implementation does nothing. It may be\n",
      "     |      overridden to extend subclasses.\n",
      "     |  \n",
      "     |  ----------------------------------------------------------------------\n",
      "     |  Class methods inherited from Generic:\n",
      "     |  \n",
      "     |  __class_getitem__(params) from _ProtocolMeta\n",
      "     |  \n",
      "     |  ----------------------------------------------------------------------\n",
      "     |  Static methods inherited from Generic:\n",
      "     |  \n",
      "     |  __new__(cls, *args, **kwds)\n",
      "     |      Create and return a new object.  See help(type) for accurate signature.\n",
      "    \n",
      "    class SupportsComplex(Protocol)\n",
      "     |  SupportsComplex(*args, **kwds)\n",
      "     |  \n",
      "     |  An ABC with one abstract method __complex__.\n",
      "     |  \n",
      "     |  Method resolution order:\n",
      "     |      SupportsComplex\n",
      "     |      Protocol\n",
      "     |      Generic\n",
      "     |      builtins.object\n",
      "     |  \n",
      "     |  Methods defined here:\n",
      "     |  \n",
      "     |  __complex__(self) -> complex\n",
      "     |  \n",
      "     |  __init__ = _no_init(self, *args, **kwargs)\n",
      "     |  \n",
      "     |  __subclasshook__ = _proto_hook(other)\n",
      "     |      # Set (or override) the protocol subclass hook.\n",
      "     |  \n",
      "     |  ----------------------------------------------------------------------\n",
      "     |  Data and other attributes defined here:\n",
      "     |  \n",
      "     |  __abstractmethods__ = frozenset({'__complex__'})\n",
      "     |  \n",
      "     |  __parameters__ = ()\n",
      "     |  \n",
      "     |  ----------------------------------------------------------------------\n",
      "     |  Class methods inherited from Protocol:\n",
      "     |  \n",
      "     |  __init_subclass__(*args, **kwargs) from _ProtocolMeta\n",
      "     |      This method is called when a class is subclassed.\n",
      "     |      \n",
      "     |      The default implementation does nothing. It may be\n",
      "     |      overridden to extend subclasses.\n",
      "     |  \n",
      "     |  ----------------------------------------------------------------------\n",
      "     |  Class methods inherited from Generic:\n",
      "     |  \n",
      "     |  __class_getitem__(params) from _ProtocolMeta\n",
      "     |  \n",
      "     |  ----------------------------------------------------------------------\n",
      "     |  Static methods inherited from Generic:\n",
      "     |  \n",
      "     |  __new__(cls, *args, **kwds)\n",
      "     |      Create and return a new object.  See help(type) for accurate signature.\n",
      "    \n",
      "    class SupportsFloat(Protocol)\n",
      "     |  SupportsFloat(*args, **kwds)\n",
      "     |  \n",
      "     |  An ABC with one abstract method __float__.\n",
      "     |  \n",
      "     |  Method resolution order:\n",
      "     |      SupportsFloat\n",
      "     |      Protocol\n",
      "     |      Generic\n",
      "     |      builtins.object\n",
      "     |  \n",
      "     |  Methods defined here:\n",
      "     |  \n",
      "     |  __float__(self) -> float\n",
      "     |  \n",
      "     |  __init__ = _no_init(self, *args, **kwargs)\n",
      "     |  \n",
      "     |  __subclasshook__ = _proto_hook(other)\n",
      "     |      # Set (or override) the protocol subclass hook.\n",
      "     |  \n",
      "     |  ----------------------------------------------------------------------\n",
      "     |  Data and other attributes defined here:\n",
      "     |  \n",
      "     |  __abstractmethods__ = frozenset({'__float__'})\n",
      "     |  \n",
      "     |  __parameters__ = ()\n",
      "     |  \n",
      "     |  ----------------------------------------------------------------------\n",
      "     |  Class methods inherited from Protocol:\n",
      "     |  \n",
      "     |  __init_subclass__(*args, **kwargs) from _ProtocolMeta\n",
      "     |      This method is called when a class is subclassed.\n",
      "     |      \n",
      "     |      The default implementation does nothing. It may be\n",
      "     |      overridden to extend subclasses.\n",
      "     |  \n",
      "     |  ----------------------------------------------------------------------\n",
      "     |  Class methods inherited from Generic:\n",
      "     |  \n",
      "     |  __class_getitem__(params) from _ProtocolMeta\n",
      "     |  \n",
      "     |  ----------------------------------------------------------------------\n",
      "     |  Static methods inherited from Generic:\n",
      "     |  \n",
      "     |  __new__(cls, *args, **kwds)\n",
      "     |      Create and return a new object.  See help(type) for accurate signature.\n",
      "    \n",
      "    class SupportsIndex(Protocol)\n",
      "     |  SupportsIndex(*args, **kwds)\n",
      "     |  \n",
      "     |  An ABC with one abstract method __index__.\n",
      "     |  \n",
      "     |  Method resolution order:\n",
      "     |      SupportsIndex\n",
      "     |      Protocol\n",
      "     |      Generic\n",
      "     |      builtins.object\n",
      "     |  \n",
      "     |  Methods defined here:\n",
      "     |  \n",
      "     |  __index__(self) -> int\n",
      "     |  \n",
      "     |  __init__ = _no_init(self, *args, **kwargs)\n",
      "     |  \n",
      "     |  __subclasshook__ = _proto_hook(other)\n",
      "     |      # Set (or override) the protocol subclass hook.\n",
      "     |  \n",
      "     |  ----------------------------------------------------------------------\n",
      "     |  Data and other attributes defined here:\n",
      "     |  \n",
      "     |  __abstractmethods__ = frozenset({'__index__'})\n",
      "     |  \n",
      "     |  __parameters__ = ()\n",
      "     |  \n",
      "     |  ----------------------------------------------------------------------\n",
      "     |  Class methods inherited from Protocol:\n",
      "     |  \n",
      "     |  __init_subclass__(*args, **kwargs) from _ProtocolMeta\n",
      "     |      This method is called when a class is subclassed.\n",
      "     |      \n",
      "     |      The default implementation does nothing. It may be\n",
      "     |      overridden to extend subclasses.\n",
      "     |  \n",
      "     |  ----------------------------------------------------------------------\n",
      "     |  Class methods inherited from Generic:\n",
      "     |  \n",
      "     |  __class_getitem__(params) from _ProtocolMeta\n",
      "     |  \n",
      "     |  ----------------------------------------------------------------------\n",
      "     |  Static methods inherited from Generic:\n",
      "     |  \n",
      "     |  __new__(cls, *args, **kwds)\n",
      "     |      Create and return a new object.  See help(type) for accurate signature.\n",
      "    \n",
      "    class SupportsInt(Protocol)\n",
      "     |  SupportsInt(*args, **kwds)\n",
      "     |  \n",
      "     |  An ABC with one abstract method __int__.\n",
      "     |  \n",
      "     |  Method resolution order:\n",
      "     |      SupportsInt\n",
      "     |      Protocol\n",
      "     |      Generic\n",
      "     |      builtins.object\n",
      "     |  \n",
      "     |  Methods defined here:\n",
      "     |  \n",
      "     |  __init__ = _no_init(self, *args, **kwargs)\n",
      "     |  \n",
      "     |  __int__(self) -> int\n",
      "     |  \n",
      "     |  __subclasshook__ = _proto_hook(other)\n",
      "     |      # Set (or override) the protocol subclass hook.\n",
      "     |  \n",
      "     |  ----------------------------------------------------------------------\n",
      "     |  Data and other attributes defined here:\n",
      "     |  \n",
      "     |  __abstractmethods__ = frozenset({'__int__'})\n",
      "     |  \n",
      "     |  __parameters__ = ()\n",
      "     |  \n",
      "     |  ----------------------------------------------------------------------\n",
      "     |  Class methods inherited from Protocol:\n",
      "     |  \n",
      "     |  __init_subclass__(*args, **kwargs) from _ProtocolMeta\n",
      "     |      This method is called when a class is subclassed.\n",
      "     |      \n",
      "     |      The default implementation does nothing. It may be\n",
      "     |      overridden to extend subclasses.\n",
      "     |  \n",
      "     |  ----------------------------------------------------------------------\n",
      "     |  Class methods inherited from Generic:\n",
      "     |  \n",
      "     |  __class_getitem__(params) from _ProtocolMeta\n",
      "     |  \n",
      "     |  ----------------------------------------------------------------------\n",
      "     |  Static methods inherited from Generic:\n",
      "     |  \n",
      "     |  __new__(cls, *args, **kwds)\n",
      "     |      Create and return a new object.  See help(type) for accurate signature.\n",
      "    \n",
      "    class SupportsRound(Protocol)\n",
      "     |  SupportsRound(*args, **kwds)\n",
      "     |  \n",
      "     |  An ABC with one abstract method __round__ that is covariant in its return type.\n",
      "     |  \n",
      "     |  Method resolution order:\n",
      "     |      SupportsRound\n",
      "     |      Protocol\n",
      "     |      Generic\n",
      "     |      builtins.object\n",
      "     |  \n",
      "     |  Methods defined here:\n",
      "     |  \n",
      "     |  __init__ = _no_init(self, *args, **kwargs)\n",
      "     |  \n",
      "     |  __round__(self, ndigits: int = 0) -> +T_co\n",
      "     |  \n",
      "     |  __subclasshook__ = _proto_hook(other)\n",
      "     |      # Set (or override) the protocol subclass hook.\n",
      "     |  \n",
      "     |  ----------------------------------------------------------------------\n",
      "     |  Data and other attributes defined here:\n",
      "     |  \n",
      "     |  __abstractmethods__ = frozenset({'__round__'})\n",
      "     |  \n",
      "     |  __orig_bases__ = (typing.Protocol[+T_co],)\n",
      "     |  \n",
      "     |  __parameters__ = (+T_co,)\n",
      "     |  \n",
      "     |  ----------------------------------------------------------------------\n",
      "     |  Class methods inherited from Protocol:\n",
      "     |  \n",
      "     |  __init_subclass__(*args, **kwargs) from _ProtocolMeta\n",
      "     |      This method is called when a class is subclassed.\n",
      "     |      \n",
      "     |      The default implementation does nothing. It may be\n",
      "     |      overridden to extend subclasses.\n",
      "     |  \n",
      "     |  ----------------------------------------------------------------------\n",
      "     |  Class methods inherited from Generic:\n",
      "     |  \n",
      "     |  __class_getitem__(params) from _ProtocolMeta\n",
      "     |  \n",
      "     |  ----------------------------------------------------------------------\n",
      "     |  Static methods inherited from Generic:\n",
      "     |  \n",
      "     |  __new__(cls, *args, **kwds)\n",
      "     |      Create and return a new object.  See help(type) for accurate signature.\n",
      "    \n",
      "    Text = class str(object)\n",
      "     |  str(object='') -> str\n",
      "     |  str(bytes_or_buffer[, encoding[, errors]]) -> str\n",
      "     |  \n",
      "     |  Create a new string object from the given object. If encoding or\n",
      "     |  errors is specified, then the object must expose a data buffer\n",
      "     |  that will be decoded using the given encoding and error handler.\n",
      "     |  Otherwise, returns the result of object.__str__() (if defined)\n",
      "     |  or repr(object).\n",
      "     |  encoding defaults to sys.getdefaultencoding().\n",
      "     |  errors defaults to 'strict'.\n",
      "     |  \n",
      "     |  Methods defined here:\n",
      "     |  \n",
      "     |  __add__(self, value, /)\n",
      "     |      Return self+value.\n",
      "     |  \n",
      "     |  __contains__(self, key, /)\n",
      "     |      Return key in self.\n",
      "     |  \n",
      "     |  __eq__(self, value, /)\n",
      "     |      Return self==value.\n",
      "     |  \n",
      "     |  __format__(self, format_spec, /)\n",
      "     |      Return a formatted version of the string as described by format_spec.\n",
      "     |  \n",
      "     |  __ge__(self, value, /)\n",
      "     |      Return self>=value.\n",
      "     |  \n",
      "     |  __getattribute__(self, name, /)\n",
      "     |      Return getattr(self, name).\n",
      "     |  \n",
      "     |  __getitem__(self, key, /)\n",
      "     |      Return self[key].\n",
      "     |  \n",
      "     |  __getnewargs__(...)\n",
      "     |  \n",
      "     |  __gt__(self, value, /)\n",
      "     |      Return self>value.\n",
      "     |  \n",
      "     |  __hash__(self, /)\n",
      "     |      Return hash(self).\n",
      "     |  \n",
      "     |  __iter__(self, /)\n",
      "     |      Implement iter(self).\n",
      "     |  \n",
      "     |  __le__(self, value, /)\n",
      "     |      Return self<=value.\n",
      "     |  \n",
      "     |  __len__(self, /)\n",
      "     |      Return len(self).\n",
      "     |  \n",
      "     |  __lt__(self, value, /)\n",
      "     |      Return self<value.\n",
      "     |  \n",
      "     |  __mod__(self, value, /)\n",
      "     |      Return self%value.\n",
      "     |  \n",
      "     |  __mul__(self, value, /)\n",
      "     |      Return self*value.\n",
      "     |  \n",
      "     |  __ne__(self, value, /)\n",
      "     |      Return self!=value.\n",
      "     |  \n",
      "     |  __repr__(self, /)\n",
      "     |      Return repr(self).\n",
      "     |  \n",
      "     |  __rmod__(self, value, /)\n",
      "     |      Return value%self.\n",
      "     |  \n",
      "     |  __rmul__(self, value, /)\n",
      "     |      Return value*self.\n",
      "     |  \n",
      "     |  __sizeof__(self, /)\n",
      "     |      Return the size of the string in memory, in bytes.\n",
      "     |  \n",
      "     |  __str__(self, /)\n",
      "     |      Return str(self).\n",
      "     |  \n",
      "     |  capitalize(self, /)\n",
      "     |      Return a capitalized version of the string.\n",
      "     |      \n",
      "     |      More specifically, make the first character have upper case and the rest lower\n",
      "     |      case.\n",
      "     |  \n",
      "     |  casefold(self, /)\n",
      "     |      Return a version of the string suitable for caseless comparisons.\n",
      "     |  \n",
      "     |  center(self, width, fillchar=' ', /)\n",
      "     |      Return a centered string of length width.\n",
      "     |      \n",
      "     |      Padding is done using the specified fill character (default is a space).\n",
      "     |  \n",
      "     |  count(...)\n",
      "     |      S.count(sub[, start[, end]]) -> int\n",
      "     |      \n",
      "     |      Return the number of non-overlapping occurrences of substring sub in\n",
      "     |      string S[start:end].  Optional arguments start and end are\n",
      "     |      interpreted as in slice notation.\n",
      "     |  \n",
      "     |  encode(self, /, encoding='utf-8', errors='strict')\n",
      "     |      Encode the string using the codec registered for encoding.\n",
      "     |      \n",
      "     |      encoding\n",
      "     |        The encoding in which to encode the string.\n",
      "     |      errors\n",
      "     |        The error handling scheme to use for encoding errors.\n",
      "     |        The default is 'strict' meaning that encoding errors raise a\n",
      "     |        UnicodeEncodeError.  Other possible values are 'ignore', 'replace' and\n",
      "     |        'xmlcharrefreplace' as well as any other name registered with\n",
      "     |        codecs.register_error that can handle UnicodeEncodeErrors.\n",
      "     |  \n",
      "     |  endswith(...)\n",
      "     |      S.endswith(suffix[, start[, end]]) -> bool\n",
      "     |      \n",
      "     |      Return True if S ends with the specified suffix, False otherwise.\n",
      "     |      With optional start, test S beginning at that position.\n",
      "     |      With optional end, stop comparing S at that position.\n",
      "     |      suffix can also be a tuple of strings to try.\n",
      "     |  \n",
      "     |  expandtabs(self, /, tabsize=8)\n",
      "     |      Return a copy where all tab characters are expanded using spaces.\n",
      "     |      \n",
      "     |      If tabsize is not given, a tab size of 8 characters is assumed.\n",
      "     |  \n",
      "     |  find(...)\n",
      "     |      S.find(sub[, start[, end]]) -> int\n",
      "     |      \n",
      "     |      Return the lowest index in S where substring sub is found,\n",
      "     |      such that sub is contained within S[start:end].  Optional\n",
      "     |      arguments start and end are interpreted as in slice notation.\n",
      "     |      \n",
      "     |      Return -1 on failure.\n",
      "     |  \n",
      "     |  format(...)\n",
      "     |      S.format(*args, **kwargs) -> str\n",
      "     |      \n",
      "     |      Return a formatted version of S, using substitutions from args and kwargs.\n",
      "     |      The substitutions are identified by braces ('{' and '}').\n",
      "     |  \n",
      "     |  format_map(...)\n",
      "     |      S.format_map(mapping) -> str\n",
      "     |      \n",
      "     |      Return a formatted version of S, using substitutions from mapping.\n",
      "     |      The substitutions are identified by braces ('{' and '}').\n",
      "     |  \n",
      "     |  index(...)\n",
      "     |      S.index(sub[, start[, end]]) -> int\n",
      "     |      \n",
      "     |      Return the lowest index in S where substring sub is found,\n",
      "     |      such that sub is contained within S[start:end].  Optional\n",
      "     |      arguments start and end are interpreted as in slice notation.\n",
      "     |      \n",
      "     |      Raises ValueError when the substring is not found.\n",
      "     |  \n",
      "     |  isalnum(self, /)\n",
      "     |      Return True if the string is an alpha-numeric string, False otherwise.\n",
      "     |      \n",
      "     |      A string is alpha-numeric if all characters in the string are alpha-numeric and\n",
      "     |      there is at least one character in the string.\n",
      "     |  \n",
      "     |  isalpha(self, /)\n",
      "     |      Return True if the string is an alphabetic string, False otherwise.\n",
      "     |      \n",
      "     |      A string is alphabetic if all characters in the string are alphabetic and there\n",
      "     |      is at least one character in the string.\n",
      "     |  \n",
      "     |  isascii(self, /)\n",
      "     |      Return True if all characters in the string are ASCII, False otherwise.\n",
      "     |      \n",
      "     |      ASCII characters have code points in the range U+0000-U+007F.\n",
      "     |      Empty string is ASCII too.\n",
      "     |  \n",
      "     |  isdecimal(self, /)\n",
      "     |      Return True if the string is a decimal string, False otherwise.\n",
      "     |      \n",
      "     |      A string is a decimal string if all characters in the string are decimal and\n",
      "     |      there is at least one character in the string.\n",
      "     |  \n",
      "     |  isdigit(self, /)\n",
      "     |      Return True if the string is a digit string, False otherwise.\n",
      "     |      \n",
      "     |      A string is a digit string if all characters in the string are digits and there\n",
      "     |      is at least one character in the string.\n",
      "     |  \n",
      "     |  isidentifier(self, /)\n",
      "     |      Return True if the string is a valid Python identifier, False otherwise.\n",
      "     |      \n",
      "     |      Call keyword.iskeyword(s) to test whether string s is a reserved identifier,\n",
      "     |      such as \"def\" or \"class\".\n",
      "     |  \n",
      "     |  islower(self, /)\n",
      "     |      Return True if the string is a lowercase string, False otherwise.\n",
      "     |      \n",
      "     |      A string is lowercase if all cased characters in the string are lowercase and\n",
      "     |      there is at least one cased character in the string.\n",
      "     |  \n",
      "     |  isnumeric(self, /)\n",
      "     |      Return True if the string is a numeric string, False otherwise.\n",
      "     |      \n",
      "     |      A string is numeric if all characters in the string are numeric and there is at\n",
      "     |      least one character in the string.\n",
      "     |  \n",
      "     |  isprintable(self, /)\n",
      "     |      Return True if the string is printable, False otherwise.\n",
      "     |      \n",
      "     |      A string is printable if all of its characters are considered printable in\n",
      "     |      repr() or if it is empty.\n",
      "     |  \n",
      "     |  isspace(self, /)\n",
      "     |      Return True if the string is a whitespace string, False otherwise.\n",
      "     |      \n",
      "     |      A string is whitespace if all characters in the string are whitespace and there\n",
      "     |      is at least one character in the string.\n",
      "     |  \n",
      "     |  istitle(self, /)\n",
      "     |      Return True if the string is a title-cased string, False otherwise.\n",
      "     |      \n",
      "     |      In a title-cased string, upper- and title-case characters may only\n",
      "     |      follow uncased characters and lowercase characters only cased ones.\n",
      "     |  \n",
      "     |  isupper(self, /)\n",
      "     |      Return True if the string is an uppercase string, False otherwise.\n",
      "     |      \n",
      "     |      A string is uppercase if all cased characters in the string are uppercase and\n",
      "     |      there is at least one cased character in the string.\n",
      "     |  \n",
      "     |  join(self, iterable, /)\n",
      "     |      Concatenate any number of strings.\n",
      "     |      \n",
      "     |      The string whose method is called is inserted in between each given string.\n",
      "     |      The result is returned as a new string.\n",
      "     |      \n",
      "     |      Example: '.'.join(['ab', 'pq', 'rs']) -> 'ab.pq.rs'\n",
      "     |  \n",
      "     |  ljust(self, width, fillchar=' ', /)\n",
      "     |      Return a left-justified string of length width.\n",
      "     |      \n",
      "     |      Padding is done using the specified fill character (default is a space).\n",
      "     |  \n",
      "     |  lower(self, /)\n",
      "     |      Return a copy of the string converted to lowercase.\n",
      "     |  \n",
      "     |  lstrip(self, chars=None, /)\n",
      "     |      Return a copy of the string with leading whitespace removed.\n",
      "     |      \n",
      "     |      If chars is given and not None, remove characters in chars instead.\n",
      "     |  \n",
      "     |  partition(self, sep, /)\n",
      "     |      Partition the string into three parts using the given separator.\n",
      "     |      \n",
      "     |      This will search for the separator in the string.  If the separator is found,\n",
      "     |      returns a 3-tuple containing the part before the separator, the separator\n",
      "     |      itself, and the part after it.\n",
      "     |      \n",
      "     |      If the separator is not found, returns a 3-tuple containing the original string\n",
      "     |      and two empty strings.\n",
      "     |  \n",
      "     |  replace(self, old, new, count=-1, /)\n",
      "     |      Return a copy with all occurrences of substring old replaced by new.\n",
      "     |      \n",
      "     |        count\n",
      "     |          Maximum number of occurrences to replace.\n",
      "     |          -1 (the default value) means replace all occurrences.\n",
      "     |      \n",
      "     |      If the optional argument count is given, only the first count occurrences are\n",
      "     |      replaced.\n",
      "     |  \n",
      "     |  rfind(...)\n",
      "     |      S.rfind(sub[, start[, end]]) -> int\n",
      "     |      \n",
      "     |      Return the highest index in S where substring sub is found,\n",
      "     |      such that sub is contained within S[start:end].  Optional\n",
      "     |      arguments start and end are interpreted as in slice notation.\n",
      "     |      \n",
      "     |      Return -1 on failure.\n",
      "     |  \n",
      "     |  rindex(...)\n",
      "     |      S.rindex(sub[, start[, end]]) -> int\n",
      "     |      \n",
      "     |      Return the highest index in S where substring sub is found,\n",
      "     |      such that sub is contained within S[start:end].  Optional\n",
      "     |      arguments start and end are interpreted as in slice notation.\n",
      "     |      \n",
      "     |      Raises ValueError when the substring is not found.\n",
      "     |  \n",
      "     |  rjust(self, width, fillchar=' ', /)\n",
      "     |      Return a right-justified string of length width.\n",
      "     |      \n",
      "     |      Padding is done using the specified fill character (default is a space).\n",
      "     |  \n",
      "     |  rpartition(self, sep, /)\n",
      "     |      Partition the string into three parts using the given separator.\n",
      "     |      \n",
      "     |      This will search for the separator in the string, starting at the end. If\n",
      "     |      the separator is found, returns a 3-tuple containing the part before the\n",
      "     |      separator, the separator itself, and the part after it.\n",
      "     |      \n",
      "     |      If the separator is not found, returns a 3-tuple containing two empty strings\n",
      "     |      and the original string.\n",
      "     |  \n",
      "     |  rsplit(self, /, sep=None, maxsplit=-1)\n",
      "     |      Return a list of the words in the string, using sep as the delimiter string.\n",
      "     |      \n",
      "     |        sep\n",
      "     |          The delimiter according which to split the string.\n",
      "     |          None (the default value) means split according to any whitespace,\n",
      "     |          and discard empty strings from the result.\n",
      "     |        maxsplit\n",
      "     |          Maximum number of splits to do.\n",
      "     |          -1 (the default value) means no limit.\n",
      "     |      \n",
      "     |      Splits are done starting at the end of the string and working to the front.\n",
      "     |  \n",
      "     |  rstrip(self, chars=None, /)\n",
      "     |      Return a copy of the string with trailing whitespace removed.\n",
      "     |      \n",
      "     |      If chars is given and not None, remove characters in chars instead.\n",
      "     |  \n",
      "     |  split(self, /, sep=None, maxsplit=-1)\n",
      "     |      Return a list of the words in the string, using sep as the delimiter string.\n",
      "     |      \n",
      "     |      sep\n",
      "     |        The delimiter according which to split the string.\n",
      "     |        None (the default value) means split according to any whitespace,\n",
      "     |        and discard empty strings from the result.\n",
      "     |      maxsplit\n",
      "     |        Maximum number of splits to do.\n",
      "     |        -1 (the default value) means no limit.\n",
      "     |  \n",
      "     |  splitlines(self, /, keepends=False)\n",
      "     |      Return a list of the lines in the string, breaking at line boundaries.\n",
      "     |      \n",
      "     |      Line breaks are not included in the resulting list unless keepends is given and\n",
      "     |      true.\n",
      "     |  \n",
      "     |  startswith(...)\n",
      "     |      S.startswith(prefix[, start[, end]]) -> bool\n",
      "     |      \n",
      "     |      Return True if S starts with the specified prefix, False otherwise.\n",
      "     |      With optional start, test S beginning at that position.\n",
      "     |      With optional end, stop comparing S at that position.\n",
      "     |      prefix can also be a tuple of strings to try.\n",
      "     |  \n",
      "     |  strip(self, chars=None, /)\n",
      "     |      Return a copy of the string with leading and trailing whitespace removed.\n",
      "     |      \n",
      "     |      If chars is given and not None, remove characters in chars instead.\n",
      "     |  \n",
      "     |  swapcase(self, /)\n",
      "     |      Convert uppercase characters to lowercase and lowercase characters to uppercase.\n",
      "     |  \n",
      "     |  title(self, /)\n",
      "     |      Return a version of the string where each word is titlecased.\n",
      "     |      \n",
      "     |      More specifically, words start with uppercased characters and all remaining\n",
      "     |      cased characters have lower case.\n",
      "     |  \n",
      "     |  translate(self, table, /)\n",
      "     |      Replace each character in the string using the given translation table.\n",
      "     |      \n",
      "     |        table\n",
      "     |          Translation table, which must be a mapping of Unicode ordinals to\n",
      "     |          Unicode ordinals, strings, or None.\n",
      "     |      \n",
      "     |      The table must implement lookup/indexing via __getitem__, for instance a\n",
      "     |      dictionary or list.  If this operation raises LookupError, the character is\n",
      "     |      left untouched.  Characters mapped to None are deleted.\n",
      "     |  \n",
      "     |  upper(self, /)\n",
      "     |      Return a copy of the string converted to uppercase.\n",
      "     |  \n",
      "     |  zfill(self, width, /)\n",
      "     |      Pad a numeric string with zeros on the left, to fill a field of the given width.\n",
      "     |      \n",
      "     |      The string is never truncated.\n",
      "     |  \n",
      "     |  ----------------------------------------------------------------------\n",
      "     |  Static methods defined here:\n",
      "     |  \n",
      "     |  __new__(*args, **kwargs) from builtins.type\n",
      "     |      Create and return a new object.  See help(type) for accurate signature.\n",
      "     |  \n",
      "     |  maketrans(...)\n",
      "     |      Return a translation table usable for str.translate().\n",
      "     |      \n",
      "     |      If there is only one argument, it must be a dictionary mapping Unicode\n",
      "     |      ordinals (integers) or characters to Unicode ordinals, strings or None.\n",
      "     |      Character keys will be then converted to ordinals.\n",
      "     |      If there are two arguments, they must be strings of equal length, and\n",
      "     |      in the resulting dictionary, each character in x will be mapped to the\n",
      "     |      character at the same position in y. If there is a third argument, it\n",
      "     |      must be a string, whose characters will be mapped to None in the result.\n",
      "    \n",
      "    class TypeVar(_Final, _Immutable)\n",
      "     |  TypeVar(name, *constraints, bound=None, covariant=False, contravariant=False)\n",
      "     |  \n",
      "     |  Type variable.\n",
      "     |  \n",
      "     |  Usage::\n",
      "     |  \n",
      "     |    T = TypeVar('T')  # Can be anything\n",
      "     |    A = TypeVar('A', str, bytes)  # Must be str or bytes\n",
      "     |  \n",
      "     |  Type variables exist primarily for the benefit of static type\n",
      "     |  checkers.  They serve as the parameters for generic types as well\n",
      "     |  as for generic function definitions.  See class Generic for more\n",
      "     |  information on generic types.  Generic functions work as follows:\n",
      "     |  \n",
      "     |    def repeat(x: T, n: int) -> List[T]:\n",
      "     |        '''Return a list containing n references to x.'''\n",
      "     |        return [x]*n\n",
      "     |  \n",
      "     |    def longest(x: A, y: A) -> A:\n",
      "     |        '''Return the longest of two strings.'''\n",
      "     |        return x if len(x) >= len(y) else y\n",
      "     |  \n",
      "     |  The latter example's signature is essentially the overloading\n",
      "     |  of (str, str) -> str and (bytes, bytes) -> bytes.  Also note\n",
      "     |  that if the arguments are instances of some subclass of str,\n",
      "     |  the return type is still plain str.\n",
      "     |  \n",
      "     |  At runtime, isinstance(x, T) and issubclass(C, T) will raise TypeError.\n",
      "     |  \n",
      "     |  Type variables defined with covariant=True or contravariant=True\n",
      "     |  can be used to declare covariant or contravariant generic types.\n",
      "     |  See PEP 484 for more details. By default generic types are invariant\n",
      "     |  in all type variables.\n",
      "     |  \n",
      "     |  Type variables can be introspected. e.g.:\n",
      "     |  \n",
      "     |    T.__name__ == 'T'\n",
      "     |    T.__constraints__ == ()\n",
      "     |    T.__covariant__ == False\n",
      "     |    T.__contravariant__ = False\n",
      "     |    A.__constraints__ == (str, bytes)\n",
      "     |  \n",
      "     |  Note that only type variables defined in global scope can be pickled.\n",
      "     |  \n",
      "     |  Method resolution order:\n",
      "     |      TypeVar\n",
      "     |      _Final\n",
      "     |      _Immutable\n",
      "     |      builtins.object\n",
      "     |  \n",
      "     |  Methods defined here:\n",
      "     |  \n",
      "     |  __init__(self, name, *constraints, bound=None, covariant=False, contravariant=False)\n",
      "     |      Initialize self.  See help(type(self)) for accurate signature.\n",
      "     |  \n",
      "     |  __reduce__(self)\n",
      "     |      Helper for pickle.\n",
      "     |  \n",
      "     |  __repr__(self)\n",
      "     |      Return repr(self).\n",
      "     |  \n",
      "     |  ----------------------------------------------------------------------\n",
      "     |  Data descriptors defined here:\n",
      "     |  \n",
      "     |  __bound__\n",
      "     |  \n",
      "     |  __constraints__\n",
      "     |  \n",
      "     |  __contravariant__\n",
      "     |  \n",
      "     |  __covariant__\n",
      "     |  \n",
      "     |  __dict__\n",
      "     |      dictionary for instance variables (if defined)\n",
      "     |  \n",
      "     |  ----------------------------------------------------------------------\n",
      "     |  Class methods inherited from _Final:\n",
      "     |  \n",
      "     |  __init_subclass__(*args, **kwds) from builtins.type\n",
      "     |      This method is called when a class is subclassed.\n",
      "     |      \n",
      "     |      The default implementation does nothing. It may be\n",
      "     |      overridden to extend subclasses.\n",
      "     |  \n",
      "     |  ----------------------------------------------------------------------\n",
      "     |  Data descriptors inherited from _Final:\n",
      "     |  \n",
      "     |  __weakref__\n",
      "     |      list of weak references to the object (if defined)\n",
      "     |  \n",
      "     |  ----------------------------------------------------------------------\n",
      "     |  Methods inherited from _Immutable:\n",
      "     |  \n",
      "     |  __copy__(self)\n",
      "     |  \n",
      "     |  __deepcopy__(self, memo)\n",
      "    \n",
      "    class TypedDict(builtins.dict)\n",
      "     |  TypedDict(typename, fields=None, /, *, total=True, **kwargs)\n",
      "     |  \n",
      "     |  A simple typed namespace. At runtime it is equivalent to a plain dict.\n",
      "     |  \n",
      "     |  TypedDict creates a dictionary type that expects all of its\n",
      "     |  instances to have a certain set of keys, where each key is\n",
      "     |  associated with a value of a consistent type. This expectation\n",
      "     |  is not checked at runtime but is only enforced by type checkers.\n",
      "     |  Usage::\n",
      "     |  \n",
      "     |      class Point2D(TypedDict):\n",
      "     |          x: int\n",
      "     |          y: int\n",
      "     |          label: str\n",
      "     |  \n",
      "     |      a: Point2D = {'x': 1, 'y': 2, 'label': 'good'}  # OK\n",
      "     |      b: Point2D = {'z': 3, 'label': 'bad'}           # Fails type check\n",
      "     |  \n",
      "     |      assert Point2D(x=1, y=2, label='first') == dict(x=1, y=2, label='first')\n",
      "     |  \n",
      "     |  The type info can be accessed via Point2D.__annotations__. TypedDict\n",
      "     |  supports two additional equivalent forms::\n",
      "     |  \n",
      "     |      Point2D = TypedDict('Point2D', x=int, y=int, label=str)\n",
      "     |      Point2D = TypedDict('Point2D', {'x': int, 'y': int, 'label': str})\n",
      "     |  \n",
      "     |  By default, all keys must be present in a TypedDict. It is possible\n",
      "     |  to override this by specifying totality.\n",
      "     |  Usage::\n",
      "     |  \n",
      "     |      class point2D(TypedDict, total=False):\n",
      "     |          x: int\n",
      "     |          y: int\n",
      "     |  \n",
      "     |  This means that a point2D TypedDict can have any of the keys omitted.A type\n",
      "     |  checker is only expected to support a literal False or True as the value of\n",
      "     |  the total argument. True is the default, and makes all items defined in the\n",
      "     |  class body be required.\n",
      "     |  \n",
      "     |  The class syntax is only supported in Python 3.6+, while two other\n",
      "     |  syntax forms work for Python 2.7 and 3.2+\n",
      "     |  \n",
      "     |  Method resolution order:\n",
      "     |      TypedDict\n",
      "     |      builtins.dict\n",
      "     |      builtins.object\n",
      "     |  \n",
      "     |  Static methods defined here:\n",
      "     |  \n",
      "     |  __new__ = _typeddict_new(cls, typename, fields=None, /, *, total=True, **kwargs)\n",
      "     |  \n",
      "     |  ----------------------------------------------------------------------\n",
      "     |  Data descriptors defined here:\n",
      "     |  \n",
      "     |  __dict__\n",
      "     |      dictionary for instance variables (if defined)\n",
      "     |  \n",
      "     |  __weakref__\n",
      "     |      list of weak references to the object (if defined)\n",
      "     |  \n",
      "     |  ----------------------------------------------------------------------\n",
      "     |  Data and other attributes defined here:\n",
      "     |  \n",
      "     |  __annotations__ = {}\n",
      "     |  \n",
      "     |  __total__ = True\n",
      "     |  \n",
      "     |  ----------------------------------------------------------------------\n",
      "     |  Methods inherited from builtins.dict:\n",
      "     |  \n",
      "     |  __contains__(self, key, /)\n",
      "     |      True if the dictionary has the specified key, else False.\n",
      "     |  \n",
      "     |  __delitem__(self, key, /)\n",
      "     |      Delete self[key].\n",
      "     |  \n",
      "     |  __eq__(self, value, /)\n",
      "     |      Return self==value.\n",
      "     |  \n",
      "     |  __ge__(self, value, /)\n",
      "     |      Return self>=value.\n",
      "     |  \n",
      "     |  __getattribute__(self, name, /)\n",
      "     |      Return getattr(self, name).\n",
      "     |  \n",
      "     |  __getitem__(...)\n",
      "     |      x.__getitem__(y) <==> x[y]\n",
      "     |  \n",
      "     |  __gt__(self, value, /)\n",
      "     |      Return self>value.\n",
      "     |  \n",
      "     |  __init__(self, /, *args, **kwargs)\n",
      "     |      Initialize self.  See help(type(self)) for accurate signature.\n",
      "     |  \n",
      "     |  __iter__(self, /)\n",
      "     |      Implement iter(self).\n",
      "     |  \n",
      "     |  __le__(self, value, /)\n",
      "     |      Return self<=value.\n",
      "     |  \n",
      "     |  __len__(self, /)\n",
      "     |      Return len(self).\n",
      "     |  \n",
      "     |  __lt__(self, value, /)\n",
      "     |      Return self<value.\n",
      "     |  \n",
      "     |  __ne__(self, value, /)\n",
      "     |      Return self!=value.\n",
      "     |  \n",
      "     |  __repr__(self, /)\n",
      "     |      Return repr(self).\n",
      "     |  \n",
      "     |  __reversed__(self, /)\n",
      "     |      Return a reverse iterator over the dict keys.\n",
      "     |  \n",
      "     |  __setitem__(self, key, value, /)\n",
      "     |      Set self[key] to value.\n",
      "     |  \n",
      "     |  __sizeof__(...)\n",
      "     |      D.__sizeof__() -> size of D in memory, in bytes\n",
      "     |  \n",
      "     |  clear(...)\n",
      "     |      D.clear() -> None.  Remove all items from D.\n",
      "     |  \n",
      "     |  copy(...)\n",
      "     |      D.copy() -> a shallow copy of D\n",
      "     |  \n",
      "     |  get(self, key, default=None, /)\n",
      "     |      Return the value for key if key is in the dictionary, else default.\n",
      "     |  \n",
      "     |  items(...)\n",
      "     |      D.items() -> a set-like object providing a view on D's items\n",
      "     |  \n",
      "     |  keys(...)\n",
      "     |      D.keys() -> a set-like object providing a view on D's keys\n",
      "     |  \n",
      "     |  pop(...)\n",
      "     |      D.pop(k[,d]) -> v, remove specified key and return the corresponding value.\n",
      "     |      If key is not found, d is returned if given, otherwise KeyError is raised\n",
      "     |  \n",
      "     |  popitem(self, /)\n",
      "     |      Remove and return a (key, value) pair as a 2-tuple.\n",
      "     |      \n",
      "     |      Pairs are returned in LIFO (last-in, first-out) order.\n",
      "     |      Raises KeyError if the dict is empty.\n",
      "     |  \n",
      "     |  setdefault(self, key, default=None, /)\n",
      "     |      Insert key with a value of default if key is not in the dictionary.\n",
      "     |      \n",
      "     |      Return the value for key if key is in the dictionary, else default.\n",
      "     |  \n",
      "     |  update(...)\n",
      "     |      D.update([E, ]**F) -> None.  Update D from dict/iterable E and F.\n",
      "     |      If E is present and has a .keys() method, then does:  for k in E: D[k] = E[k]\n",
      "     |      If E is present and lacks a .keys() method, then does:  for k, v in E: D[k] = v\n",
      "     |      In either case, this is followed by: for k in F:  D[k] = F[k]\n",
      "     |  \n",
      "     |  values(...)\n",
      "     |      D.values() -> an object providing a view on D's values\n",
      "     |  \n",
      "     |  ----------------------------------------------------------------------\n",
      "     |  Class methods inherited from builtins.dict:\n",
      "     |  \n",
      "     |  fromkeys(iterable, value=None, /) from _TypedDictMeta\n",
      "     |      Create a new dictionary with keys from iterable and values set to value.\n",
      "     |  \n",
      "     |  ----------------------------------------------------------------------\n",
      "     |  Data and other attributes inherited from builtins.dict:\n",
      "     |  \n",
      "     |  __hash__ = None\n",
      "\n",
      "FUNCTIONS\n",
      "    NewType(name, tp)\n",
      "        NewType creates simple unique types with almost zero\n",
      "        runtime overhead. NewType(name, tp) is considered a subtype of tp\n",
      "        by static type checkers. At runtime, NewType(name, tp) returns\n",
      "        a dummy function that simply returns its argument. Usage::\n",
      "        \n",
      "            UserId = NewType('UserId', int)\n",
      "        \n",
      "            def name_by_id(user_id: UserId) -> str:\n",
      "                ...\n",
      "        \n",
      "            UserId('user')          # Fails type check\n",
      "        \n",
      "            name_by_id(42)          # Fails type check\n",
      "            name_by_id(UserId(42))  # OK\n",
      "        \n",
      "            num = UserId(5) + 1     # type: int\n",
      "    \n",
      "    cast(typ, val)\n",
      "        Cast a value to a type.\n",
      "        \n",
      "        This returns the value unchanged.  To the type checker this\n",
      "        signals that the return value has the designated type, but at\n",
      "        runtime we intentionally don't check anything (we want this\n",
      "        to be as fast as possible).\n",
      "    \n",
      "    final(f)\n",
      "        A decorator to indicate final methods and final classes.\n",
      "        \n",
      "        Use this decorator to indicate to type checkers that the decorated\n",
      "        method cannot be overridden, and decorated class cannot be subclassed.\n",
      "        For example:\n",
      "        \n",
      "          class Base:\n",
      "              @final\n",
      "              def done(self) -> None:\n",
      "                  ...\n",
      "          class Sub(Base):\n",
      "              def done(self) -> None:  # Error reported by type checker\n",
      "                    ...\n",
      "        \n",
      "          @final\n",
      "          class Leaf:\n",
      "              ...\n",
      "          class Other(Leaf):  # Error reported by type checker\n",
      "              ...\n",
      "        \n",
      "        There is no runtime checking of these properties.\n",
      "    \n",
      "    get_args(tp)\n",
      "        Get type arguments with all substitutions performed.\n",
      "        \n",
      "        For unions, basic simplifications used by Union constructor are performed.\n",
      "        Examples::\n",
      "            get_args(Dict[str, int]) == (str, int)\n",
      "            get_args(int) == ()\n",
      "            get_args(Union[int, Union[T, int], str][int]) == (int, str)\n",
      "            get_args(Union[int, Tuple[T, int]][str]) == (int, Tuple[str, int])\n",
      "            get_args(Callable[[], T][int]) == ([], int)\n",
      "    \n",
      "    get_origin(tp)\n",
      "        Get the unsubscripted version of a type.\n",
      "        \n",
      "        This supports generic types, Callable, Tuple, Union, Literal, Final and ClassVar.\n",
      "        Return None for unsupported types. Examples::\n",
      "        \n",
      "            get_origin(Literal[42]) is Literal\n",
      "            get_origin(int) is None\n",
      "            get_origin(ClassVar[int]) is ClassVar\n",
      "            get_origin(Generic) is Generic\n",
      "            get_origin(Generic[T]) is Generic\n",
      "            get_origin(Union[T, int]) is Union\n",
      "            get_origin(List[Tuple[T, T]][int]) == list\n",
      "    \n",
      "    get_type_hints(obj, globalns=None, localns=None)\n",
      "        Return type hints for an object.\n",
      "        \n",
      "        This is often the same as obj.__annotations__, but it handles\n",
      "        forward references encoded as string literals, and if necessary\n",
      "        adds Optional[t] if a default value equal to None is set.\n",
      "        \n",
      "        The argument may be a module, class, method, or function. The annotations\n",
      "        are returned as a dictionary. For classes, annotations include also\n",
      "        inherited members.\n",
      "        \n",
      "        TypeError is raised if the argument is not of a type that can contain\n",
      "        annotations, and an empty dictionary is returned if no annotations are\n",
      "        present.\n",
      "        \n",
      "        BEWARE -- the behavior of globalns and localns is counterintuitive\n",
      "        (unless you are familiar with how eval() and exec() work).  The\n",
      "        search order is locals first, then globals.\n",
      "        \n",
      "        - If no dict arguments are passed, an attempt is made to use the\n",
      "          globals from obj (or the respective module's globals for classes),\n",
      "          and these are also used as the locals.  If the object does not appear\n",
      "          to have globals, an empty dictionary is used.\n",
      "        \n",
      "        - If one dict argument is passed, it is used for both globals and\n",
      "          locals.\n",
      "        \n",
      "        - If two dict arguments are passed, they specify globals and\n",
      "          locals, respectively.\n",
      "    \n",
      "    no_type_check(arg)\n",
      "        Decorator to indicate that annotations are not type hints.\n",
      "        \n",
      "        The argument must be a class or function; if it is a class, it\n",
      "        applies recursively to all methods and classes defined in that class\n",
      "        (but not to methods defined in its superclasses or subclasses).\n",
      "        \n",
      "        This mutates the function(s) or class(es) in place.\n",
      "    \n",
      "    no_type_check_decorator(decorator)\n",
      "        Decorator to give another decorator the @no_type_check effect.\n",
      "        \n",
      "        This wraps the decorator with something that wraps the decorated\n",
      "        function in @no_type_check.\n",
      "    \n",
      "    overload(func)\n",
      "        Decorator for overloaded functions/methods.\n",
      "        \n",
      "        In a stub file, place two or more stub definitions for the same\n",
      "        function in a row, each decorated with @overload.  For example:\n",
      "        \n",
      "          @overload\n",
      "          def utf8(value: None) -> None: ...\n",
      "          @overload\n",
      "          def utf8(value: bytes) -> bytes: ...\n",
      "          @overload\n",
      "          def utf8(value: str) -> bytes: ...\n",
      "        \n",
      "        In a non-stub file (i.e. a regular .py file), do the same but\n",
      "        follow it with an implementation.  The implementation should *not*\n",
      "        be decorated with @overload.  For example:\n",
      "        \n",
      "          @overload\n",
      "          def utf8(value: None) -> None: ...\n",
      "          @overload\n",
      "          def utf8(value: bytes) -> bytes: ...\n",
      "          @overload\n",
      "          def utf8(value: str) -> bytes: ...\n",
      "          def utf8(value):\n",
      "              # implementation goes here\n",
      "    \n",
      "    runtime_checkable(cls)\n",
      "        Mark a protocol class as a runtime protocol.\n",
      "        \n",
      "        Such protocol can be used with isinstance() and issubclass().\n",
      "        Raise TypeError if applied to a non-protocol class.\n",
      "        This allows a simple-minded structural check very similar to\n",
      "        one trick ponies in collections.abc such as Iterable.\n",
      "        For example::\n",
      "        \n",
      "            @runtime_checkable\n",
      "            class Closable(Protocol):\n",
      "                def close(self): ...\n",
      "        \n",
      "            assert isinstance(open('/some/file'), Closable)\n",
      "        \n",
      "        Warning: this will check only the presence of the required methods,\n",
      "        not their type signatures!\n",
      "\n",
      "DATA\n",
      "    AbstractSet = typing.AbstractSet\n",
      "    Any = typing.Any\n",
      "    AnyStr = ~AnyStr\n",
      "    AsyncContextManager = typing.AbstractAsyncContextManager\n",
      "    AsyncGenerator = typing.AsyncGenerator\n",
      "    AsyncIterable = typing.AsyncIterable\n",
      "    AsyncIterator = typing.AsyncIterator\n",
      "    Awaitable = typing.Awaitable\n",
      "    ByteString = typing.ByteString\n",
      "    Callable = typing.Callable\n",
      "    ChainMap = typing.ChainMap\n",
      "    ClassVar = typing.ClassVar\n",
      "    Collection = typing.Collection\n",
      "    Container = typing.Container\n",
      "    ContextManager = typing.AbstractContextManager\n",
      "    Coroutine = typing.Coroutine\n",
      "    Counter = typing.Counter\n",
      "    DefaultDict = typing.DefaultDict\n",
      "    Deque = typing.Deque\n",
      "    Dict = typing.Dict\n",
      "    Final = typing.Final\n",
      "    FrozenSet = typing.FrozenSet\n",
      "    Generator = typing.Generator\n",
      "    Hashable = typing.Hashable\n",
      "    ItemsView = typing.ItemsView\n",
      "    Iterable = typing.Iterable\n",
      "    Iterator = typing.Iterator\n",
      "    KeysView = typing.KeysView\n",
      "    List = typing.List\n",
      "    Literal = typing.Literal\n",
      "    Mapping = typing.Mapping\n",
      "    MappingView = typing.MappingView\n",
      "    MutableMapping = typing.MutableMapping\n",
      "    MutableSequence = typing.MutableSequence\n",
      "    MutableSet = typing.MutableSet\n",
      "    NoReturn = typing.NoReturn\n",
      "    Optional = typing.Optional\n",
      "    OrderedDict = typing.OrderedDict\n",
      "    Reversible = typing.Reversible\n",
      "    Sequence = typing.Sequence\n",
      "    Set = typing.Set\n",
      "    Sized = typing.Sized\n",
      "    TYPE_CHECKING = False\n",
      "    Tuple = typing.Tuple\n",
      "    Type = typing.Type\n",
      "    Union = typing.Union\n",
      "    ValuesView = typing.ValuesView\n",
      "    __all__ = ['Any', 'Callable', 'ClassVar', 'Final', 'ForwardRef', 'Gene...\n",
      "\n",
      "FILE\n",
      "    /Users/rbasnet/miniconda3/lib/python3.8/typing.py\n",
      "\n",
      "\n"
     ]
    }
   ],
   "source": [
    "help(typing)\n",
    "# see DATA section towards the end of the document for all the supported types"
   ]
  },
  {
   "cell_type": "markdown",
   "metadata": {},
   "source": [
    "## Type aliases\n",
    "\n",
    "- assigning the type to the alias"
   ]
  },
  {
   "cell_type": "code",
   "execution_count": 11,
   "metadata": {},
   "outputs": [],
   "source": [
    "# Let's create a Vector type -> List of float\n",
    "from typing import List\n",
    "Vector = List[float]"
   ]
  },
  {
   "cell_type": "code",
   "execution_count": 13,
   "metadata": {},
   "outputs": [],
   "source": [
    "def scale(scalar: float, vector: Vector) -> Vector:\n",
    "    \"\"\"scale function.\n",
    "    \n",
    "    Scales each element in vector by scalar factor.\n",
    "    \"\"\"\n",
    "    return [scalar * num for num in vector]"
   ]
  },
  {
   "cell_type": "code",
   "execution_count": 17,
   "metadata": {},
   "outputs": [],
   "source": [
    "# typechecks; a list of floats qualifies as a Vector.\n",
    "new_vector = scale(2.0, [1.0, -4.2, 5.4])"
   ]
  },
  {
   "cell_type": "code",
   "execution_count": 18,
   "metadata": {},
   "outputs": [
    {
     "data": {
      "text/plain": [
       "[2.0, -8.4, 10.8]"
      ]
     },
     "execution_count": 18,
     "metadata": {},
     "output_type": "execute_result"
    }
   ],
   "source": [
    "new_vector"
   ]
  },
  {
   "cell_type": "code",
   "execution_count": 19,
   "metadata": {},
   "outputs": [],
   "source": [
    "new_vector1 = scale(2, [1, -4, 5])"
   ]
  },
  {
   "cell_type": "code",
   "execution_count": 20,
   "metadata": {},
   "outputs": [
    {
     "data": {
      "text/plain": [
       "[2, -8, 10]"
      ]
     },
     "execution_count": 20,
     "metadata": {},
     "output_type": "execute_result"
    }
   ],
   "source": [
    "new_vector1"
   ]
  },
  {
   "cell_type": "markdown",
   "metadata": {},
   "source": [
    "## Generators\n",
    "\n",
    "- special functions that return an iterator that returns a stream of values\n",
    "- resumable functions that can retain local variable information to resume the function where it left off\n",
    "- uses `yield` keyword to yield the next value as opposed to `return`\n",
    "    - when `yield` is reached, the generator's state of execution is suspended and local variables are preserved\n",
    "- `next(genObject)` calls the built_in `__next__()` method to resume executing, when the function is called again\n",
    "- similar in concept to `range()`, however it returns listiterator object"
   ]
  },
  {
   "cell_type": "code",
   "execution_count": 36,
   "metadata": {},
   "outputs": [],
   "source": [
    "def generate_ints(N):\n",
    "    for i in range(N):\n",
    "        yield i # this makes the function a generator!"
   ]
  },
  {
   "cell_type": "code",
   "execution_count": 37,
   "metadata": {},
   "outputs": [],
   "source": [
    "gen = generate_ints(10)"
   ]
  },
  {
   "cell_type": "code",
   "execution_count": 38,
   "metadata": {},
   "outputs": [
    {
     "name": "stdout",
     "output_type": "stream",
     "text": [
      "<generator object generate_ints at 0x7f911282ee40>\n"
     ]
    }
   ],
   "source": [
    "print(gen)"
   ]
  },
  {
   "cell_type": "code",
   "execution_count": 39,
   "metadata": {},
   "outputs": [
    {
     "data": {
      "text/plain": [
       "0"
      ]
     },
     "execution_count": 39,
     "metadata": {},
     "output_type": "execute_result"
    }
   ],
   "source": [
    "next(gen)"
   ]
  },
  {
   "cell_type": "code",
   "execution_count": 40,
   "metadata": {},
   "outputs": [
    {
     "data": {
      "text/plain": [
       "1"
      ]
     },
     "execution_count": 40,
     "metadata": {},
     "output_type": "execute_result"
    }
   ],
   "source": [
    "next(gen)"
   ]
  },
  {
   "cell_type": "code",
   "execution_count": 41,
   "metadata": {},
   "outputs": [
    {
     "name": "stdout",
     "output_type": "stream",
     "text": [
      "2\n",
      "3\n",
      "4\n",
      "5\n",
      "6\n",
      "7\n",
      "8\n",
      "9\n"
     ]
    }
   ],
   "source": [
    "# iterate over the next of the values\n",
    "for n in gen:\n",
    "    print(n)"
   ]
  },
  {
   "cell_type": "code",
   "execution_count": null,
   "metadata": {},
   "outputs": [],
   "source": []
  }
 ],
 "metadata": {
  "kernelspec": {
   "display_name": "Python 3 (ipykernel)",
   "language": "python",
   "name": "python3"
  },
  "language_info": {
   "codemirror_mode": {
    "name": "ipython",
    "version": 3
   },
   "file_extension": ".py",
   "mimetype": "text/x-python",
   "name": "python",
   "nbconvert_exporter": "python",
   "pygments_lexer": "ipython3",
   "version": "3.10.8"
  }
 },
 "nbformat": 4,
 "nbformat_minor": 2
}
