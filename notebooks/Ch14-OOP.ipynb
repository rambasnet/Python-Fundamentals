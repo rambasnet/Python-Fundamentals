{
 "cells": [
  {
   "cell_type": "markdown",
   "metadata": {},
   "source": [
    "# Object Oriented Programming (OOP)\n",
    "<a href=\"https://colab.research.google.com/github/rambasnet/Python-Fundamentals/blob/master/notebooks/Ch14-OOP.ipynb\" target=\"_parent\"><img src=\"https://colab.research.google.com/assets/colab-badge.svg\" alt=\"Open In Colab\"/></a>\n",
    "\n",
    "\n",
    "http://openbookproject.net/thinkcs/python/english3e/classes_and_objects_I.html\n",
    "http://openbookproject.net/thinkcs/python/english3e/classes_and_objects_II.html\n",
    "\n",
    "- we've been using procedural programming paradigm; focus on functions/procedures\n",
    "- OOP paradigm is best used in large and complex modern software systems \n",
    "    - OOD (Object Oriented Design) makes it easy to maintain and improve software over time\n",
    "- focus is on creation of objects which contain both data and functionality together under one name\n",
    "- typically, each class definition corresponds to some object or concept in the real world with some attributes/properties that maintain its state; and the functions/methods correspond to the ways real-world objects interact"
   ]
  },
  {
   "cell_type": "markdown",
   "metadata": {},
   "source": [
    "## class\n",
    "- we've used classes like str, int, float, dict, tuple, etc.\n",
    "- class keyword lets programmer define their own compound data types\n",
    "- class is a collection of relevant attributes and methods like real world objects\n",
    "- syntax:\n",
    "```\n",
    "class className:\n",
    "    [statement-1]\n",
    "    .\n",
    "    .\n",
    "    [statement-N]\n",
    "```"
   ]
  },
  {
   "cell_type": "markdown",
   "metadata": {},
   "source": [
    "### a simple Point class\n",
    "- a class that represents a point in 2-D coordinates"
   ]
  },
  {
   "cell_type": "code",
   "execution_count": null,
   "metadata": {},
   "outputs": [],
   "source": [
    "# OK but NOT best practice!\n",
    "class Point:\n",
    "    pass"
   ]
  },
  {
   "cell_type": "code",
   "execution_count": null,
   "metadata": {},
   "outputs": [],
   "source": [
    "# instantiate an object a of type Point\n",
    "a = Point()"
   ]
  },
  {
   "cell_type": "code",
   "execution_count": null,
   "metadata": {},
   "outputs": [],
   "source": [
    "type(a)"
   ]
  },
  {
   "cell_type": "code",
   "execution_count": null,
   "metadata": {},
   "outputs": [],
   "source": [
    "a.x = 0 # dynamically attach attriutes\n",
    "a.y = 0\n",
    "print(a.x, a.y)"
   ]
  },
  {
   "cell_type": "code",
   "execution_count": null,
   "metadata": {},
   "outputs": [],
   "source": [
    "b = Point()"
   ]
  },
  {
   "cell_type": "code",
   "execution_count": null,
   "metadata": {},
   "outputs": [],
   "source": [
    "b.x"
   ]
  },
  {
   "cell_type": "markdown",
   "metadata": {},
   "source": [
    "### better class example\n",
    "- with constructor and destructor methods, class attribute and object attributes"
   ]
  },
  {
   "cell_type": "code",
   "execution_count": null,
   "metadata": {},
   "outputs": [],
   "source": [
    "class Point:\n",
    "    \"\"\"\n",
    "    Point class to represent and manipulate x and y in 2D coordinates\n",
    "    \"\"\"\n",
    "    count = 0 # class variable/attribute\n",
    "    \n",
    "    # constructor to customize the initial state of an object\n",
    "    # first argument refers to the instance being manipulated;\n",
    "    # it is customary to name this parameter self; but can be anything\n",
    "    def __init__(self, xx=0, yy=0):\n",
    "        \"\"\"Create a new point with given x and y coords\"\"\"\n",
    "        # x and y are object variables/attributes\n",
    "        self.x = xx\n",
    "        self.y = yy\n",
    "        Point.count += 1 # increment class variable\n",
    "        \n",
    "    \n",
    "    # destructor \n",
    "    def __del__(self):\n",
    "        Point.count -= 1"
   ]
  },
  {
   "cell_type": "code",
   "execution_count": null,
   "metadata": {},
   "outputs": [],
   "source": [
    "print(Point.count)"
   ]
  },
  {
   "cell_type": "markdown",
   "metadata": {},
   "source": [
    "## class members\n",
    "- like real world objects, object instances can have both attributes and methods\n",
    "    - attributes are properties that store data/values\n",
    "    - methods are operations that operate on or use data/values\n",
    "- use . dot notation to access members\n",
    "- `x` and `y` are attributes of Point class\n",
    "- `__init__()` (constructor) and `__del__()` (destructor) are sepcial methods\n",
    "    - more on speical methods later\n",
    "- can have as many relevant attributes and methods that help mimic real-world objects"
   ]
  },
  {
   "cell_type": "code",
   "execution_count": null,
   "metadata": {},
   "outputs": [],
   "source": [
    "a = Point()"
   ]
  },
  {
   "cell_type": "code",
   "execution_count": null,
   "metadata": {},
   "outputs": [],
   "source": [
    "print(a.x, a.y)"
   ]
  },
  {
   "cell_type": "code",
   "execution_count": null,
   "metadata": {},
   "outputs": [],
   "source": [
    "b = Point(10, 10)"
   ]
  },
  {
   "cell_type": "code",
   "execution_count": null,
   "metadata": {},
   "outputs": [],
   "source": [
    "print(b.x, b.y)"
   ]
  },
  {
   "cell_type": "code",
   "execution_count": null,
   "metadata": {},
   "outputs": [],
   "source": [
    "Point.count"
   ]
  },
  {
   "cell_type": "code",
   "execution_count": 46,
   "metadata": {},
   "outputs": [
    {
     "name": "stdout",
     "output_type": "stream",
     "text": [
      "<__main__.Point object at 0x7f850fddcfa0>\n"
     ]
    }
   ],
   "source": [
    "print(a)"
   ]
  },
  {
   "cell_type": "code",
   "execution_count": 36,
   "metadata": {},
   "outputs": [],
   "source": [
    "# instantiate an object\n",
    "def someFunction():\n",
    "    p = Point()\n",
    "    # what is the access specifier for attributes?\n",
    "    print('p: x = {} and y = {}'.format(p.x, p.y))\n",
    "    print(\"Total point objects = {}\".format(Point.count)) # access class variable outside class\n",
    "    p.__del__() # call destructor explictly\n",
    "    p1 = Point(10, 100)\n",
    "    print(\"p1: x = {} and y = {}\".format(p1.x, p1.y))\n",
    "    print(\"Total point objects = {}\".format(Point.count))\n",
    "\n",
    "    # Run this cell few times and see the value of Point.count\n",
    "    # How do you fix this problem? Use __del__ destructor method.\n"
   ]
  },
  {
   "cell_type": "code",
   "execution_count": 34,
   "metadata": {},
   "outputs": [
    {
     "name": "stdout",
     "output_type": "stream",
     "text": [
      "p: x = 0 and y = 0\n",
      "Total point objects = 3\n",
      "p1: x = 10 and y = 100\n",
      "Total point objects = 4\n"
     ]
    }
   ],
   "source": [
    "someFunction()"
   ]
  },
  {
   "cell_type": "code",
   "execution_count": 37,
   "metadata": {},
   "outputs": [
    {
     "name": "stdout",
     "output_type": "stream",
     "text": [
      "Total point objects = 2\n"
     ]
    }
   ],
   "source": [
    "print(\"Total point objects = {}\".format(Point.count))"
   ]
  },
  {
   "cell_type": "code",
   "execution_count": 38,
   "metadata": {},
   "outputs": [
    {
     "name": "stdout",
     "output_type": "stream",
     "text": [
      "p: x = 0 and y = 0\n",
      "Total point objects = 3\n",
      "p1: x = 10 and y = 100\n",
      "Total point objects = 4\n"
     ]
    }
   ],
   "source": [
    "p = Point()\n",
    "# what is the access specifier for attributes?\n",
    "print('p: x = {} and y = {}'.format(p.x, p.y))\n",
    "print(\"Total point objects = {}\".format(Point.count)) # access class variable outside class\n",
    "#p.__del__() # call destructor explictly\n",
    "p1 = Point(10, 100)\n",
    "print(\"p1: x = {} and y = {}\".format(p1.x, p1.y))\n",
    "print(\"Total point objects = {}\".format(Point.count))"
   ]
  },
  {
   "cell_type": "code",
   "execution_count": 39,
   "metadata": {},
   "outputs": [
    {
     "name": "stdout",
     "output_type": "stream",
     "text": [
      "<__main__.Point object at 0x7f850fe356c0> <__main__.Point object at 0x7f850fe097b0>\n"
     ]
    }
   ],
   "source": [
    "# let's print objects\n",
    "print(p, p1)\n",
    "# not very useful info!"
   ]
  },
  {
   "cell_type": "markdown",
   "metadata": {},
   "source": [
    "### visualizing class and instance attributes using pythontutor.com\n",
    "- https://goo.gl/aGuc4r"
   ]
  },
  {
   "cell_type": "markdown",
   "metadata": {},
   "source": [
    "### exercise: add a method dist_from_origin() to Point class\n",
    "- computes and returns the distance from the origin\n",
    "- test the methods\n",
    "- provides `__str__` overloaded method to represent objects as string\n",
    "    - helps in printing objects"
   ]
  },
  {
   "cell_type": "code",
   "execution_count": 40,
   "metadata": {},
   "outputs": [],
   "source": [
    "def dist_from_origin(self):\n",
    "    import math\n",
    "    dist = math.sqrt(self.x**2+self.y**2)\n",
    "    return dist"
   ]
  },
  {
   "cell_type": "code",
   "execution_count": 41,
   "metadata": {},
   "outputs": [
    {
     "name": "stdout",
     "output_type": "stream",
     "text": [
      "100.4987562112089\n"
     ]
    }
   ],
   "source": [
    "print(dist_from_origin(p1))"
   ]
  },
  {
   "cell_type": "code",
   "execution_count": 63,
   "metadata": {},
   "outputs": [],
   "source": [
    "class Point:\n",
    "    \"\"\"\n",
    "    Point class represents and manipulates x,y coords\n",
    "    \"\"\"\n",
    "    count = 0\n",
    "    \n",
    "    def __init__(self, xx=0, yy=0):\n",
    "        \"\"\"Create a new point with given x and y coords\"\"\"\n",
    "        self.x = xx\n",
    "        self.y = yy\n",
    "        Point.count += 1\n",
    "        \n",
    "    def dist_from_origin(self):\n",
    "        import math\n",
    "        dist = math.sqrt(self.x**2+self.y**2)\n",
    "        return dist\n",
    "    \n",
    "    def __str__(self):\n",
    "        return f\"({self.x}, {self.y})\"\n",
    "    \n",
    "    # destructor \n",
    "    def __del__(self):\n",
    "        Point.count -= 1"
   ]
  },
  {
   "cell_type": "code",
   "execution_count": 64,
   "metadata": {},
   "outputs": [
    {
     "name": "stdout",
     "output_type": "stream",
     "text": [
      "2.8284271247461903\n"
     ]
    }
   ],
   "source": [
    "p1 = Point(2, 2)\n",
    "print(p1.dist_from_origin())"
   ]
  },
  {
   "cell_type": "code",
   "execution_count": 65,
   "metadata": {},
   "outputs": [],
   "source": [
    "p2 = Point(10, 200)"
   ]
  },
  {
   "cell_type": "code",
   "execution_count": 66,
   "metadata": {},
   "outputs": [
    {
     "data": {
      "text/plain": [
       "200.24984394500785"
      ]
     },
     "execution_count": 66,
     "metadata": {},
     "output_type": "execute_result"
    }
   ],
   "source": [
    "p2.dist_from_origin()"
   ]
  },
  {
   "cell_type": "code",
   "execution_count": 62,
   "metadata": {},
   "outputs": [
    {
     "name": "stdout",
     "output_type": "stream",
     "text": [
      "(2, 2)\n"
     ]
    }
   ],
   "source": [
    "# let's print p1 object\n",
    "print(p1)"
   ]
  },
  {
   "cell_type": "markdown",
   "metadata": {},
   "source": [
    "## objects are mutable\n",
    "- can change the state or attributes of an object"
   ]
  },
  {
   "cell_type": "code",
   "execution_count": null,
   "metadata": {},
   "outputs": [],
   "source": [
    "p2 = Point(3, 2)\n",
    "print(p2)\n",
    "p2.x = \"sasf\"\n",
    "p2.y = 10\n",
    "print(p2)"
   ]
  },
  {
   "cell_type": "markdown",
   "metadata": {},
   "source": [
    "### better approach to change state/attribute is via methods\n",
    "\n",
    "- move(xx, yy) method is added to class to set new x and y values for a point objects\n",
    "\n",
    "### Member access specifiers\n",
    "\n",
    "- Python doesn't support `private`, `public`, `protected` specifiers provided by C++, Java, etc.\n",
    "- all the members are public by default\n",
    "- however, you can use leading single `_` and double `__` underscores \"convention\" to treat members as private "
   ]
  },
  {
   "cell_type": "code",
   "execution_count": 10,
   "metadata": {},
   "outputs": [],
   "source": [
    "class Point:\n",
    "    \"\"\"\n",
    "    Point class represents and manipulates x and y coordinates\n",
    "    \"\"\"\n",
    "    \n",
    "    def __init__(self, xx=0, yy=0):\n",
    "        \"\"\"Create a new point with given x and y coords\"\"\"\n",
    "        \"\"\"_x and _y are protected method\"\"\"\n",
    "        \n",
    "        self._x = xx\n",
    "        self._y = yy\n",
    "        \n",
    "    def dist_from_origin(self):\n",
    "        import math\n",
    "        dist = math.sqrt(self._x**2+self._y**2)\n",
    "        return dist\n",
    "    \n",
    "    def __str__(self): # string representation of the class; useful in printing objects\n",
    "        return f\"({self._x}, {self._y})\"\n",
    "    \n",
    "    # define getter method to get x\n",
    "    def getX(self):\n",
    "        if not self._x:\n",
    "            return 0\n",
    "        return self._x\n",
    "    \n",
    "    # better syntax\n",
    "    @property\n",
    "    def x(self):\n",
    "        return self._x\n",
    "    \n",
    "    # use setters to set attributes\n",
    "    def setX(self, xx):\n",
    "        if isinstance(xx, int) or isinstance(xx, float):\n",
    "            self._x = int(xx)\n",
    "        elif isinstance(xx, str):\n",
    "            if xx.isnumeric():\n",
    "                self._x = int(xx)\n",
    "                \n",
    "    # better syntax for setter\n",
    "    @x.setter\n",
    "    def x(self, xx: int):\n",
    "        self.setX(xx)\n",
    "        \n",
    "    @property\n",
    "    def y(self):\n",
    "        return self._y\n",
    "        \n",
    "    @y.setter\n",
    "    def y(self, yy: int):\n",
    "        if isinstance(yy, int) or isinstance(yy, float):\n",
    "            self._y = int(yy)\n",
    "        elif isinstance(yy, str):\n",
    "            if yy.isnumeric():\n",
    "                self._y = int(yy)\n",
    "\n",
    "    \n",
    "    def move(self, xx, yy):\n",
    "        self.x = xx\n",
    "        self.y = yy"
   ]
  },
  {
   "cell_type": "code",
   "execution_count": 11,
   "metadata": {},
   "outputs": [
    {
     "name": "stdout",
     "output_type": "stream",
     "text": [
      "(0, 0)\n",
      "(10, 20)\n"
     ]
    }
   ],
   "source": [
    "p3 = Point()\n",
    "print(p3)\n",
    "p3.move(10, 20)\n",
    "print(p3)"
   ]
  },
  {
   "cell_type": "code",
   "execution_count": 12,
   "metadata": {},
   "outputs": [],
   "source": [
    "p3.move(\"a\", 2)"
   ]
  },
  {
   "cell_type": "code",
   "execution_count": 13,
   "metadata": {},
   "outputs": [
    {
     "name": "stdout",
     "output_type": "stream",
     "text": [
      "(10, 2)\n"
     ]
    }
   ],
   "source": [
    "print(p3)"
   ]
  },
  {
   "cell_type": "markdown",
   "metadata": {},
   "source": [
    "## Operator Overloading\n",
    "\n",
    "- https://docs.python.org/3/reference/datamodel.html\n",
    "- Python lets you overload special operators (e.g., +, -, /, //, %, etc.) for your class\n",
    "- Goal is to make your class as easy and seamless to use as possible\n"
   ]
  },
  {
   "cell_type": "code",
   "execution_count": 23,
   "metadata": {},
   "outputs": [],
   "source": [
    "class Point:\n",
    "    \"\"\"\n",
    "    Point class represents and manipulates x and y coordinates\n",
    "    \"\"\"\n",
    "    \n",
    "    def __init__(self, xx=0, yy=0):\n",
    "        \"\"\"Create a new point with given x and y coords\"\"\"\n",
    "        \"\"\"_x and _y are protected method\"\"\"\n",
    "        \n",
    "        self._x = xx\n",
    "        self._y = yy\n",
    "        \n",
    "    def dist_from_origin(self):\n",
    "        import math\n",
    "        dist = math.sqrt(self._x**2+self._y**2)\n",
    "        return dist\n",
    "    \n",
    "    def __str__(self): # string representation of the class; useful in printing objects\n",
    "        return f\"({self._x}, {self._y})\"\n",
    "    \n",
    "    @property\n",
    "    def x(self):\n",
    "        if not self._x:\n",
    "            return 0\n",
    "        return self._x\n",
    "    \n",
    "    @x.setter\n",
    "    def x(self, xx: int):\n",
    "        if isinstance(xx, int) or isinstance(xx, float):\n",
    "            self._x = int(xx)\n",
    "        elif isinstance(xx, str):\n",
    "            if xx.isnumeric():\n",
    "                self._x = int(xx)\n",
    "        \n",
    "    @property\n",
    "    def y(self):\n",
    "        return self._y\n",
    "        \n",
    "    @y.setter\n",
    "    def y(self, yy: int):\n",
    "        if isinstance(yy, int) or isinstance(yy, float):\n",
    "            self._y = int(yy)\n",
    "        elif isinstance(yy, str):\n",
    "            if yy.isnumeric():\n",
    "                self._y = int(yy)\n",
    "\n",
    "    \n",
    "    def move(self, xx, yy):\n",
    "        self.x = xx\n",
    "        \n",
    "    def __add__(self, other: \"Point\"):\n",
    "        \"\"\"Overload + operator\"\"\"\n",
    "        new_x = self.x + other.x\n",
    "        new_y = self.y + other.y\n",
    "        return Point(new_x, new_y)\n",
    "    \n",
    "    \n",
    "    def __eq__(self, other: \"Point\"):\n",
    "        return self.x == other.x and self.y == other.y"
   ]
  },
  {
   "cell_type": "code",
   "execution_count": 22,
   "metadata": {},
   "outputs": [
    {
     "name": "stdout",
     "output_type": "stream",
     "text": [
      "(5, 9)\n"
     ]
    }
   ],
   "source": [
    "p1 = Point(2, 4)\n",
    "p2 = Point(3, 5)\n",
    "p3 = p1+p2\n",
    "print(p3)"
   ]
  },
  {
   "cell_type": "code",
   "execution_count": 24,
   "metadata": {},
   "outputs": [],
   "source": [
    "assert p1 != p2"
   ]
  },
  {
   "cell_type": "code",
   "execution_count": 25,
   "metadata": {},
   "outputs": [
    {
     "ename": "AssertionError",
     "evalue": "",
     "output_type": "error",
     "traceback": [
      "\u001b[0;31m---------------------------------------------------------------------------\u001b[0m",
      "\u001b[0;31mAssertionError\u001b[0m                            Traceback (most recent call last)",
      "Cell \u001b[0;32mIn[25], line 1\u001b[0m\n\u001b[0;32m----> 1\u001b[0m \u001b[38;5;28;01massert\u001b[39;00m p1 \u001b[38;5;241m==\u001b[39m p2\n",
      "\u001b[0;31mAssertionError\u001b[0m: "
     ]
    }
   ],
   "source": [
    "assert p1 == p2"
   ]
  },
  {
   "cell_type": "markdown",
   "metadata": {},
   "source": [
    "## sameness - alias or deep copy"
   ]
  },
  {
   "cell_type": "code",
   "execution_count": null,
   "metadata": {},
   "outputs": [],
   "source": [
    "import copy\n",
    "p2 = Point(3, 4)\n",
    "p3 = p2 # alias or deepcopy?\n",
    "print(p2 is p3) # checks if two references refer to the same object\n",
    "p4 = copy.deepcopy(p2)\n",
    "print(p2 is p4)"
   ]
  },
  {
   "cell_type": "markdown",
   "metadata": {},
   "source": [
    "## Passing objects as arguments to functions"
   ]
  },
  {
   "cell_type": "code",
   "execution_count": null,
   "metadata": {},
   "outputs": [],
   "source": [
    "def print_point(pt: Point):\n",
    "    pt.x = 100\n",
    "    pt.y = 100\n",
    "    print(pt)"
   ]
  },
  {
   "cell_type": "code",
   "execution_count": null,
   "metadata": {},
   "outputs": [],
   "source": [
    "p = Point(10, 10)\n",
    "print_point(p)"
   ]
  },
  {
   "cell_type": "code",
   "execution_count": null,
   "metadata": {},
   "outputs": [],
   "source": [
    "print(p)"
   ]
  },
  {
   "cell_type": "markdown",
   "metadata": {},
   "source": [
    "## are objects passed by value or reference?\n",
    "- how can you tell?\n",
    "- write a simple program to test."
   ]
  },
  {
   "cell_type": "markdown",
   "metadata": {},
   "source": [
    "## returning object instances from functions\n",
    "- object(s) can be returned from functions"
   ]
  },
  {
   "cell_type": "code",
   "execution_count": null,
   "metadata": {},
   "outputs": [],
   "source": [
    "def midpoint(p1, p2):\n",
    "    \"\"\"Returns the midpoint of points p1 and p2\"\"\"\n",
    "    mx = (p1.getX() + p2.getX())//2\n",
    "    my = (p1.getY() + p2.getY())//2\n",
    "    return Point(mx, my)"
   ]
  },
  {
   "cell_type": "code",
   "execution_count": null,
   "metadata": {},
   "outputs": [],
   "source": [
    "p = Point(4, 6)\n",
    "q = Point(6, 4)\n",
    "r = midpoint(p, q)\n",
    "#print_point(r) # better way to do this: use __str__() special method\n",
    "print(r)"
   ]
  },
  {
   "cell_type": "markdown",
   "metadata": {},
   "source": [
    "exercise 1: In-class demo: Design a class to represent a triangle and implement methods to calculate area and perimeter.\n"
   ]
  },
  {
   "cell_type": "markdown",
   "metadata": {},
   "source": [
    "## Composition\n",
    "- class can include another class as a member\n",
    "- let's say we want to represent a rectangle in a 2-D coordinates (XY plane)\n",
    "- corner represents the top left point on a XY plane"
   ]
  },
  {
   "cell_type": "code",
   "execution_count": null,
   "metadata": {},
   "outputs": [],
   "source": [
    "class Rectangle:\n",
    "    \"\"\" A class to manufacture rectangle objects \"\"\"\n",
    "\n",
    "    def __init__(self, posn, w, h):\n",
    "        \"\"\" Initialize rectangle at posn, with width w, height h \"\"\"\n",
    "        self.corner = posn\n",
    "        self.width = w\n",
    "        self.height = h\n",
    "\n",
    "    def __str__(self):\n",
    "        return  \"({0}, {1}, {2})\".format(self.corner, self.width, self.height)\n"
   ]
  },
  {
   "cell_type": "code",
   "execution_count": null,
   "metadata": {},
   "outputs": [],
   "source": [
    "box = Rectangle(Point(0, 0), 100, 200)\n",
    "bomb = Rectangle(Point(100, 80), 5, 10)    # In my video game\n",
    "print(\"box: \", box)\n",
    "print(\"bomb: \", bomb)"
   ]
  },
  {
   "cell_type": "markdown",
   "metadata": {},
   "source": [
    "## Copying objects\n",
    "- can be challenging as assigning one object to another simply creates an alias\n",
    "    - does shallow copy\n",
    "- use `deepcopy` for the proper copy of objects"
   ]
  },
  {
   "cell_type": "code",
   "execution_count": null,
   "metadata": {},
   "outputs": [],
   "source": [
    "r1 = Rectangle(Point(1, 1), 10, 5)\n",
    "r2 = copy.copy(r1)"
   ]
  },
  {
   "cell_type": "code",
   "execution_count": null,
   "metadata": {},
   "outputs": [],
   "source": [
    "# r1 is not r2\n",
    "r1 is r2"
   ]
  },
  {
   "cell_type": "code",
   "execution_count": null,
   "metadata": {},
   "outputs": [],
   "source": [
    "# but two corners are same\n",
    "r1.corner is r2.corner"
   ]
  },
  {
   "cell_type": "code",
   "execution_count": null,
   "metadata": {},
   "outputs": [],
   "source": [
    "# let's test alias by moving r1 to a different location\n",
    "r1.corner.move(10, 10)"
   ]
  },
  {
   "cell_type": "code",
   "execution_count": null,
   "metadata": {},
   "outputs": [],
   "source": [
    "# you can see r2 is moved to that location as well\n",
    "print(r1)\n",
    "print(r2)"
   ]
  },
  {
   "cell_type": "code",
   "execution_count": null,
   "metadata": {},
   "outputs": [],
   "source": [
    "# fix: use deepcopy from copy module\n",
    "r3 = copy.deepcopy(r1)"
   ]
  },
  {
   "cell_type": "code",
   "execution_count": null,
   "metadata": {},
   "outputs": [],
   "source": [
    "r1 is r3"
   ]
  },
  {
   "cell_type": "code",
   "execution_count": null,
   "metadata": {},
   "outputs": [],
   "source": [
    "print(r1, r3)"
   ]
  },
  {
   "cell_type": "code",
   "execution_count": null,
   "metadata": {},
   "outputs": [],
   "source": [
    "r1.corner.move(20, 20)\n",
    "# r1 is moved but not r3\n",
    "print(r1, r3)"
   ]
  },
  {
   "cell_type": "markdown",
   "metadata": {},
   "source": [
    "## Class method types\n",
    "- there are three types of methods: `instance methods`, `class methods` and `static methods`\n",
    "\n",
    "- Python provides `@classmethod` and `@staticmethod` function decorators\n",
    "- `object/instance` methods take `self` (notational) or some parameter as the first argument that points to the instance\n",
    "    - which can then be used to act on instance data\n",
    "    - instance methods can freely access attributes and other methods on the same object\n",
    "    - intance methods are typical member functions\n",
    "    \n",
    "- class methods take class name (as a variable) as the first argument\n",
    "    - don't need instances; the class name is itself is used\n",
    "    - ususally `cls` or some parameter is used as the first argument that points to the class\n",
    "    - class method can only access and modify class attributes (state)\n",
    "    \n",
    "- static methods are much like `static` keyword in Java\n",
    "    - mainly contain logic pertaining to the class without the need for specific instance data\n",
    "    - static methods takes neither `self` nor `cls`\n",
    "    - can't acess both object attributes (state) and class attributes (state)\n",
    "    \n",
    "- for details: https://realpython.com/instance-class-and-static-methods-demystified/"
   ]
  },
  {
   "cell_type": "code",
   "execution_count": null,
   "metadata": {},
   "outputs": [],
   "source": [
    "# Simple demo\n",
    "class MyClass:\n",
    "    def method(self):\n",
    "        return 'instance method called', self\n",
    "\n",
    "    @classmethod\n",
    "    def classmethod(cls):\n",
    "        return 'class method called', cls\n",
    "\n",
    "    @staticmethod\n",
    "    def staticmethod():\n",
    "        return 'static method called'\n",
    "    "
   ]
  },
  {
   "cell_type": "code",
   "execution_count": null,
   "metadata": {},
   "outputs": [],
   "source": [
    "c = MyClass()"
   ]
  },
  {
   "cell_type": "code",
   "execution_count": null,
   "metadata": {},
   "outputs": [],
   "source": [
    "c.method()"
   ]
  },
  {
   "cell_type": "code",
   "execution_count": null,
   "metadata": {},
   "outputs": [],
   "source": [
    "MyClass.classmethod()"
   ]
  },
  {
   "cell_type": "code",
   "execution_count": null,
   "metadata": {},
   "outputs": [],
   "source": [
    "MyClass.staticmethod()"
   ]
  },
  {
   "cell_type": "code",
   "execution_count": null,
   "metadata": {},
   "outputs": [],
   "source": [
    "class Grades:\n",
    "    def __init__(self, grades):\n",
    "        self.grades = grades\n",
    "\n",
    "    @classmethod\n",
    "    def from_csv(cls, grade_csv_str):\n",
    "        grades = list(map(int, grade_csv_str.split(',')))\n",
    "        cls.validate(grades)\n",
    "        return cls(grades)\n",
    "\n",
    "\n",
    "    @staticmethod\n",
    "    def validate(grades):\n",
    "        for g in grades:\n",
    "            if g < 0 or g > 100:\n",
    "                raise Exception()\n"
   ]
  },
  {
   "cell_type": "code",
   "execution_count": null,
   "metadata": {},
   "outputs": [],
   "source": [
    "try:\n",
    "    # Try out some valid grades\n",
    "    class_grades_valid = Grades.from_csv('90,80,85,94,70')\n",
    "    print('Got grades:', class_grades_valid.grades)\n",
    "\n",
    "    # Should fail with invalid grades\n",
    "    class_grades_invalid = Grades.from_csv('92,-15,99,101,77,65,100')\n",
    "    print(class_grades_invalid.grades)\n",
    "except:\n",
    "    print('Invalid!')"
   ]
  },
  {
   "cell_type": "code",
   "execution_count": null,
   "metadata": {},
   "outputs": [],
   "source": [
    "# class_grades_valid object is created from valid grades\n",
    "print('Got grades:', class_grades_valid.grades)"
   ]
  },
  {
   "cell_type": "code",
   "execution_count": null,
   "metadata": {},
   "outputs": [],
   "source": [
    "# because of exception due to invalid grades, class_grades_invalid object is never created\n",
    "print(class_grades_invalid.grades)"
   ]
  }
 ],
 "metadata": {
  "kernelspec": {
   "display_name": "Python 3 (ipykernel)",
   "language": "python",
   "name": "python3"
  },
  "language_info": {
   "codemirror_mode": {
    "name": "ipython",
    "version": 3
   },
   "file_extension": ".py",
   "mimetype": "text/x-python",
   "name": "python",
   "nbconvert_exporter": "python",
   "pygments_lexer": "ipython3",
   "version": "3.10.8"
  }
 },
 "nbformat": 4,
 "nbformat_minor": 4
}
