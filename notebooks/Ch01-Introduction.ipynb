{
 "cells": [
  {
   "cell_type": "markdown",
   "metadata": {},
   "source": [
    "# Introduction\n",
    "<a href=\"https://colab.research.google.com/github/rambasnet/FDSPython-Notebooks/blob/master/notebooks/Ch01-Introduction.ipynb\" target=\"_parent\"><img src=\"https://colab.research.google.com/assets/colab-badge.svg\" alt=\"Open In Colab\"/></a>\n",
    "\n",
    "- HTML version of textbook: [http://openbookproject.net/thinkcs/python/english3e/way_of_the_program.html](http://openbookproject.net/thinkcs/python/english3e/way_of_the_program.html)\n",
    "- PDF version of textbook: [http://www.greenteapress.com/thinkpython/thinkCSpy/thinkCSpy.pdf](http://www.greenteapress.com/thinkpython/thinkCSpy/thinkCSpy.pdf)\n",
    "\n",
    "## Topics:\n",
    "- Python and its features\n",
    "- Ways to run Python code\n",
    "- The First Program and its anatomy\n",
    "- Computer program and its building blocks\n",
    "- Errors and Debugging\n",
    "\n",
    "## Python Programming Language\n",
    "\n",
    "- the single most important skill for a computer scientist is problem solving\n",
    "- Python is a tool that helps computer scientists and programmers solve problems by writing code\n",
    "- One of the most popular programming languages used in various fields: Data Science and Machine Learning, Security, Web Apps, etc.\n",
    "- Popularity of Python has been increasing over the years: https://www.tiobe.com/tiobe-index/"
   ]
  },
  {
   "cell_type": "markdown",
   "metadata": {},
   "source": [
    "## Python Features\n",
    "- high-level general purpose programming language such as PHP, Perl, Java, JavaScript, C++, etc.\n",
    "    - as opposed to low level machine language such as assembly\n",
    "- interpreted language; needs Python interpreter to execute Python code\n",
    "- platform independent/portable; python programs can be run in many platforms including Raspberry Pi\n",
    "- open source, can be freely downloaded and use: http://python.org\n",
    "- installed using Python package manager such as Anaconda or Miniconda: https://www.anaconda.com/download/\n",
    "- two versions Python 2.x and Python 3.x - Notebooks and the text use version 3.x which is the new standard"
   ]
  },
  {
   "cell_type": "markdown",
   "metadata": {},
   "source": [
    "## The Zen of Python\n",
    "\n",
    "- Pythoneer Tim Peters succinctly channels the Benevolent dictator for life (BDFL)'s guiding principles for Python's design into 20 aphorisms, only 19 of which have been written down\n",
    "- Python Enhancement Proposal (PEP) 20 : https://www.python.org/dev/peps/pep-0020/ describes the Zen\n",
    "- the following statement is hidden as Easter Egg which states the Zen"
   ]
  },
  {
   "cell_type": "code",
   "execution_count": 3,
   "metadata": {},
   "outputs": [
    {
     "name": "stdout",
     "output_type": "stream",
     "text": [
      "The Zen of Python, by Tim Peters\n",
      "\n",
      "Beautiful is better than ugly.\n",
      "Explicit is better than implicit.\n",
      "Simple is better than complex.\n",
      "Complex is better than complicated.\n",
      "Flat is better than nested.\n",
      "Sparse is better than dense.\n",
      "Readability counts.\n",
      "Special cases aren't special enough to break the rules.\n",
      "Although practicality beats purity.\n",
      "Errors should never pass silently.\n",
      "Unless explicitly silenced.\n",
      "In the face of ambiguity, refuse the temptation to guess.\n",
      "There should be one-- and preferably only one --obvious way to do it.\n",
      "Although that way may not be obvious at first unless you're Dutch.\n",
      "Now is better than never.\n",
      "Although never is often better than *right* now.\n",
      "If the implementation is hard to explain, it's a bad idea.\n",
      "If the implementation is easy to explain, it may be a good idea.\n",
      "Namespaces are one honking great idea -- let's do more of those!\n"
     ]
    }
   ],
   "source": [
    "import this"
   ]
  },
  {
   "cell_type": "markdown",
   "metadata": {},
   "source": [
    "## Learning and Writing Python Code\n",
    "- one must write code to learn it\n",
    "- Python provides interactive mode to practice and use Python for quick calculations such as a calculator\n",
    "- most use code editors to write long program also called scripts\n",
    "- use [pythontutor.com](http://www.pythontutor.com/) to visualize code execution\n",
    "\n",
    "### Python Development Environment\n",
    "\n",
    "- it's recommended to install a good set of programming tools such as Editor, version control software, etc. on your system and be familiar with them to become an effective problem solver\n",
    "- complete instructions on setting up development environment for Python on various Operating systems can be found here: https://github.com/rambasnet/DevEnvSetup\n",
    "\n",
    "### Chevron Prompt\n",
    "- Python provides a prompt on terminal to write Python in interactive mode\n",
    "    - like a calculator\n",
    "- Once Python is installed and configured correctly, open terminal and type Python\n",
    "- [python.org](https://www.python.org/) also provides online Python prompt\n",
    "\n",
    "```python\n",
    "    >>> 10 + 20.5\n",
    "    30.5\n",
    "    >>> print('Hello World!')\n",
    "    Hello World!\n",
    "```\n",
    "![Python Prompt](resources/PythonPrompt.png)\n",
    "\n",
    "### Jupyter Notebook\n",
    "- interactive notebook that can have live code, execution results and HTML, texts and multimedia contents!\n",
    "- great way to learn, experiment, and take notes while coding\n",
    "- Jupyter supports many programming languages such as C, C++, Java, JavaScript, etc.; Python is default!\n",
    "\n",
    "### Python Script \n",
    "- complete program written using a text editor or an Intergrated Development Environment (IDE) such as PyScripter, PyCharm, and Visual Studio (VS) Code, Nodepad++, etc.\n",
    "\n",
    "### Creating and running Python script\n",
    "- open  your favourite editor\n",
    "- create a hello.py file\n",
    "- type print('Hello World!') and save the file\n",
    "- run the script from a terminal\n",
    "\n",
    "```python\n",
    "python hello.py\n",
    "```"
   ]
  },
  {
   "cell_type": "markdown",
   "metadata": {},
   "source": [
    "## Computer Program\n",
    "- sequence of instructions that specifies how to perform a computation\n",
    "- some basic/fundamental concepts that make up a compupter program:\n",
    "    - variables, input, output, math, conditional execution and repition\n",
    "\n",
    "![Program Building Blocks](resources/BuildingBlocks.png)\n",
    "\n",
    "### variables\n",
    "- memory location where data/value can be stored\n",
    "\n",
    "### input\n",
    "- get data from keyboard, a file, or some device\n",
    "\n",
    "### output\n",
    "- display data/answer on screen, or save it to file or to a device\n",
    "\n",
    "### math\n",
    "- basic mathematical operations such as addition, subtraction, multiplication, etc.\n",
    "\n",
    "### conditional execution\n",
    "- check for certain condititions and execute appropriate sequence of statements\n",
    "\n",
    "### repitition\n",
    "- perform some action repeatedly, usually with some variation every time"
   ]
  },
  {
   "cell_type": "markdown",
   "metadata": {},
   "source": [
    "## Debugging\n",
    " - finding and getting rid of bugs/errors\n",
    " - as long as humans write computer codes, there'll be always errors in computer program\n",
    " - although frustrating at times, it is one of the most intellectually rich, challenging, and interesting part of programming"
   ]
  },
  {
   "cell_type": "markdown",
   "metadata": {},
   "source": [
    "## Coding Errors\n",
    "- errors are also called bugs\n",
    "- 3 types: syntax, run-time and semantic\n",
    "\n",
    "### Syntax errors\n",
    "- program needs to follow Python syntax or grammar\n",
    "- Python interpreter points out any syntax error when one tries to run the program\n",
    "- can't run the program if it has syntax errors"
   ]
  },
  {
   "cell_type": "markdown",
   "metadata": {},
   "source": [
    "### Run-time errors\n",
    "- also called run-time exceptions\n",
    "- these errors may appear while program is running under certain scenario\n",
    "- can be handled to certain extent by adequate testing\n",
    "\n",
    "### Semantic errors\n",
    "- program runs fine but gives wrong answer\n",
    "- also called logical errors which occur when the programmers may have misunderstanding of the language quarks or the problem statement or just plain wrong solution\n",
    "- can be identified and removed by adequate testing"
   ]
  },
  {
   "cell_type": "markdown",
   "metadata": {},
   "source": [
    " ## The First Python Program\n",
    " - python programs are usually called scripts\n",
    " - traditionally, Hello World is the first program one writes to learn the langauge"
   ]
  },
  {
   "cell_type": "code",
   "execution_count": 1,
   "metadata": {},
   "outputs": [
    {
     "name": "stdout",
     "output_type": "stream",
     "text": [
      "Hello World!\n"
     ]
    }
   ],
   "source": [
    "#----------------------------------------------------------\n",
    "# hello world program\n",
    "# by: John Doe\n",
    "# Jan 1 2017\n",
    "# Copyright: Anyone may freely copy or modify this program\n",
    "#----------------------------------------------------------\n",
    "\n",
    "print('Hello World!') # Say hello to the beautiful world!"
   ]
  },
  {
   "cell_type": "markdown",
   "metadata": {},
   "source": [
    "## Anatomy of a Python Script\n",
    "\n",
    "- python script typically consists of instructions (statments) and comments\n",
    "- instructions can be single line and independent or grouped together as a block\n",
    "- instructions are for computer to carry out certain computations\n",
    "\n",
    "\n",
    "## Comments\n",
    "\n",
    "- Python uses \\# symbol to write a single line comment\n",
    "- comments are for readers/programmers to convey/explain what the code is doing or supposed to do\n",
    "- Python interpreter ignores the comments after \\# symbol\n",
    "\n",
    "\n",
    "## Style Guide for Python Code\n",
    "\n",
    "- Python creater Guido Van Rossum et al. have published style guide to write beautiful and compliant Python code\n",
    "- guidelines can be found described on Python Enhancement Proposol (PEP) 8 here: https://www.python.org/dev/peps/pep-0008/\n",
    "- E.g. the guide says that comments must be complete sentence and must be capitalized!"
   ]
  },
  {
   "cell_type": "markdown",
   "metadata": {},
   "source": [
    "## Exercises\n",
    "\n",
    "### 1. Write a hello world script\n",
    "- write a python script that prints \"Hello World!\" as an output on the console\n",
    "\n",
    "### 2. ASCII Art\n",
    "- learn about ASCII Art\n",
    "- print some ASCII arts, texts of your choice\n",
    "- use ASCII Art text generator: http://patorjk.com/software/taag/#p=display&f=Graffiti&t=Type%20Something%20\n",
    "\n",
    "### 2. Write a script that prints various stages of the hangman game\n",
    "- game description: https://en.wikipedia.org/wiki/Hangman_(game)\n",
    "- produce the output seen in Example game section of the Wikipedia page\n",
    "\n",
    "## Kattis Problems\n",
    "### 1. hello problem\n",
    "- create a free account on Kattis: https://open.kattis.com/login\n",
    "- login and solve the hello problem: https://open.kattis.com/problems/hello\n",
    "\n",
    "### 2. Solve Velkomin!\n",
    "- solve the problem - velkomin [https://open.kattis.com/problems/velkomin](https://open.kattis.com/problems/velkomin)\n",
    "\n"
   ]
  },
  {
   "cell_type": "code",
   "execution_count": null,
   "metadata": {},
   "outputs": [],
   "source": []
  }
 ],
 "metadata": {
  "kernelspec": {
   "display_name": "Python 3 (ipykernel)",
   "language": "python",
   "name": "python3"
  },
  "language_info": {
   "codemirror_mode": {
    "name": "ipython",
    "version": 3
   },
   "file_extension": ".py",
   "mimetype": "text/x-python",
   "name": "python",
   "nbconvert_exporter": "python",
   "pygments_lexer": "ipython3",
   "version": "3.8.12"
  }
 },
 "nbformat": 4,
 "nbformat_minor": 4
}
